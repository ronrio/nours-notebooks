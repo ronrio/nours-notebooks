{
 "cells": [
  {
   "cell_type": "markdown",
   "metadata": {},
   "source": [
    "# Probabilistic State Estimation\n",
    "\n",
    "> This tutorial is implementation for [MIT state estimation class](https://ocw.mit.edu/courses/6-01sc-introduction-to-electrical-engineering-and-computer-science-i-spring-2011/pages/unit-4-probability-and-planning/state-estimation/) &\n",
    "[this](https://automaticaddison.com/how-to-derive-the-state-space-model-for-a-mobile-robot/)"
   ]
  },
  {
   "cell_type": "code",
   "execution_count": null,
   "metadata": {},
   "outputs": [],
   "source": [
    "#| default_exp probabilistic_state_estimation"
   ]
  },
  {
   "cell_type": "code",
   "execution_count": null,
   "metadata": {},
   "outputs": [],
   "source": [
    "#| hide\n",
    "import random"
   ]
  },
  {
   "cell_type": "code",
   "execution_count": null,
   "metadata": {},
   "outputs": [],
   "source": [
    "#| export\n",
    "class DDist:\n",
    "    def __init__(self, dictionary:dict) -> None:\n",
    "        self.d = dictionary\n",
    "    def prob(self, elt # an element of the domain of this distribution\n",
    "             ) -> float:\n",
    "        if elt in self.d:\n",
    "            return self.d[elt]\n",
    "        else:\n",
    "            return 0\n",
    "    def support(self):\n",
    "        return [k for k in self.d.keys() if self.prob(k) > 0]\n",
    "    @property\n",
    "    def dist(self):\n",
    "        return self.d\n",
    "    def draw(self):\n",
    "        r = random.random()\n",
    "        sum = 0.0\n",
    "        for val in self.support():\n",
    "            sum += self.prob(val)\n",
    "            if r < sum:\n",
    "                return val"
   ]
  },
  {
   "cell_type": "markdown",
   "metadata": {},
   "source": [
    "## Conditional Probabilities"
   ]
  },
  {
   "cell_type": "code",
   "execution_count": null,
   "metadata": {},
   "outputs": [],
   "source": [
    "def TgivenD(D):\n",
    "    if D == 'disease':\n",
    "        return DDist({'positive' : 0.99, 'negative' : 0.01})\n",
    "    elif D == 'nodisease':\n",
    "        return DDist({'positive' : 0.001, 'negative' : 0.999})\n",
    "    else:\n",
    "        raise Exception('invalid value for D')"
   ]
  },
  {
   "cell_type": "code",
   "execution_count": null,
   "metadata": {},
   "outputs": [
    {
     "data": {
      "text/plain": [
       "0.01"
      ]
     },
     "execution_count": null,
     "metadata": {},
     "output_type": "execute_result"
    }
   ],
   "source": [
    "TgivenD('disease').prob('negative')"
   ]
  },
  {
   "cell_type": "markdown",
   "metadata": {},
   "source": [
    "## Joint Probability Distribution\n",
    "\n",
    "> Excercise to estimate the joint distribution probability given $P(A)$ and $P(B|A)$."
   ]
  },
  {
   "cell_type": "code",
   "execution_count": null,
   "metadata": {},
   "outputs": [
    {
     "name": "stdout",
     "output_type": "stream",
     "text": [
      "PA.prob(a1): 0.9\n",
      "PBgA(a1).prob(b1): 0.7\n"
     ]
    }
   ],
   "source": [
    "#| hide\n",
    "# P(B | A)\n",
    "def PBgA(a:DDist) -> DDist:\n",
    "    if a == 'a1':\n",
    "        return DDist({'b1' : 0.7, 'b2' : 0.3})\n",
    "    else:\n",
    "        return DDist({'b1' : 0.2, 'b2' : 0.8})\n",
    "# P(A)\n",
    "PA = DDist({'a1' : 0.9, 'a2' : 0.1})\n",
    "print('PA.prob({}): {}'.format('a1', PA.prob('a1')))\n",
    "\n",
    "# P(B | A = a1)\n",
    "print('PBgA({}).prob({}): {}'.format('a1', 'b1', PBgA('a1').prob('b1')))"
   ]
  },
  {
   "cell_type": "code",
   "execution_count": null,
   "metadata": {},
   "outputs": [],
   "source": [
    "#| export\n",
    "# Calculate the join distribution probabilities.\n",
    "class JDist(DDist):\n",
    "    def __init__(self, PA:DDist # P(A)\n",
    "                 ,PBgA:callable # condtional probability P(B|A)\n",
    "                 ) -> DDist:\n",
    "        PAB = dict()\n",
    "        for a in PA.dist.keys():\n",
    "            PBgA_a = PBgA(a)\n",
    "            for b in PBgA_a.dist.keys():\n",
    "                PAB[(a,b)] = PA.prob(a) * PBgA_a.prob(b)\n",
    "        self.d = PAB\n",
    "    def marginalizeOut(self, \n",
    "                       idx:int # which random variable ..?\n",
    "                       ) -> DDist:\n",
    "        # A = a\n",
    "        symbolKeys = self.d.keys()\n",
    "        for key in symbolKeys:\n",
    "            s = key[idx]\n",
    "            \n",
    "        return\n",
    "    "
   ]
  },
  {
   "cell_type": "code",
   "execution_count": null,
   "metadata": {},
   "outputs": [
    {
     "data": {
      "text/plain": [
       "{('a1', 'b1'): 0.63,\n",
       " ('a1', 'b2'): 0.27,\n",
       " ('a2', 'b1'): 0.020000000000000004,\n",
       " ('a2', 'b2'): 0.08000000000000002}"
      ]
     },
     "execution_count": null,
     "metadata": {},
     "output_type": "execute_result"
    }
   ],
   "source": [
    "JDist(PA, PBgA).dist"
   ]
  },
  {
   "cell_type": "markdown",
   "metadata": {},
   "source": [
    "## Marginalization\n",
    "> Marginalize out A or B"
   ]
  },
  {
   "cell_type": "markdown",
   "metadata": {},
   "source": [
    "# State Space Model\n",
    "\n",
    "$$ X_{t} = \\begin{bmatrix} x_{t} \\\\ y_{t} \\\\ \\gamma_{t} \\end{bmatrix} = \\begin{bmatrix} x_{t-1} + v_{t-1} cos(\\gamma_{t-1}) * dt \\\\ y_{t-1} + v_{t-1} sin(\\gamma_{t-1}) * dt \\\\ \\gamma_{t-1} + \\omega_{t-1} * dt \\end{bmatrix} = \\begin{bmatrix} f_{1} \\\\ f_{2} \\\\ f_{3} \\end{bmatrix} $$\n",
    "\n",
    "where\n",
    "\n",
    "$$\n",
    "X_{t-1} = \\begin{bmatrix} x_{t-1} \\\\ y_{t-1} \\\\ \\gamma_{t-1} \\end{bmatrix} \n",
    "$$\n",
    "\n",
    "$$\n",
    "\\cos(\\gamma_{t-1}) = \\frac{v_{x_{t-1}}}{v_{t-1}}\n",
    "$$\n",
    "\n",
    "$$\n",
    "\\sin(\\gamma_{t-1}) = \\frac{v_{y_{t-1}}}{v_{t-1}}\n",
    "$$\n",
    "\n",
    "$$\n",
    "\\begin{bmatrix} x_{t} \\\\ y_{t} \\\\ \\gamma_{t} \\end{bmatrix} = A_{t-1} \\begin{bmatrix} x_{t-1} \\\\ y_{t-1} \\\\ \\gamma_{t-1} \\end{bmatrix} + B_{t-1} \\begin{bmatrix} v_{t-1} \\\\ \\omega_{t-1} \\end{bmatrix}\n",
    "$$\n",
    "\n",
    "***How to Calculate the A Matrix***\n",
    "\n",
    "Our system is expressed as a nonlinear system now because the state is a function of cosines and sines (which are nonlinear trigonometric operations).\n",
    "to “linearize” the nonlinear equations. To do this, we need to calculate the Jacobian, which is nothing more than a fancy name for **matrix of partial derivatives.**\n",
    "\n",
    "\n",
    "$$ \n",
    "A_{t-1} = \\begin{bmatrix}\n",
    "\\frac{\\partial f_{1}}{\\partial x_{t-1}} & \\frac{\\partial f_{1}}{\\partial y_{t-1}} & \\frac{\\partial f_{1}}{\\partial \\gamma_{t-1}} \\\\\n",
    "\\frac{\\partial f_{2}}{\\partial x_{t-1}} & \\frac{\\partial f_{2}}{\\partial y_{t-1}} & \\frac{\\partial f_{2}}{\\partial \\gamma_{t-1}} \\\\\n",
    "\\frac{\\partial f_{3}}{\\partial x_{t-1}} & \\frac{\\partial f_{3}}{\\partial y_{t-1}} & \\frac{\\partial f_{3}}{\\partial \\gamma_{t-1}} \\\\\n",
    "\\end{bmatrix}\n",
    "$$\n",
    "\n",
    "where\n",
    "\n",
    "$$\n",
    "\\frac{\\partial f_{1}}{\\partial x_{t-1}} = \\frac{\\partial(x_{t-1} + v_{t-1} cos(\\gamma_{t-1}) * dt)}{\\partial x_{t-1}} = \\frac{\\partial (x_{t-1})}{\\partial x_{t-1}} +  \\frac{\\partial (v_{t-1} cos(\\gamma_{t-1}) * dt)}{\\partial x_{t-1}} = 1 + 0 = 1\n",
    "$$\n",
    "\n",
    "Hence for the rest of the 9 partial derivatives, you will get $A_{t-1} = I_{3}$, ***This is due to the fact that robot on wheels only drives when the wheels are commanded to turn.***\n",
    "\n",
    "***How to Calculate the B Matrix***\n",
    "\n",
    "The B matrix has **the same number of rows as the number of states and has the same number of columns as the number of control inputs.**\n",
    "\n",
    "The control inputs in this example are the linear velocity (v) and the angular velocity around the z axis, ω (also known as the “yaw rate”).\n",
    "\n",
    "The B matrix expresses how the state of the system (i.e. [x,y,γ]) changes from t-1 to t due to the control commands (i.e. control inputs v and ω)\n",
    "\n",
    "$$\n",
    "B_{t-1} = \\begin{bmatrix}\n",
    "\\frac{\\partial f_{1}}{\\partial v_{t-1}} & \\frac{\\partial f_{1}}{\\partial \\omega_{t-1}} \\\\\n",
    "\\frac{\\partial f_{2}}{\\partial v_{t-1}} & \\frac{\\partial f_{2}}{\\partial \\omega_{t-1}} \\\\\n",
    "\\frac{\\partial f_{3}}{\\partial v_{t-1}} & \\frac{\\partial f_{3}}{\\partial \\omega_{t-1}} \\\\\n",
    "\\end{bmatrix} = \\begin{bmatrix}\n",
    "cos(\\gamma_{t-1}) * dt & 0 \\\\\n",
    "sin(\\gamma_{t-1}) * dt & 0 \\\\\n",
    "0 & dt\\\\\n",
    "\\end{bmatrix}\n",
    "$$\n",
    "\n",
    "***Putting It All Together***\n",
    "\n",
    "$$\n",
    "\\begin{bmatrix} x_{t} \\\\ y_{t} \\\\ \\gamma_{t} \\end{bmatrix} = A_{t-1} \\begin{bmatrix} x_{t-1} \\\\ y_{t-1} \\\\ \\gamma_{t-1} \\end{bmatrix} + B_{t-1} \\begin{bmatrix} v_{t-1} \\\\ \\omega_{t-1} \\end{bmatrix}\n",
    "$$\n",
    "\n",
    "$$\n",
    "\\begin{bmatrix} x_{t} \\\\ y_{t} \\\\ \\gamma_{t} \\end{bmatrix} = I_{3} \\begin{bmatrix} x_{t-1} \\\\ y_{t-1} \\\\ \\gamma_{t-1} \\end{bmatrix} + \\begin{bmatrix}\n",
    "cos(\\gamma_{t-1}) * dt & 0 \\\\\n",
    "sin(\\gamma_{t-1}) * dt & 0 \\\\\n",
    "0 & dt\\\\\n",
    "\\end{bmatrix} \\begin{bmatrix} v_{t-1} \\\\ \\omega_{t-1} \\end{bmatrix}\n",
    "$$\n",
    "\n",
    "> Additive noise can be added to each state as $noise_{t-1}$"
   ]
  },
  {
   "cell_type": "code",
   "execution_count": null,
   "metadata": {},
   "outputs": [],
   "source": [
    "#| export\n",
    "import numpy as np\n",
    "\n",
    "def calculate_B_matrix(yaw:float, dt:float=0.1) -> np.array:\n",
    "     \"\"\"\n",
    "     Calculates and returns the `B` matrix.\n",
    "\n",
    "     A 3x2 matrix (number of states x number of control inputs).\n",
    "     The control inputs are the forward speed and the\n",
    "     rotation rate around the z axis from the x-axis in the \n",
    "     counterclockwise direction.\n",
    "\n",
    "     [v, yaw_rate]\n",
    "\n",
    "     This matrix expresses how the state of the system [x,y,yaw] changes\n",
    "     from t-1 to t due to the control commands (i.e. control input).\n",
    "\n",
    "     Parameters\n",
    "     ----------\n",
    "     yaw\n",
    "          The yaw (rotation angle around the z axis) in radians.\n",
    "     dt\n",
    "          The change in time from time step t-1 to t in seconds.\n",
    "\n",
    "     Returns\n",
    "     -------\n",
    "     np.ndarray: The B matrix as a NumPy array.\n",
    "     \"\"\"\n",
    "     B = np.array([\n",
    "          [np.cos(yaw) * dt, 0],\n",
    "          [np.sin(yaw) * dt, 0],\n",
    "          [0, dt]\n",
    "     ])\n",
    "     return B"
   ]
  },
  {
   "cell_type": "code",
   "execution_count": null,
   "metadata": {},
   "outputs": [
    {
     "name": "stdout",
     "output_type": "stream",
     "text": [
      "State at time t-1: [0. 0. 0.]\n",
      "Control input at time t-1: [4.5  0.05]\n",
      "State at time t: [4.51  0.01  0.053]\n"
     ]
    }
   ],
   "source": [
    "# Author: Addison Sears-Collins\n",
    "# https://automaticaddison.com\n",
    "# Description: A state space model for a differential drive mobile robot\n",
    "\n",
    "# A matrix\n",
    "# 3x3 matrix -> number of states x number of states matrix\n",
    "# Expresses how the state of the system [x,y,yaw] changes \n",
    "# from t-1 to t when no control command is executed.\n",
    "# Typically a robot on wheels only drives when the wheels are commanded\n",
    "# to turn.\n",
    "# For this case, A is the identity matrix.\n",
    "# A is sometimes F in the literature.\n",
    "A_t_minus_1 = np.eye(3)\n",
    "\n",
    "# The estimated state vector at time t-1 in the global \n",
    "# reference frame\n",
    "# [x_t_minus_1, y_t_minus_1, yaw_t_minus_1]\n",
    "# [meters, meters, radians]\n",
    "state_estimate_t_minus_1 = np.array([0.0, 0.0, 0.0])\n",
    "\n",
    "# The control input vector at time t-1 in the global \n",
    "# reference frame\n",
    "# [v, yaw_rate]\n",
    "# [meters/second, radians/second]\n",
    "# In the literature, this is commonly u.\n",
    "control_vector_t_minus_1 = np.array([4.5, 0.05])\n",
    "\n",
    "process_noise_v_t_minus_1 = np.array([0.01, 0.01, 0.003])\n",
    "process_noise_v_t_minus_1 = np.array([0.01, 0.01, 0.003])\n",
    "\n",
    "yaw_angle = 0.0  # radians\n",
    "dt = 1.0  # seconds\n",
    "\n",
    "def main():\n",
    "    \"\"\"\n",
    "    Main function to calculate and print the state estimate at time t.\n",
    "    \"\"\"\n",
    "    state_estimate_t = (\n",
    "        A_t_minus_1 @ state_estimate_t_minus_1 +\n",
    "        calculate_B_matrix(yaw_angle, dt) @ control_vector_t_minus_1 +\n",
    "        process_noise_v_t_minus_1\n",
    "    )\n",
    "\n",
    "    print(f'State at time t-1: {state_estimate_t_minus_1}')\n",
    "    print(f'Control input at time t-1: {control_vector_t_minus_1}')\n",
    "    print(f'State at time t: {state_estimate_t}')  # State after dt seconds\n",
    "\n",
    "if __name__ == \"__main__\":\n",
    "    main()\n"
   ]
  },
  {
   "cell_type": "markdown",
   "metadata": {},
   "source": [
    "# Observation Model\n",
    "\n",
    "An observation model (also known as measurement model or sensor model) is a mathematical equation that represents a vector of predicted sensor measurements y at time t as a function of the state of a robotic system x at time t, plus some sensor noise (because sensors aren’t 100% perfect) at time t, denoted by vector $w_{t}$.\n",
    "\n",
    "$$\n",
    "    y_{t} = Hx_{t} + w_{t}\n",
    "$$\n",
    "\n",
    "where\n",
    "\n",
    "$$\n",
    "\\begin{bmatrix} y_{1}^{t} \\\\ y_{2}^{t} \\\\ \\vdots \\\\ y_{n}^{t} \\end{bmatrix} = H^{t}_{nx^{3}} \\begin{bmatrix} x_{t} \\\\ y_{t} \\\\ \\gamma_{t} \\end{bmatrix} + \\begin{bmatrix} w_{1} \\\\ w_{2} \\\\ \\vdots \\\\ w_{n} \\end{bmatrix}\n",
    "$$\n",
    "\n",
    "***How to Calculate the H Matrix***\n",
    "\n",
    "In this case, H will be the identity matrix since the estimated state maps directly to sensor measurements [x, y, yaw]. \n",
    "\n",
    "H has the same number of rows as **sensor measurements** and the same number of columns as **states**.  $H_{t} = I_{3}$\n",
    "\n",
    "What if, for example, you had a landmark in your environment. How does the current state of the robot enable you to calculate the distance (i.e. range) to the landmark r and the bearing angle b to the landmark?\n",
    "\n",
    "<p align=\"center\">\n",
    "  <img src=\"https://automaticaddison.com/wp-content/uploads/2020/12/observation-model-7JPG.jpg\" alt=\"landmark\">\n",
    "</p>\n",
    "\n",
    "Using the Pythagorean Theorem and trigonometry, we get the following equations for the range r and bearing b:\n",
    "\n",
    "$$\n",
    " r = \\sqrt{(x_{t} - x_{landmark})^2 + (y_{t} - y_{landmark})^2} \\\\\n",
    " b = \\mathrm{atan2}(y_{t} - y_{landmark}, x_{t} - x_{landmark}) - \\gamma_{t}\n",
    "$$\n",
    "\n",
    "Let’s put this in matrix form.\n",
    "\n",
    "$$\n",
    "\\begin{bmatrix} r \\\\ b \\end{bmatrix} = \\begin{bmatrix} h_{1} \\\\ h_{2} \\end{bmatrix} = \\begin{bmatrix} \\sqrt{(x_{t} - x_{landmark})^2 + (y_{t} - y_{landmark})^2} \\\\ \\mathrm{atan2}(y_{t} - y_{landmark}, x_{t} - x_{landmark}) - \\gamma_{t} \\end{bmatrix}\n",
    "$$\n",
    "\n",
    "Let’s linearize the model to create a linear observation model of the following form:\n",
    "\n",
    "$$\n",
    "\\begin{bmatrix} y_{1}^{t} \\\\ y_{2}^{t} \\\\ \\vdots \\\\ y_{n}^{t} \\end{bmatrix} = H^{t}_{nx^{3}} \\begin{bmatrix} x_{t} \\\\ y_{t} \\\\ \\gamma_{t} \\end{bmatrix} + \\begin{bmatrix} w_{1} \\\\ w_{2} \\\\ \\vdots \\\\ w_{n} \\end{bmatrix}\n",
    "$$\n",
    "\n",
    "$$\n",
    "H_{t} = \\begin{bmatrix}\n",
    "\\frac{\\partial r}{\\partial x_{t}} & \\frac{\\partial r}{\\partial y_{t}} & \\frac{\\partial r}{\\partial \\gamma_{t}} \\\\\n",
    "\\frac{\\partial b}{\\partial x_{t}} & \\frac{\\partial b}{\\partial y_{t}} & \\frac{\\partial b}{\\partial \\gamma_{t}} \\\\\n",
    "\\end{bmatrix} = \\begin{bmatrix}\n",
    "\\frac{x_{t} - x_{L}}{ \\sqrt{(x_{t} - x_{L})^2 + (y_{t} - y_{L})^2}} & \\frac{y_{t} - y_{L}}{ \\sqrt{(x_{t} - x_{L})^2 + (y_{t} - y_{L})^2}} & 0 \\\\\n",
    "\\frac{-(y_{t} - y_{L})}{(x_{t} - x_{L})^2 + (y_{t} - y_{L})^2} & \\frac{(x_{t} - x_{L})}{(x_{t} - x_{L})^2 + (y_{t} - y_{L})^2} & -1 \\\\\n",
    "\\end{bmatrix} \n",
    "$$\n",
    "\n",
    "$$\n",
    "\\begin{bmatrix} y_{1}^{t}\\end{bmatrix} = \\begin{bmatrix}\n",
    "\\frac{x_{t} - x_{L}}{ \\sqrt{(x_{t} - x_{L})^2 + (y_{t} - y_{L})^2}} & \\frac{y_{t} - y_{L}}{ \\sqrt{(x_{t} - x_{L})^2 + (y_{t} - y_{L})^2}} & 0 \\\\\n",
    "\\frac{-(y_{t} - y_{L})}{(x_{t} - x_{L})^2 + (y_{t} - y_{L})^2} & \\frac{(x_{t} - x_{L})}{(x_{t} - x_{L})^2 + (y_{t} - y_{L})^2} & -1 \\\\\n",
    "\\end{bmatrix} \\begin{bmatrix} x_{t} \\\\ y_{t} \\\\ \\gamma_{t} \\end{bmatrix} + \\begin{bmatrix} w_{r} \\\\ w_{b} \\end{bmatrix}\n",
    "$$\n",
    "\n",
    "Equivalently, in some literature, you might see that all the stuff above is equal to:\n",
    "\n",
    "$$\n",
    "h(\\hat{x}_{t|t-1})\n",
    "$$"
   ]
  },
  {
   "cell_type": "code",
   "execution_count": null,
   "metadata": {},
   "outputs": [
    {
     "name": "stdout",
     "output_type": "stream",
     "text": [
      "State at time t: [5.2    2.8    1.5708]\n",
      "Estimated sensor observations at time t: [5.27   2.87   1.6108]\n"
     ]
    }
   ],
   "source": [
    "# Author: Addison Sears-Collins\n",
    "# https://automaticaddison.com\n",
    "# Description: An observation model for a differential drive mobile robot\n",
    " \n",
    "# Measurement matrix H_t\n",
    "# Used to convert the predicted state estimate at time t\n",
    "# into predicted sensor measurements at time t.\n",
    "# In this case, H will be the identity matrix since the \n",
    "# estimated state maps directly to state measurements from the \n",
    "# odometry data [x, y, yaw]\n",
    "# H has the same number of rows as sensor measurements\n",
    "# and same number of columns as states.\n",
    "H_t = np.array([    [1.0,  0,   0],\n",
    "                    [  0,1.0,   0],\n",
    "                    [  0,  0, 1.0]])\n",
    "                 \n",
    "# Sensor noise. This is a vector with the\n",
    "# number of elements equal to the number of sensor measurements.\n",
    "sensor_noise_w_t = np.array([0.07,0.07,0.04])\n",
    "                         \n",
    "# The estimated state vector at time t in the global \n",
    "# reference frame\n",
    "# [x_t, y_t, yaw_t]\n",
    "# [meters, meters, radians]\n",
    "state_estimate_t = np.array([5.2,2.8,1.5708])\n",
    " \n",
    "def main():\n",
    " \n",
    "    estimated_sensor_observation_y_t = H_t @ (\n",
    "            state_estimate_t) + (\n",
    "            sensor_noise_w_t)\n",
    " \n",
    "    print(f'State at time t: {state_estimate_t}')\n",
    "    print(f'Estimated sensor observations at time t: {estimated_sensor_observation_y_t}')\n",
    " \n",
    "main()"
   ]
  },
  {
   "cell_type": "markdown",
   "metadata": {},
   "source": [
    "# The Jacobian\n",
    "\n",
    "Consider the following non-linear function:\n",
    "\n",
    "$$ \n",
    "f(x,y) = \\begin{bmatrix} sin(x) + y^2 \\\\ cos(y) + x^2 \\end{bmatrix} = \\begin{bmatrix} f_{1} \\\\ f_{2} \\end{bmatrix}\n",
    "$$\n",
    "\n",
    "The Jacobian matrix of this function is a 2x2 matrix containing the partial derivatives of each output with respect to each input.\n",
    "\n",
    "$$ \n",
    "J = \\begin{bmatrix}  \\frac{\\partial  f_{1}}{\\partial x} && \\frac{\\partial f_{1}}{\\partial y} \\\\ \\frac{\\partial f_{2}}{\\partial y}  && \\frac{\\partial f_{2}}{\\partial y} \\end{bmatrix} \\\\[10pts]\n",
    "\n",
    "\\frac{\\partial  f_{1}}{\\partial x} =  \\frac{\\partial  (sin(x) + y^2)}{\\partial x} = \\frac{\\partial (sin(x))}{{\\partial x}} + \\frac{\\partial (y^2)}{\\partial x} = cos(x) + 0 = cos(x) \\\\[10pts]\n",
    "\n",
    "\\frac{\\partial  f_{1}}{\\partial y} =  \\frac{\\partial  (sin(x) + y^2)}{\\partial y} = \\frac{\\partial (sin(x))}{{\\partial y}} + \\frac{\\partial (y^2)}{\\partial y} = 0 + 2y = 2y \\\\[10pts]\n",
    "\n",
    "\\frac{\\partial  f_{2}}{\\partial x} =  \\frac{\\partial  (cos(y) + x^2)}{\\partial x} = \\frac{\\partial (cos(y))}{{\\partial x}} + \\frac{\\partial (x^2)}{\\partial x} = 0 + 2x = 2x \\\\[10pts]\n",
    "\n",
    "\\frac{\\partial  f_{2}}{\\partial y} =  \\frac{\\partial  (cos(y) + x^2)}{\\partial y} = \\frac{\\partial (cos(y))}{{\\partial y}} + \\frac{\\partial (x^2)}{\\partial y} = -sin(y) + 0 = -sin(y) \\\\[10pts]\n",
    "\n",
    "J = \\begin{bmatrix}  cos(x) && 2y \\\\ 2x && -sin(y) \\end{bmatrix} \\\\[10pts]\n",
    "$$"
   ]
  },
  {
   "cell_type": "markdown",
   "metadata": {},
   "source": [
    "### Symbolic Computation of the Jacobian"
   ]
  },
  {
   "cell_type": "code",
   "execution_count": 3,
   "metadata": {},
   "outputs": [
    {
     "name": "stdout",
     "output_type": "stream",
     "text": [
      "Symbolic Jacobian matrix:\n",
      "⎡cos(x)    2⋅y  ⎤\n",
      "⎢               ⎥\n",
      "⎣ 2⋅x    -sin(y)⎦\n",
      "⎡ 2         ⎤\n",
      "⎢y  + sin(x)⎥\n",
      "⎢           ⎥\n",
      "⎢ 2         ⎥\n",
      "⎣x  + cos(y)⎦\n"
     ]
    }
   ],
   "source": [
    "#| export\n",
    "import sympy as sp\n",
    "\n",
    "# Define the symbols\n",
    "x, y = sp.symbols('x y')\n",
    "\n",
    "# Define the function\n",
    "f1 = sp.sin(x) + y**2\n",
    "f2 = sp.cos(y) + x**2\n",
    "f = sp.Matrix([f1, f2])\n",
    "\n",
    "# Compute the Jacobian matrix\n",
    "J = f.jacobian([x, y])\n",
    "\n",
    "# Print the Jacobian matrix\n",
    "print(\"Symbolic Jacobian matrix:\")\n",
    "sp.pprint(J)\n",
    "sp.pprint(f)\n"
   ]
  },
  {
   "cell_type": "code",
   "execution_count": null,
   "metadata": {},
   "outputs": [],
   "source": [
    "x, y, xm, ym, xl, yl = sp.symbols('x y x_m y_m x_l y_l')\n",
    "\n",
    "xdiff = sp.sq "
   ]
  },
  {
   "cell_type": "code",
   "execution_count": 42,
   "metadata": {},
   "outputs": [
    {
     "name": "stdout",
     "output_type": "stream",
     "text": [
      "Symbolic Jacobian matrix:\n",
      "⎡0  0  0⎤\n",
      "⎢       ⎥\n",
      "⎣0  0  0⎦\n",
      "⎡         2⎤\n",
      "⎢(xₗ - xₘ) ⎥\n",
      "⎢          ⎥\n",
      "⎢         2⎥\n",
      "⎣(yₗ - yₘ) ⎦\n"
     ]
    }
   ],
   "source": [
    "import sympy as sp\n",
    "\n",
    "# Define the symbols\n",
    "x, y, x_m, y_m, x_l, y_l, theta = sp.symbols('x y x_m y_m x_l y_l theta')\n",
    "\n",
    "# Define the function for the difference in x\n",
    "r_m = sp.sqrt((x - x_m)**2 + (y - y_m)**2)\n",
    "phi_m = sp.atan2(y - y_m, x - x_m) - theta\n",
    "xdiff_m = x + r_m * sp.cos(theta + phi_m)\n",
    "\n",
    "r_l = sp.sqrt((x - x_l)**2 + (y - y_l)**2)\n",
    "phi_l = sp.atan2(y - y_l, x - x_l) - theta\n",
    "xdiff_l = x + r_l * sp.cos(theta + phi_l)\n",
    "\n",
    "# Define the function for the difference in y\n",
    "ydiff_m = y + r_m * sp.sin(theta + phi_m)\n",
    "ydiff_l = y + r_l * sp.sin(theta + phi_l)\n",
    "\n",
    "\n",
    "# Combine the terms\n",
    "xdiff = (xdiff_m - xdiff_l)**2\n",
    "\n",
    "ydiff = (ydiff_m - ydiff_l)**2\n",
    "\n",
    "f = sp.Matrix([xdiff, ydiff])\n",
    "\n",
    "# Compute the Jacobian matrix\n",
    "J = f.jacobian([x, y, theta])\n",
    "\n",
    "# Print the Jacobian matrix\n",
    "print(\"Symbolic Jacobian matrix:\")\n",
    "sp.pprint(J)\n",
    "sp.pprint(f)"
   ]
  },
  {
   "cell_type": "code",
   "execution_count": null,
   "metadata": {},
   "outputs": [
    {
     "name": "stdout",
     "output_type": "stream",
     "text": [
      "Numerical Jacobian matrix:\n",
      "[[ 0.5402981   4.00001   ]\n",
      " [ 2.00001    -0.90929535]]\n"
     ]
    }
   ],
   "source": [
    "import numpy as np\n",
    "\n",
    "def f(vec):\n",
    "    x, y = vec\n",
    "    return np.array([np.sin(x) + y**2, np.cos(y) + x**2])\n",
    "\n",
    "def jacobian(f, vec, eps=1e-5):\n",
    "    n = len(vec)\n",
    "    jac = np.zeros((n, n))\n",
    "    f0 = f(vec)\n",
    "    for i in range(n):\n",
    "        vec_eps = np.copy(vec)\n",
    "        vec_eps[i] += eps\n",
    "        f1 = f(vec_eps)\n",
    "        jac[:, i] = (f1 - f0) / eps\n",
    "    return jac\n",
    "\n",
    "# Example input\n",
    "vec = np.array([1.0, 2.0])\n",
    "\n",
    "# Compute the Jacobian matrix numerically\n",
    "J_num = jacobian(f, vec)\n",
    "\n",
    "print(\"Numerical Jacobian matrix:\")\n",
    "print(J_num)"
   ]
  },
  {
   "cell_type": "code",
   "execution_count": null,
   "metadata": {},
   "outputs": [],
   "source": [
    "#| hide\n",
    "from nbdev.showdoc import *"
   ]
  },
  {
   "cell_type": "code",
   "execution_count": null,
   "metadata": {},
   "outputs": [],
   "source": [
    "#| hide\n",
    "import nbdev; nbdev.nbdev_export()"
   ]
  }
 ],
 "metadata": {
  "kernelspec": {
   "display_name": "python3",
   "language": "python",
   "name": "python3"
  },
  "language_info": {
   "codemirror_mode": {
    "name": "ipython",
    "version": 3
   },
   "file_extension": ".py",
   "mimetype": "text/x-python",
   "name": "python",
   "nbconvert_exporter": "python",
   "pygments_lexer": "ipython3",
   "version": "3.8.10"
  }
 },
 "nbformat": 4,
 "nbformat_minor": 2
}
