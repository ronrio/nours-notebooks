{
 "cells": [
  {
   "cell_type": "markdown",
   "metadata": {},
   "source": [
    "# Probabilistic State Estimation\n",
    "\n",
    "> This tutorial is implementation for [MIT state estimation class](https://ocw.mit.edu/courses/6-01sc-introduction-to-electrical-engineering-and-computer-science-i-spring-2011/pages/unit-4-probability-and-planning/state-estimation/)"
   ]
  },
  {
   "cell_type": "code",
   "execution_count": null,
   "metadata": {},
   "outputs": [],
   "source": [
    "#| default_exp probabilistic_state_estimation"
   ]
  },
  {
   "cell_type": "code",
   "execution_count": null,
   "metadata": {},
   "outputs": [],
   "source": [
    "#| hide\n",
    "import random"
   ]
  },
  {
   "cell_type": "code",
   "execution_count": null,
   "metadata": {},
   "outputs": [],
   "source": [
    "#| export\n",
    "class DDist:\n",
    "    def __init__(self, dictionary:dict) -> None:\n",
    "        self.d = dictionary\n",
    "    def prob(self, elt # an element of the domain of this distribution\n",
    "             ) -> float:\n",
    "        if elt in self.d:\n",
    "            return self.d[elt]\n",
    "        else:\n",
    "            return 0\n",
    "    def support(self):\n",
    "        return [k for k in self.d.keys() if self.prob(k) > 0]\n",
    "    @property\n",
    "    def dist(self):\n",
    "        return self.d\n",
    "    def draw(self):\n",
    "        r = random.random()\n",
    "        sum = 0.0\n",
    "        for val in self.support():\n",
    "            sum += self.prob(val)\n",
    "            if r < sum:\n",
    "                return val"
   ]
  },
  {
   "cell_type": "markdown",
   "metadata": {},
   "source": [
    "## Conditional Probabilities"
   ]
  },
  {
   "cell_type": "code",
   "execution_count": null,
   "metadata": {},
   "outputs": [],
   "source": [
    "def TgivenD(D):\n",
    "    if D == 'disease':\n",
    "        return DDist({'positive' : 0.99, 'negative' : 0.01})\n",
    "    elif D == 'nodisease':\n",
    "        return DDist({'positive' : 0.001, 'negative' : 0.999})\n",
    "    else:\n",
    "        raise Exception('invalid value for D')"
   ]
  },
  {
   "cell_type": "code",
   "execution_count": null,
   "metadata": {},
   "outputs": [
    {
     "data": {
      "text/plain": [
       "0.01"
      ]
     },
     "execution_count": null,
     "metadata": {},
     "output_type": "execute_result"
    }
   ],
   "source": [
    "TgivenD('disease').prob('negative')"
   ]
  },
  {
   "cell_type": "markdown",
   "metadata": {},
   "source": [
    "## Joint Probability Distribution\n",
    "\n",
    "> Excercise to estimate the joint distribution probability given $P(A)$ and $P(B|A)$."
   ]
  },
  {
   "cell_type": "markdown",
   "metadata": {},
   "source": [
    "![General definition for join probability distribution for an arbitrary number of random variables.](joint_prob_dist.png)"
   ]
  },
  {
   "cell_type": "code",
   "execution_count": null,
   "metadata": {},
   "outputs": [
    {
     "name": "stdout",
     "output_type": "stream",
     "text": [
      "PA.prob(a1): 0.9\n",
      "PBgA(a1).prob(b1): 0.7\n"
     ]
    }
   ],
   "source": [
    "#| hide\n",
    "# P(B | A)\n",
    "def PBgA(a:DDist) -> DDist:\n",
    "    if a == 'a1':\n",
    "        return DDist({'b1' : 0.7, 'b2' : 0.3})\n",
    "    else:\n",
    "        return DDist({'b1' : 0.2, 'b2' : 0.8})\n",
    "# P(A)\n",
    "PA = DDist({'a1' : 0.9, 'a2' : 0.1})\n",
    "print('PA.prob({}): {}'.format('a1', PA.prob('a1')))\n",
    "\n",
    "# P(B | A = a1)\n",
    "print('PBgA({}).prob({}): {}'.format('a1', 'b1', PBgA('a1').prob('b1')))"
   ]
  },
  {
   "cell_type": "code",
   "execution_count": null,
   "metadata": {},
   "outputs": [],
   "source": [
    "#| export\n",
    "# Calculate the join distribution probabilities.\n",
    "class JDist(DDist):\n",
    "    def __init__(self, PA:DDist # P(A)\n",
    "                 ,PBgA:callable # condtional probability P(B|A)\n",
    "                 ) -> DDist:\n",
    "        PAB = dict()\n",
    "        for a in PA.dist.keys():\n",
    "            PBgA_a = PBgA(a)\n",
    "            for b in PBgA_a.dist.keys():\n",
    "                PAB[(a,b)] = PA.prob(a) * PBgA_a.prob(b)\n",
    "        self.d = PAB\n",
    "    def marginalizeOut(self, \n",
    "                       idx:int # which random variable ..?\n",
    "                       ) -> DDist:\n",
    "        # A = a\n",
    "        symbolKeys = self.d.keys()\n",
    "        for key in symbolKeys:\n",
    "            s = key[idx]\n",
    "            \n",
    "        return\n",
    "    "
   ]
  },
  {
   "cell_type": "code",
   "execution_count": null,
   "metadata": {},
   "outputs": [
    {
     "data": {
      "text/plain": [
       "{('a1', 'b1'): 0.63,\n",
       " ('a1', 'b2'): 0.27,\n",
       " ('a2', 'b1'): 0.020000000000000004,\n",
       " ('a2', 'b2'): 0.08000000000000002}"
      ]
     },
     "execution_count": null,
     "metadata": {},
     "output_type": "execute_result"
    }
   ],
   "source": [
    "JDist(PA, PBgA).dist"
   ]
  },
  {
   "cell_type": "markdown",
   "metadata": {},
   "source": [
    "## Marginalization\n",
    "> Marginalize out A or B"
   ]
  },
  {
   "cell_type": "code",
   "execution_count": null,
   "metadata": {},
   "outputs": [],
   "source": []
  },
  {
   "cell_type": "code",
   "execution_count": null,
   "metadata": {},
   "outputs": [],
   "source": [
    "#| hide\n",
    "from nbdev import show_doc"
   ]
  },
  {
   "cell_type": "code",
   "execution_count": null,
   "metadata": {},
   "outputs": [
    {
     "data": {
      "text/markdown": [
       "---\n",
       "\n",
       "### DDist.prob\n",
       "\n",
       ">      DDist.prob (elt)\n",
       "\n",
       "|    | **Type** | **Details** |\n",
       "| -- | -------- | ----------- |\n",
       "| elt |  | an element of the domain of this distribution |\n",
       "| **Returns** | **float** |  |"
      ],
      "text/plain": [
       "---\n",
       "\n",
       "### DDist.prob\n",
       "\n",
       ">      DDist.prob (elt)\n",
       "\n",
       "|    | **Type** | **Details** |\n",
       "| -- | -------- | ----------- |\n",
       "| elt |  | an element of the domain of this distribution |\n",
       "| **Returns** | **float** |  |"
      ]
     },
     "execution_count": null,
     "metadata": {},
     "output_type": "execute_result"
    }
   ],
   "source": [
    "show_doc(DDist.prob)"
   ]
  },
  {
   "cell_type": "code",
   "execution_count": null,
   "metadata": {},
   "outputs": [],
   "source": [
    "#| hide\n",
    "import nbdev; nbdev.nbdev_export()"
   ]
  }
 ],
 "metadata": {
  "kernelspec": {
   "display_name": "python3",
   "language": "python",
   "name": "python3"
  }
 },
 "nbformat": 4,
 "nbformat_minor": 2
}
