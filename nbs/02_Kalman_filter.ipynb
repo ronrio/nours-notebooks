{
 "cells": [
  {
   "cell_type": "markdown",
   "metadata": {},
   "source": [
    "# Kalman Filter\n",
    "\n",
    "> This Tutorial is fetched from [Kalman Filter](https://medium.com/@ab.jannatpour/kalman-filter-with-python-code-98641017a2bd)\n",
    "\n",
    "Initialize the filter with an initial estimate of the state and the associated uncertainty (covariance)\n",
    "At each time step:\n",
    "\n",
    "a. Prediction step: use the model of the system’s dynamics to predict the state of the system at the next time step based on the current estimate of the state\n",
    "b. Correction step:\n",
    "i. Compute the Kalman gain, which is a measure of how much the new measurement data should be trusted relative to the prediction\n",
    "\n",
    "ii. Update the estimate of the state based on the new measurement data and the Kalman gain.\n",
    "\n",
    "iii. Update the uncertainty (covariance) of the estimate\n",
    "\n",
    "The output of the filter is the estimated state of the system at each time step."
   ]
  },
  {
   "cell_type": "code",
   "execution_count": 2,
   "metadata": {},
   "outputs": [],
   "source": [
    "#| default_exp kalman_filter"
   ]
  },
  {
   "cell_type": "code",
   "execution_count": 3,
   "metadata": {},
   "outputs": [],
   "source": [
    "#| hide\n",
    "import numpy as np\n",
    "from scipy.linalg import inv"
   ]
  },
  {
   "cell_type": "code",
   "execution_count": 4,
   "metadata": {},
   "outputs": [
    {
     "name": "stdout",
     "output_type": "stream",
     "text": [
      "Symbolic Jacobian matrix:\n",
      "⎡cos(x)    2⋅y  ⎤\n",
      "⎢               ⎥\n",
      "⎣ 2⋅x    -sin(y)⎦\n",
      "⎡ 2         ⎤\n",
      "⎢y  + sin(x)⎥\n",
      "⎢           ⎥\n",
      "⎢ 2         ⎥\n",
      "⎣x  + cos(y)⎦\n"
     ]
    }
   ],
   "source": [
    "#| export\n",
    "import numpy as np\n",
    "from nours_notebooks.probabilistic_state_estimation import calculate_B_matrix\n",
    "\n",
    "# Linear Kalman Filter\n",
    "class KalmanFilter:\n",
    "    def __init__(self, transition_matrix:np.array, # system model\n",
    "                 measurment_matrix:np.array, # measurement model\n",
    "                 state_estimate:np.array, # initial state\n",
    "                 state_cov:np.array, # initial state covariance]\n",
    "                 process_noise_cov:np.array, # process noise covariance\n",
    "                 measurement_noise_cov:np.array # measurement noise covariance\n",
    "                 ) -> None:\n",
    "        self.A = transition_matrix\n",
    "        self.H = measurment_matrix\n",
    "        self.x = state_estimate\n",
    "        self.P = state_cov\n",
    "        self.Q = process_noise_cov\n",
    "        self.R = measurement_noise_cov\n",
    "\n",
    "    def predict(self, dk:float=1.0, # delta time\n",
    "                u:np.array=np.zeros((2,)), # control inputs 2x1 Numpy Array\n",
    "                w:np.array=np.zeros((3,)) # process noises, 3x1 NumPy Array\n",
    "                ) -> None:\n",
    "        \"\"\" \n",
    "        Predict the state estimate at time k based on the state \n",
    "        estimate at time k-1 and the control input applied at time k-1.\n",
    "        \"\"\"\n",
    "        self.x_predicted = (self.A @ self.x) + (calculate_B_matrix(self.x[2], dk) @ u) + w\n",
    "        self.P_predicted = self.A @ self.P @ self.A.T + self.Q\n",
    "\n",
    "    def calculate_y_residual(self, z:np.array, # sensor measurement 3x1 NumPy Array\n",
    "                                v:np.array # observation noise 3x1 NumPy Array\n",
    "                             ) -> np.array:\n",
    "        \"\"\"\n",
    "        Calculate the difference between the actual sensor measurements\n",
    "        at time k minus what the measurement(observation) model predicted.\n",
    "        the sensor measurements would be for the current timestep k.\n",
    "        \"\"\"\n",
    "        return z - ((self.H @ self.x_predicted) + v)\n",
    "    \n",
    "    def calculate_residual_cov(self) -> np.array:\n",
    "        return self.H @ self.P_predicted @ self.H.T + self.R\n",
    "\n",
    "    def compute_kalman_gain(self) -> np.array: # Kalman Gain\n",
    "        \"\"\"\n",
    "        Calculate the near-optimal Kalman gain\n",
    "        We use pseudoinverse since some of the matrices might be\n",
    "        non-square or singular.\n",
    "        \"\"\"\n",
    "        # innovation covariance\n",
    "        self.S = self.calculate_residual_cov()\n",
    "        return self.P_predicted @ self.H.T @ np.linalg.pinv(self.S)\n",
    "\n",
    "    def update(self, z:np.array, # sensor measurement 3x1 NumPy Array\n",
    "               v:np.array=np.zeros((3, 1)) # sensor noise 3x1 NumPy Array\n",
    "               ) -> None:\n",
    "        \"\"\"\n",
    "        Update state estimate for time k.\n",
    "        Update the state covariance estimate for time k.\n",
    "        \"\"\"\n",
    "        self.y_residual = self.calculate_y_residual(z, v)\n",
    "        self.K = self.compute_kalman_gain()\n",
    "        x_estimated = self.x_predicted + (self.K @ self.y_residual)\n",
    "        P_estimated = self.P_predicted - self.K @ self.H @ self.P_predicted\n",
    "        self.x = x_estimated\n",
    "        self.P = P_estimated\n"
   ]
  },
  {
   "cell_type": "markdown",
   "metadata": {},
   "source": [
    "## Simple Kalman Filter"
   ]
  },
  {
   "cell_type": "code",
   "execution_count": 5,
   "metadata": {},
   "outputs": [
    {
     "name": "stdout",
     "output_type": "stream",
     "text": [
      "Estimated position: -0.10511427956031394\n",
      "Estimated position: 0.9818152586890655\n",
      "Estimated position: 1.9740867719461677\n",
      "Estimated position: 2.974678961258452\n",
      "Estimated position: 3.9405528661115192\n",
      "Estimated position: 4.941625637972043\n",
      "Estimated position: 5.987559662622105\n",
      "Estimated position: 7.0568092927812325\n",
      "Estimated position: 8.125157941515708\n",
      "Estimated position: 9.122498266140997\n"
     ]
    }
   ],
   "source": [
    "# Initialize the filter with an initial estimate of the position and the associated uncertainty (covariance)\n",
    "x_estimated = 0\n",
    "P_estimated = 1\n",
    "\n",
    "# Define the velocity and the process noise\n",
    "velocity = 1\n",
    "process_noise = 0.1\n",
    "\n",
    "# Define the measurement noise\n",
    "measurement_noise = 0.1\n",
    "\n",
    "for i in range(10):\n",
    "    # Generate a measurement with some random noise\n",
    "    measurement = i + np.random.normal(0, measurement_noise)\n",
    "\n",
    "    # Prediction step\n",
    "    x_predicted = x_estimated + velocity\n",
    "    P_predicted = P_estimated + process_noise\n",
    "\n",
    "    # Correction step\n",
    "    K = P_predicted / (P_predicted + measurement_noise)\n",
    "    x_estimated = x_predicted + K * (measurement - x_predicted)\n",
    "    P_estimated = (1 - K) * P_predicted\n",
    "\n",
    "    # Print the estimated position\n",
    "    print(\"Estimated position: {}\".format(x_estimated))"
   ]
  },
  {
   "cell_type": "markdown",
   "metadata": {},
   "source": [
    "## What is the Control Variable Matrix?"
   ]
  },
  {
   "cell_type": "markdown",
   "metadata": {},
   "source": [
    "The control variable matrix, B, represents the relationship between the control input and the state matrix. The control input is any external inputs that affect the system being modeled, such as a force applied to a moving object. The control variable matrix maps the control input to the state matrix, so that the effect of the control input can be incorporated into the filter’s estimates.\n",
    "\n",
    "For example, if the system being modeled is a moving object, and the control input is a force applied to the object, the control variable matrix would map the force to the acceleration of the object, so that the filter can estimate the object’s new position and velocity based on the applied force.\n",
    "\n",
    "The control variable matrix is a matrix of coefficients that multiply the control input to give the effect on the state.\n",
    "\n",
    "The control variable matrix, B, is defined as a matrix with the same size as the state matrix, and it is multiplied with the control input vector u, to give an effect on the state.\n",
    "\n",
    "For example, if the system is a simple linear system with 2 states and 1 control input, the state matrix x and control input vector u, the control variable matrix B can be represented as"
   ]
  },
  {
   "cell_type": "markdown",
   "metadata": {},
   "source": [
    "## What is a Covariance Matrix?"
   ]
  },
  {
   "cell_type": "markdown",
   "metadata": {},
   "source": [
    "A covariance matrix, also known as a variance-covariance matrix, is a matrix that describes the level of co-variation between different variables in a given dataset. It is often used in statistics and signal processing, including in the Kalman filter.\n",
    "\n",
    "A covariance matrix is a square matrix of size n x n, where n is the number of variables in the dataset. Each element in the matrix represents the covariance between two variables. The diagonal elements of the matrix represent the variances of each individual variable, and the off-diagonal elements represent the covariances between the different variables.\n",
    "\n",
    "For example, in the case of a Kalman filter, the covariance matrix, P, represents the uncertainty of the state matrix, x. It describes the co-variation between the different elements of the state matrix, such as position and velocity. The diagonal elements of the matrix represent the variances of the position and velocity estimates, and the off-diagonal elements represent the covariances between the position and velocity estimates.\n",
    "\n",
    "A standard deviation is a measure of how spread out a dataset is. It is the square root of the variance of a variable.\n",
    "\n",
    "It is an important concept in Kalman filter as it is used to estimate the uncertainty of the state matrix and also it helps in determining the Kalman gain, which is used in the correction step.\n",
    "\n",
    "***\n",
    "$$\n",
    "P_{predicted} = A \\cdot P_{estimated} \\cdot A^T + Q\n",
    "$$\n",
    "$$\n",
    "K = P_{predicted} \\cdot H^T \\cdot (H \\cdot P_{predicted} \\cdot H^T + R)^{-1}\n",
    "$$\n",
    "$$\n",
    "P_{estimated} = P_{predicted} — K \\cdot H \\cdot P_{predicted}\n",
    "$$\n",
    "\n",
    "***"
   ]
  },
  {
   "cell_type": "code",
   "execution_count": 6,
   "metadata": {},
   "outputs": [
    {
     "name": "stdout",
     "output_type": "stream",
     "text": [
      "Covariance matrix: \n",
      " [[9. 9. 9.]\n",
      " [9. 9. 9.]\n",
      " [9. 9. 9.]]\n",
      "Standard deviation: \n",
      " [2.44948974 2.44948974 2.44948974]\n"
     ]
    }
   ],
   "source": [
    "# Define the data matrix\n",
    "data = np.array([[1, 2, 3], [4, 5, 6], [7, 8, 9]])\n",
    "\n",
    "# Center the data\n",
    "centered_data = data - np.mean(data, axis=0)\n",
    "\n",
    "# Calculate the covariance matrix\n",
    "cov_matrix = np.cov(centered_data.T)\n",
    "\n",
    "# Calculate the standard deviation\n",
    "std_dev = np.std(data, axis=0)\n",
    "\n",
    "print(\"Covariance matrix: \\n\", cov_matrix)\n",
    "print(\"Standard deviation: \\n\", std_dev)"
   ]
  },
  {
   "cell_type": "markdown",
   "metadata": {},
   "source": [
    "## Simple Kalman Filter 2D"
   ]
  },
  {
   "cell_type": "code",
   "execution_count": 7,
   "metadata": {},
   "outputs": [
    {
     "name": "stdout",
     "output_type": "stream",
     "text": [
      "Estimated x_position:  0.02018305073379073\n",
      "Estimated velocity:  5.03082748302432\n",
      "Covariance matrix: \n",
      " [[0.09098446 0.00088545]\n",
      " [0.00088545 0.09098446]]\n",
      "Estimated x_position:  0.2715569330712122\n",
      "Estimated velocity:  4.5926247548299735\n",
      "Covariance matrix: \n",
      " [[0.0500446  0.00473165]\n",
      " [0.00473165 0.05215498]]\n",
      "Estimated x_position:  0.5267185363035549\n",
      "Estimated velocity:  4.186094211668022\n",
      "Covariance matrix: \n",
      " [[0.03718643 0.00727804]\n",
      " [0.00727804 0.04106952]]\n",
      "Estimated x_position:  0.7776991873856433\n",
      "Estimated velocity:  3.8300216217999163\n",
      "Covariance matrix: \n",
      " [[0.03160685 0.00908047]\n",
      " [0.00908047 0.0367094 ]]\n",
      "Estimated x_position:  1.017912043067356\n",
      "Estimated velocity:  3.5245287286029527\n",
      "Covariance matrix: \n",
      " [[0.02881901 0.01033421]\n",
      " [0.01033421 0.03468728]]\n"
     ]
    }
   ],
   "source": [
    "# Define time step\n",
    "dt = 0.1\n",
    "\n",
    "# Define the initial position, velocity, and acceleration\n",
    "x0 = 0\n",
    "v0 = 5\n",
    "a = -9.8\n",
    "\n",
    "# Define the state transition matrix\n",
    "A = np.array([[1, dt], [0, 1]])\n",
    "\n",
    "# Define the control variable matrix\n",
    "B = np.array([[0.5*dt**2], [dt]])\n",
    "\n",
    "# Define the control input\n",
    "u = np.array([[a]])\n",
    "\n",
    "# Define the initial state matrix\n",
    "x_estimated = np.array([[x0], [v0]])\n",
    "\n",
    "# Define the measurement matrix\n",
    "H = np.array([[1, 0], [0, 1]])\n",
    "\n",
    "# Define the measurement noise\n",
    "R = np.array([[0.1, 0], [0, 0.1]])\n",
    "\n",
    "# Define the process noise\n",
    "Q = np.array([[0.01, 0.01], [0.01, 0.02]])\n",
    "\n",
    "# Define the measurement\n",
    "measurement = np.array([[x0 + np.random.normal(0, 0.1)], [v0 + np.random.normal(0, 0.1)]])\n",
    "\n",
    "# Define the estimated covariance\n",
    "P_estimated = np.eye(2)\n",
    "\n",
    "for i in range(5):\n",
    "    # Prediction step\n",
    "    x_predicted = np.dot(A, x_estimated) + np.dot(B, u)\n",
    "    P_predicted = np.dot(A, np.dot(P_estimated, A.T)) + Q\n",
    "\n",
    "    # Correction step\n",
    "    K = np.dot(P_predicted, np.dot(H.T, np.linalg.inv(np.dot(H, np.dot(P_predicted, H.T)) + R)))\n",
    "    x_estimated = x_predicted + np.dot(K, (measurement - np.dot(H, x_predicted)))\n",
    "    P_estimated = np.dot((np.eye(2) - np.dot(K, H)), P_predicted)\n",
    "\n",
    "    # Print the estimated position and velocity\n",
    "    print(\"Estimated x_position: \", x_estimated[0][0])\n",
    "    print(\"Estimated velocity: \", x_estimated[1][0])\n",
    "    print(\"Covariance matrix: \\n\", P_estimated)"
   ]
  },
  {
   "cell_type": "markdown",
   "metadata": {},
   "source": [
    "## Airplane Tracking"
   ]
  },
  {
   "cell_type": "markdown",
   "metadata": {},
   "source": [
    "A flowchart for a 2-D Kalman filter for tracking an airplane would typically include the following steps:\n",
    "\n",
    "1. **Initialization**: Define the state matrix, X, which includes the position and velocity of the airplane in the x and y directions. Define the state transition matrix, A, which describes how the state matrix changes over time. Define the measurement matrix, H, which describes how the state matrix is related to the measurement. Define the measurement noise matrix, R, which represents the uncertainty in the measurement. Define the process noise matrix, Q, which represents the uncertainty in the process.\n",
    "\n",
    "2. **Prediction**: Use the state transition matrix, A, to predict the next state of the system based on the current state. Incorporate the process noise, Q, into the prediction to account for uncertainty.\n",
    "\n",
    "3. **Measurement Update**: Compare the predicted state matrix with the measurement. Use the Kalman gain, K, to weigh the importance of the prediction and the measurement in the update. Update the state matrix based on the measurement.\n",
    "\n",
    "4. **Covariance Update**: Update the state covariance matrix, P, based on the measurement and the prediction.\n",
    "\n",
    "5. **Repeat**: Repeat steps 2–4 at each time step, using the updated state matrix and state covariance matrix as inputs for the next prediction step.\n"
   ]
  },
  {
   "cell_type": "markdown",
   "metadata": {},
   "source": [
    "# Extended Kalman Filter\n",
    "\n",
    "> As a prerequiste, please refer to `State Space Model` and `Observation Model`. To see the implementation details, refer to the source notebook [01_probablistic_state_estimation](01_probablistic_state_estimation.ipynb) and [this blog](https://automaticaddison.com/extended-kalman-filter-ekf-with-python-code-example).\n",
    "\n",
    "Consider the following equation\n",
    "\n",
    "**Next State = 4 * (Current State) + 3**\n",
    "\n",
    "This is the equation of a line. The regular Kalman Filter can be used on systems like this.\n",
    "\n",
    "Now, consider this equation\n",
    "\n",
    "**Next State = Current State + 17 * cos(Current State)**\n",
    "\n",
    "This equation is nonlinear. If you were to plot it on a graph, you would see that it is not the graph of a straight line. The regular Kalman Filter won’t work on systems like this. So what do we do?\n",
    "\n",
    "Fortunately, mathematics can help us linearize nonlinear equations like the one above. Once we linearize this equation, we can then use it in the regular Kalman Filter.\n",
    "\n",
    "If you were to zoom in to an arbitrary point on a nonlinear curve, you would see that it would look very much like a line. With the Extended Kalman Filter, we convert the nonlinear equation into a linearized form using a special matrix called the Jacobian. We then use this linearized form of the equation to complete the Kalman Filtering process.\n",
    "\n",
    "## EKF Algorithm\n",
    "\n",
    "**1. Initialization**: \n",
    "\n",
    "<p align=\"center\">\n",
    "  <img src=\"https://automaticaddison.com/wp-content/uploads/2020/12/ekf46JPG.jpg\" alt=\"robot environment\">\n",
    "</p>\n",
    "\n",
    "State Estimate:\n",
    "\n",
    "$$\n",
    "\\hat{x}_{k-1|k-1} = \\begin{bmatrix} x_{k-1} \\\\ y_{k-1} \\\\ \\gamma_{k-1} \\end{bmatrix} = \\begin{bmatrix} 0 \\\\ 0 \\\\ 0 \\end{bmatrix}\n",
    "$$\n",
    "\n",
    "Control input vector(forward and angular velocties):\n",
    "\n",
    "$$\n",
    "u_{k-1} = \\begin{bmatrix} v_{k-1} \\\\ w_{k-1} \\end{bmatrix} = \\begin{bmatrix} 0 \\\\ 0 \\end{bmatrix}\n",
    "$$\n",
    "\n",
    "\n",
    "\n",
    "**2. Predicted State Estimate**\n",
    "\n",
    "$$\n",
    "\\hat{x}_{k|k-1} = f(\\hat{x}_{k-1|k-1}, u_{k})\n",
    "$$\n",
    "\n",
    "$$\n",
    "x_{t} = \\hat{x}_{k|k-1} = A_{k-1}x_{k-1} + B_{k-1}u_{k-1}\n",
    "$$\n",
    "\n",
    "\n",
    "**3. Predicted Covariance of the State Estimate**\n",
    "\n",
    "$$\n",
    "P_{k|k-1} = F_{k} P_{k-1|k-1} F_{k}^{T} + Q_{k}\n",
    "$$\n",
    "\n",
    "$$\n",
    "P_{k-1|k-1} = \\begin{bmatrix} 0.1 & 0 & 0 \\\\  0 & 0.1 & 0 \\\\ 0 & 0 & 0.1 \\end{bmatrix}\n",
    "$$\n",
    "\n",
    "$$\n",
    "F_{k} = A = I_{3}\n",
    "$$\n",
    "\n",
    "$$\n",
    "Q_{k} = \\begin{bmatrix} \\mathrm{Var}(x) & \\mathrm{Cov}(x, y) & \\mathrm{Cov}(x, \\gamma) \\\\  \\mathrm{Cov}(y, x) & \\mathrm{Var}(y) & \\mathrm{Cov}(y, \\gamma) \\\\ \\mathrm{Cov}(\\gamma, x) & \\mathrm{Cov}(\\gamma, y) & \\mathrm{Var}(\\gamma) \\end{bmatrix}\n",
    "$$\n",
    "\n",
    "$$\n",
    "Q_{k-1|k-1} = I_{3}\n",
    "$$\n",
    "\n",
    "`Q` represents how much the actual motion deviates from your assumed state space model. It is a square matrix that has the same number of rows and columns as there are states.\n",
    "\n",
    "When `Q` is large, the EKF tracks large changes in the sensor measurements more closely than for smaller `Q`. \n",
    "\n",
    "In other words, ***when `Q` is large, it means we trust our actual sensor observations more than we trust our predicted sensor measurements from the observation model.***\n",
    "\n",
    "\n",
    "\n",
    "**4. Innovation or Measurement Residual**\n",
    "\n",
    "$$\n",
    "  \\tilde{y}_{k} = z_{k} - h(\\hat{x}_{k|k-1})\n",
    "$$\n",
    "\n",
    "$$\n",
    "  h(\\hat{x}_{k|k-1}) = H_{k}\\hat{x}_{k|k-1} + w_{k}\n",
    "$$\n",
    "\n",
    "We calculate the difference between actual sensor observations and predicted sensor observations.\n",
    "\n",
    "- $z_{k}$ is the observation vector. It is a vector of the actual readings from our sensors at time `k`.\n",
    "- Sensor noise assumption $w_{k}$ ***(which is a vector with the same number of elements as there are sensor measurements)***\n",
    "- Measurement matrix $H_{k}$ ***(which is used to convert the predicted state estimate at time k into predicted sensor measurements at time k)***\n",
    "\n",
    "In case, we have a sensor mounted on our mobile robot that is able to make direction measurements of the state `[x,y,yaw angle]`. In this example, `H` is the identity matrix. ***(It has the same number of rows as sensor measurements and same number of columns as the number of states)***\n",
    "\n",
    "**5. Innovation (or residual) Covariance**\n",
    "\n",
    "To calculate $S_{k}$, which represents the measurement residual covariance (also known as measurement prediction covariance).\n",
    "\n",
    "$$\n",
    "  S_{k} = H_{k} P_{k|k-1} H_{k}^{T} + R_{k}\n",
    "$$\n",
    "\n",
    "$R_{k}$ ***(sensor measurement noise covariance matrix…which is a covariance matrix that has the same number of rows as sensor measurements and same number of columns as sensor measurements)***\n",
    "\n",
    "\n",
    "**6. Near-optimal Kalman Gain**\n",
    "\n",
    "$$\n",
    "K_{k} = P_{k|k-1} H_{k}^{T} S_{k}^{-1}\n",
    "$$\n",
    "\n",
    "`K` indicates how much the state and covariance of the state predictions should be corrected (see Steps 7 and 8 below) as a result of the new actual sensor measurements ($z_{k}$).\n",
    "\n",
    "If sensor measurement noise is large, then K approaches 0, and sensor measurements will be mostly ignored.\n",
    "\n",
    "If prediction noise (using the dynamical model/physics of the system) is large, then K approaches 1, and sensor measurements will dominate the estimate of the state `[x,y,yaw angle]`.\n",
    "\n",
    "\n",
    "**7. Update State Estimate**\n",
    "\n",
    "$$\n",
    "\\hat{x}_{k|k} = \\hat{x}_{k|k-1} + K_{k} \\tilde{y}_{k}\n",
    "$$\n",
    "\n",
    "This step answers the all-important question: ***What is the state of the robotic system after seeing the new sensor measurement? It is our best estimate for the state of the robotic system at the current timestep `k`.***\n",
    "\n",
    "**8. Updated Covariance of the State Estimate**\n",
    "\n",
    "$$\n",
    "P_{k|k} = (I - K_{k} H_{k}) P_{k|k-1}\n",
    "$$\n",
    "\n",
    "This step answers the question: ***What is the covariance of the state of the robotic system after seeing the fresh sensor measurements?***"
   ]
  },
  {
   "cell_type": "code",
   "execution_count": 8,
   "metadata": {},
   "outputs": [],
   "source": [
    "#| export\n",
    "class EKF(KalmanFilter):\n",
    "    def __init__(self, transition_matrix:np.array, # system model\n",
    "                 measurement_matrix:np.array, # measurement model\n",
    "                 state_estimate:np.array, # initial state\n",
    "                 state_cov:np.array, # initial state covariance]\n",
    "                 process_noise_cov:np.array, # process noise covariance\n",
    "                 measurement_noise_cov:np.array, # measurement noise covariance\n",
    "                 state_transition_jacobian: np.array, # Jacobian of the state transition function\n",
    "                 measurement_jacobian: np.array # Jacobian of the observation function\n",
    "                 ) -> None:\n",
    "    \n",
    "        super().__init__(transition_matrix,\n",
    "                       measurement_matrix,\n",
    "                       state_estimate,\n",
    "                       state_cov,\n",
    "                       process_noise_cov,\n",
    "                       measurement_noise_cov)\n",
    "        self.A_jacobian = state_transition_jacobian\n",
    "        self.H_jacobian = measurement_jacobian\n",
    "        \n",
    "    def predict(self, dk:float=0.1, # delta time\n",
    "                u:np.array=np.zeros((2,)), # The control input vector at time k-1 in the global reference frame. [v, yaw_rate]\n",
    "                w:np.array=np.zeros((3,)) # process noises, 3x1 NumPy Array\n",
    "                ) -> None:\n",
    "        super().predict(dk, u, w)\n",
    "\n",
    "    def update(self, z:np.array, # sensor measurement 1x3 NumPy Array\n",
    "                v:np.array # sensor noise 3x1 NumPy Array\n",
    "                ) -> None:\n",
    "        super().update(z, v)"
   ]
  },
  {
   "cell_type": "code",
   "execution_count": 9,
   "metadata": {},
   "outputs": [
    {
     "name": "stdout",
     "output_type": "stream",
     "text": [
      "Timestep k=1\n",
      "State Estimate Before EKF=[4.51e+00 1.00e-02 3.00e-03]\n",
      "Observation=[4.721 0.143 0.006]\n",
      "State Estimate After EKF=[ 4.58385714  0.043      -0.01638095]\n",
      "\n",
      "Timestep k=2\n",
      "State Estimate Before EKF=[ 9.0932534  -0.02071099 -0.01338095]\n",
      "Observation=[9.353e+00 2.840e-01 7.000e-03]\n",
      "State Estimate After EKF=[ 9.20781739  0.12100131 -0.02522642]\n",
      "\n",
      "Timestep k=3\n",
      "State Estimate Before EKF=[13.71638562  0.01749448 -0.02222642]\n",
      "Observation=[1.4773e+01 4.2200e-01 9.0000e-03]\n",
      "State Estimate After EKF=[14.32408288  0.22353049 -0.02763043]\n",
      "\n",
      "Timestep k=4\n",
      "State Estimate Before EKF=[18.83236525  0.10920935 -0.02463043]\n",
      "Observation=[1.8246e+01 5.5500e-01 1.1000e-02]\n",
      "State Estimate After EKF=[18.42690971  0.34134596 -0.02732964]\n",
      "\n",
      "Timestep k=5\n",
      "State Estimate Before EKF=[22.93522927  0.22837789 -0.02432964]\n",
      "Observation=[2.2609e+01 7.1500e-01 1.2000e-02]\n",
      "State Estimate After EKF=[22.69036377  0.48584594 -0.02659788]\n",
      "\n"
     ]
    }
   ],
   "source": [
    "#| hide\n",
    "# A matrix\n",
    "# 3x3 matrix -> number of states x number of states matrix\n",
    "# Expresses how the state of the system [x,y,yaw] changes \n",
    "# from k-1 to k when no control command is executed.\n",
    "# Typically a robot on wheels only drives when the wheels are told to turn.\n",
    "# For this case, A is the identity matrix.\n",
    "# A is sometimes F in the literature.\n",
    "A_k_minus_1 = np.array([[1.0,  0,   0],\n",
    "                                                [  0,1.0,   0],\n",
    "                                                [  0,  0, 1.0]])\n",
    " \n",
    "# Noise applied to the forward kinematics (calculation\n",
    "# of the estimated state at time k from the state\n",
    "# transition model of the mobile robot). This is a vector\n",
    "# with the number of elements equal to the number of states\n",
    "process_noise_v_k_minus_1 = np.array([0.01,0.01,0.003])\n",
    "     \n",
    "# State model noise covariance matrix Q_k\n",
    "# When Q is large, the Kalman Filter tracks large changes in \n",
    "# the sensor measurements more closely than for smaller Q.\n",
    "# Q is a square matrix that has the same number of rows as states.\n",
    "Q_k = np.array([[1.0,   0,   0],\n",
    "                                [  0, 1.0,   0],\n",
    "                                [  0,   0, 1.0]])\n",
    "                 \n",
    "# Measurement matrix H_k\n",
    "# Used to convert the predicted state estimate at time k\n",
    "# into predicted sensor measurements at time k.\n",
    "# In this case, H will be the identity matrix since the \n",
    "# estimated state maps directly to state measurements from the \n",
    "# odometry data [x, y, yaw]\n",
    "# H has the same number of rows as sensor measurements\n",
    "# and same number of columns as states.\n",
    "H_k = np.array([[1.0,  0,   0],\n",
    "                                [  0,1.0,   0],\n",
    "                                [  0,  0, 1.0]])\n",
    "                         \n",
    "# Sensor measurement noise covariance matrix R_k\n",
    "# Has the same number of rows and columns as sensor measurements.\n",
    "# If we are sure about the measurements, R will be near zero.\n",
    "R_k = np.array([[1.0,   0,    0],\n",
    "                                [  0, 1.0,    0],\n",
    "                                [  0,    0, 1.0]])  \n",
    "                 \n",
    "# Sensor noise. This is a vector with the\n",
    "# number of elements equal to the number of sensor measurements.\n",
    "sensor_noise_w_k = np.array([0.07,0.07,0.04])\n",
    "\n",
    "# We start at time k=1\n",
    "k = 1\n",
    "    \n",
    "# Time interval in seconds\n",
    "dk = 1\n",
    "\n",
    "# Create a list of sensor observations at successive timesteps\n",
    "# Each list within z_k is an observation vector.\n",
    "z_k = np.array([[4.721,0.143,0.006], # k=1\n",
    "                [9.353,0.284,0.007], # k=2\n",
    "                [14.773,0.422,0.009],# k=3\n",
    "                [18.246,0.555,0.011], # k=4\n",
    "                [22.609,0.715,0.012]])# k=5\n",
    "                    \n",
    "# The estimated state vector at time k-1 in the global reference frame.\n",
    "# [x_k_minus_1, y_k_minus_1, yaw_k_minus_1]\n",
    "# [meters, meters, radians]\n",
    "state_estimate_k_minus_1 = np.array([0.0,0.0,0.0])\n",
    "    \n",
    "# The control input vector at time k-1 in the global reference frame.\n",
    "# [v, yaw_rate]\n",
    "# [meters/second, radians/second]\n",
    "# In the literature, this is commonly u.\n",
    "# Because there is no angular velocity and the robot begins at the \n",
    "# origin with a 0 radians yaw angle, this robot is traveling along \n",
    "# the positive x-axis in the global reference frame.\n",
    "control_vector_k_minus_1 = np.array([4.5,0.0])\n",
    "    \n",
    "# State covariance matrix P_k_minus_1\n",
    "# This matrix has the same number of rows (and columns) as the \n",
    "# number of states (i.e. 3x3 matrix). P is sometimes referred\n",
    "# to as Sigma in the literature. It represents an estimate of \n",
    "# the accuracy of the state estimate at time k made using the\n",
    "# state transition matrix. We start off with guessed values.\n",
    "P_k_minus_1 = np.array([[0.1,  0,   0],\n",
    "                                                [  0,0.1,   0],\n",
    "                                                [  0,  0, 0.1]])\n",
    "                            \n",
    "# Start at k=1 and go through each of the 5 sensor observations, \n",
    "# one at a time. \n",
    "# We stop right after timestep k=5 (i.e. the last sensor observation)\n",
    "ekfObj = EKF(transition_matrix = A_k_minus_1,\n",
    "            measurement_matrix = H_k,\n",
    "            state_estimate = state_estimate_k_minus_1,\n",
    "            state_cov = P_k_minus_1,\n",
    "            process_noise_cov = Q_k,\n",
    "            measurement_noise_cov = R_k,\n",
    "            state_transition_jacobian = np.zeros((1,1)),\n",
    "            measurement_jacobian = np.zeros((1,1)))\n",
    "\n",
    "v = sensor_noise_w_k\n",
    "w = process_noise_v_k_minus_1\n",
    "\n",
    "for k, obs_vector_z_k in enumerate(z_k,start=1):\n",
    "    \n",
    "    # Print the current timestep\n",
    "    print(f'Timestep k={k}')  \n",
    "    \n",
    "    ekfObj.predict(dk, control_vector_k_minus_1, w)\n",
    "    ekfObj.update(obs_vector_z_k, v)\n",
    "    print(f'State Estimate Before EKF={ekfObj.x_predicted}')\n",
    "    print(f'Observation={obs_vector_z_k}')\n",
    "    print(f'State Estimate After EKF={ekfObj.x}')\n",
    "    print()\n"
   ]
  },
  {
   "cell_type": "markdown",
   "metadata": {},
   "source": [
    "## Extended Kalman Filter (EKF) Localization with unknown correspondences\n",
    "\n",
    "$$\n",
    "    \\mu_{t} = \\begin{bmatrix} x_{t} \\\\ y_{t} \\\\ \\theta_{t} \\end{bmatrix} \\quad \\text{is the state}\n",
    "$$\n",
    "\n",
    "$$\n",
    "    \\Sigma_{t} = \\begin{bmatrix} \\mathrm{Var}(x) & \\mathrm{Cov}(x, y) & \\mathrm{Cov}(x, \\theta) \\\\\n",
    "                \\mathrm{Cov}(y, x) & \\mathrm{Var}(y) & \\mathrm{Cov}(y, \\theta) \\\\\n",
    "                \\mathrm{Cov}(\\theta, x) & \\mathrm{Cov}(\\theta, y) & \\mathrm{Var}(\\theta) \\end{bmatrix} \\quad \\text{is the state covariance}\n",
    "$$\n",
    "\n",
    "**1. Predict**\n",
    "\n",
    "$$\n",
    "\\overline{\\mu}_{t} = \\mu_{t-1} + u\n",
    "$$\n",
    "\n",
    "$$\n",
    "\\overline{\\Sigma}_{t} = G_{t} \\Sigma_{t-1} G_{t}^{T} + R_{t}\n",
    "$$\n",
    "\n",
    "where\n",
    "\n",
    "$$\n",
    "    \\overline{\\mu}_{t} \\quad \\text{is the predicted state} \\\\\n",
    "    \\mu_{t-1} \\quad \\text{ is current state} \\\\\n",
    "    u = \\Delta \\mu_{t} \\quad \\text{ is delta motion} \\\\\n",
    "    \\overline{\\Sigma}_{t} \\quad \\text{is the predicted state covariance} \\\\\n",
    "    R_{t} \\quad \\text{is the procss noise covariance} \\\\\n",
    "    G_{t} = I_{3} \\\\\n",
    "\n",
    "$$\n",
    "\n",
    "**2. Maximum Likelihood Correspondence**\n",
    "\n",
    "The EKF localization discussed thus is only applicable when landmark correspondences can be determined with absolute certainty. In practice, this is rarely the case.\n",
    "Most implementations therefore determine the identity of the landmark during localization. Throughout this book, we will encounter a number of strategies to cope with\n",
    "the correspondence problem. The most simple of all is known as _maximum likelihood correspondence_, **in which one first determines the most likely value of the correspon-\n",
    "dence variable, and then takes this value for granted.**\n",
    "\n",
    "<b><span style=\"color: red;\">To reduce the danger of asserting a false data association, there exist essentially two techniques:</span></b> \n",
    "\n",
    "- First, select landmarks that are sufficiently unique and sufficiently far apart from each other that confusing them with each other is unlikely.\n",
    "- Second, make sure that the robot’s pose uncertainty remains small.\n",
    "\n",
    "The correspondence variable is then chosen by minimizing a quadratic Mahalanobis distance function\n",
    "defined over the measured feature vector $z_{t}^{i}$ and the expected measurement $ẑ_{t}$\n",
    "\n",
    "$$\n",
    "j(i) = \\underset{k}{\\arg\\min} (z_{t}^{i} - \\hat{z}^{k}_{t})^T \\Psi^{-1}_{j(i)} (z_{t}^{i} - \\hat{z}^{k}_{t})\n",
    "$$\n",
    "\n",
    "$$\n",
    "Q_t = \\begin{bmatrix} \\sigma_r && 0 && 0 \\\\ 0 && \\sigma_\\phi && 0 \\\\ 0 && 0 && \\sigma_s\\end{bmatrix} \\quad \\text{is the innovation noise covariance}\n",
    "$$\n",
    "\n",
    "_for all landmarks `k` in the map `m` do_\n",
    "\n",
    "$$\n",
    "    \\delta_{t} = \\begin{bmatrix} \\delta_{k,x} \\\\ \\delta_{k,y} \\end{bmatrix} = \\begin{bmatrix} m_{k,x} - \\overline{\\mu}_{t,x} \\\\ m_{k,y} - \\overline{\\mu}_{t,y} \\end{bmatrix}\n",
    "$$\n",
    "\n",
    "$$\n",
    "    q_{k} = \\delta_{k}^{T} \\delta_{k}\n",
    "$$\n",
    "\n",
    "$$\n",
    "    ẑ_{t}^{k} = \\begin{bmatrix} \\sqrt{q_{k}} \\\\ atan2(\\delta_{k,y}, \\delta_{k,x}) - \\overline{\\mu}_{t,\\theta} \\\\ m_{k,s} \\end{bmatrix}\n",
    "$$\n",
    "\n",
    "$$\n",
    "    H_{t}^{k} = \\frac{1}{q_k} \\begin{bmatrix} \\sqrt{q_{k}}\\delta_{k,x} && -\\sqrt{q_{k}}\\delta_{k,y} && 0 \\\\ \\delta_{k,y} && \\delta_{k,x} && -1 \\\\ 0 && 0 && 0 \\end{bmatrix} \\quad \\text{is the observation matrix}\n",
    "$$\n",
    "\n",
    "$$\n",
    "    \\Psi_k = H_{t}^{k} \\overline{\\Sigma}_{t} [H_{t}^{k}]^T + Q_t \\quad \\text{is the innovation covariance}\n",
    "$$\n",
    "\n",
    "_for all observed features $z_{t}^{i} = (r_{t}^{i} \\phi_{t}^{i} s_{t}^{i})^{T}$ do_\n",
    "\n",
    "$$\n",
    "j(i) = \\underset{k}{\\arg\\min} (z_{t}^{i} - \\hat{z}^{k}_{t})^T \\Psi^{-1}_{j(i)} (z_{t}^{i} - \\hat{z}^{k}_{t}) \\\\\n",
    "K_{t}^{i} = \\overline{\\Sigma}_{t} [H_{t}^{j(i)}]^T \\Psi_{j(i)}^{-1}\n",
    "$$\n",
    "\n",
    "**3. Update**\n",
    "$$\n",
    "    \\mu_t =  \\overline{\\mu}_{t} + \\sum_{i}{K_{t}^{i} (z_{t}^{i} - ẑ_{t}^{j(i)})} \\\\\n",
    "    \\Sigma_{t} = (I - \\sum_{i}{K_{t}^{i} H_{t}^{j(i)}})\\overline{\\Sigma}_{t}\n",
    "$$"
   ]
  },
  {
   "cell_type": "code",
   "execution_count": 10,
   "metadata": {},
   "outputs": [],
   "source": [
    "#| export\n",
    "z_state = 3\n",
    "x_state = 3\n",
    "def ekf_localization(mu, sigma, u, zs, m, R, Q):\n",
    "    '''\n",
    "    EKF localization with unknown correspondences.\n",
    "\n",
    "    Parameters\n",
    "    ----------\n",
    "    mu\n",
    "        The current state estimate, [x y theta], 3x1 NumPy array.\n",
    "    sigma\n",
    "        The state covariance, 3x3 NumPy array.\n",
    "    u\n",
    "        The delta motion, 3x1 Numpy array.\n",
    "    zs\n",
    "        Observed features, Nx3 Numpy array of N observations and [r phi s], namely range, bearing and signature.\n",
    "    m\n",
    "        Landmark points, Mx3 Numpy array of M landmarks. [x y s] 2D position and signature.\n",
    "    R\n",
    "        Process noise, 3x1 NumPy array, [sigma_x, sigma_y, sigma_theta].\n",
    "    Q\n",
    "        Observation noise, 3x1 NumPy array, [sigma_r sigma_phi sigma_s].\n",
    "\n",
    "    Returns\n",
    "    -------\n",
    "    mu_updated\n",
    "        The updated state.\n",
    "    sigma_updated\n",
    "        The updated state covariance.\n",
    "    '''\n",
    "    # Predict\n",
    "    mu_predicted = mu + u\n",
    "    sigma_predicted = sigma + np.eye(x_state) @ R\n",
    "    n_map_points = len(m)\n",
    "\n",
    "    # Initialize variables for storing Jacobians and expected observations\n",
    "    H = [np.zeros((z_state, x_state)) for map_idx in range(n_map_points)]\n",
    "    z_expected = [np.zeros((z_state,)) for map_idx in range(n_map_points)]\n",
    "    psi = [np.zeros((z_state, z_state)) for map_idx in range(n_map_points)]\n",
    "\n",
    "    x_predicted = mu_predicted[0]\n",
    "    y_predicted = mu_predicted[1]\n",
    "    theta_predicted = mu_predicted[2]\n",
    "\n",
    "    for k, landmark in enumerate(m):\n",
    "        m_kx = landmark[0]\n",
    "        m_ky = landmark[1]\n",
    "        m_ks = landmark[2]\n",
    "        delta_k = np.array([m_kx - x_predicted, m_ky - y_predicted]) # x, y difference between the map point k, and predicted state.\n",
    "        delta_kx = delta_k[0]\n",
    "        delta_ky = delta_k[1]\n",
    "        q_k = delta_k.T @ delta_k # distance squared\n",
    "\n",
    "        z_expected[k] = np.array([np.sqrt(q_k), np.arctan2(delta_ky, delta_kx) - theta_predicted, m_ks])\n",
    "        H[k] = 1 / q_k * np.array([\n",
    "            [np.sqrt(q_k)* delta_kx, -np.sqrt(q_k)* delta_ky, 0],\n",
    "            [delta_ky, delta_kx, -1],\n",
    "            [0, 0, 0]])\n",
    "        psi[k] = H[k] @ sigma_predicted @ H[k].T + np.eye(z_state) @ Q\n",
    "\n",
    "    # Update\n",
    "    mu_updated = mu_predicted.copy() # final state etsimate holder\n",
    "\n",
    "    # Accumulate Kalman gain times residual matrix\n",
    "    residual_gain_sum = np.zeros_like(mu_predicted)\n",
    "\n",
    "    # Accumulate Kalman gain times observation matrix\n",
    "    KH_sum = np.zeros_like(sigma_predicted)\n",
    "\n",
    "    for z_observed in zs:\n",
    "        # Maximum Likelihood Correspondence\n",
    "        ji = []\n",
    "        for k in range(n_map_points):\n",
    "            z_residual = z_observed - z_expected[k]\n",
    "            psi_k = psi[k]\n",
    "            likelihood = z_residual.T @ np.linalg.inv(psi_k) @ z_residual\n",
    "            ji.append(likelihood)\n",
    "\n",
    "        i = ji.index(min(ji)) # find the index of the minimum chi-square distance\n",
    "        K_i = sigma_predicted @ H[i].T @ np.linalg.inv(psi[i])\n",
    "        z_associated = z_expected[i]\n",
    "\n",
    "        residual_gain_sum += + K_i @ (z_observed - z_associated)\n",
    "        KH_sum += K_i @ H[i]\n",
    "    \n",
    "    # Final state and covariance update\n",
    "    sigma_updated = (np.eye(x_state) - KH_sum) @ sigma_predicted\n",
    "    mu_updated = mu_predicted + residual_gain_sum\n",
    "\n",
    "    return mu_updated, sigma_updated\n"
   ]
  },
  {
   "cell_type": "code",
   "execution_count": 11,
   "metadata": {},
   "outputs": [
    {
     "name": "stdout",
     "output_type": "stream",
     "text": [
      "Current State Estimate (mu): [2.         2.         0.78539816]\n",
      "Current Covariance Estimate (sigma): [[0.01 0.   0.  ]\n",
      " [0.   0.01 0.  ]\n",
      " [0.   0.   0.01]]\n",
      "Updated State Estimate (mu): [2.46270251 1.99330472 0.81886796]\n",
      "Updated Covariance Estimate (sigma): [[-0.00659153 -0.00033836  0.02495746]\n",
      " [-0.00033836 -0.00532268  0.00623936]\n",
      " [ 0.02495746  0.00623936  0.01432785]]\n"
     ]
    }
   ],
   "source": [
    "# Initial state estimate [x, y, theta]\n",
    "mu = np.array([2.0, 2.0, np.pi/4])\n",
    "\n",
    "# Initial covariance estimate\n",
    "sigma = np.array([\n",
    "    [0.01, 0, 0],\n",
    "    [0, 0.01, 0],\n",
    "    [0, 0, 0.01]\n",
    "])\n",
    "\n",
    "# Control input [delta_x, delta_y, delta_theta]\n",
    "u = np.array([0.1, 0.2, 0.1])\n",
    "\n",
    "# Observed features [range, bearing, signature]\n",
    "zs = np.array([\n",
    "    [1.0, np.pi/6, 0],  # Observation 1\n",
    "    [1.2, np.pi/3, 0]\n",
    "])\n",
    "\n",
    "# Landmark points [x, y, signature]\n",
    "m = np.array([\n",
    "    [2.3, 3, 1],  # Landmark 1\n",
    "    [1.7, 3.16, 2]   # Landmark 2\n",
    "])\n",
    "\n",
    "# Process noise\n",
    "R = np.diag([0.1, 0.1, 0.01])\n",
    "\n",
    "# Observation noise\n",
    "Q = np.diag([0.1, 0.1, 0.1])\n",
    "\n",
    "# Call the EKF localization function\n",
    "mu_updated, sigma_updated = ekf_localization(mu, sigma, u, zs, m, R, Q)\n",
    "\n",
    "print(\"Current State Estimate (mu):\", mu)\n",
    "print(\"Current Covariance Estimate (sigma):\", sigma)\n",
    "\n",
    "print(\"Updated State Estimate (mu):\", mu_updated)\n",
    "print(\"Updated Covariance Estimate (sigma):\", sigma_updated)"
   ]
  },
  {
   "cell_type": "code",
   "execution_count": 13,
   "metadata": {},
   "outputs": [
    {
     "data": {
      "image/png": "[encoded data removed]",
      "text/plain": [
       "<Figure size 1000x800 with 1 Axes>"
      ]
     },
     "metadata": {},
     "output_type": "display_data"
    }
   ],
   "source": [
    "import matplotlib.pyplot as plt\n",
    "from matplotlib.patches import Ellipse\n",
    "import numpy as np\n",
    "import numpy.linalg as linalg\n",
    "import math\n",
    "\n",
    "# Function to plot state with covariance ellipse\n",
    "def plot_state_with_covariance(mu, sigma, color='blue', label='inital'):\n",
    "    # Plot state position\n",
    "    plt.plot(mu[0], mu[1], 'o', color=color, label='State {}'.format(label))\n",
    "    U,s,v = linalg.svd(sigma[:2,:2])\n",
    "    angle = math.atan2(U[1,0],U[0,0])\n",
    "    \n",
    "    width  = math.sqrt(s[0]) * 2\n",
    "    height = math.sqrt(s[1]) * 2\n",
    "\n",
    "    ellipse = Ellipse((mu[0], mu[1]), width=width, height=height,\n",
    "                      angle=angle, color=color, alpha=0.3)\n",
    "    plt.gca().add_patch(ellipse)\n",
    "\n",
    "    # Add arrow to indicate heading\n",
    "    arrow = plt.Arrow(mu[0], mu[1], 0.5 * np.cos(mu[2]), 0.5 * np.sin(mu[2]), color=color, width=0.1)\n",
    "    plt.gca().add_patch(arrow)\n",
    "\n",
    "# Function to plot the state and observations with ellipses representing covariances and arrows indicating the heading\n",
    "def plot_ekf_with_covariance_arrows(mu, sigma, mu_updated, sigma_updated, landmarks, observations):\n",
    "    plt.figure(figsize=(10, 8))\n",
    "\n",
    "    # Plot landmarks\n",
    "    for idx, landmark in enumerate(landmarks):\n",
    "        plt.plot(landmark[0], landmark[1], 'kx', label='Landmark {}'.format(idx))\n",
    "        plt.text(landmark[0], landmark[1], int(landmark[2]), verticalalignment='bottom', horizontalalignment='right')\n",
    "\n",
    "    # Plot observations\n",
    "    for idx, observation in enumerate(observations):\n",
    "        # Convert polar coordinates to Cartesian coordinates\n",
    "        x = mu[0] + observation[0] * np.cos(observation[1] + mu[2])\n",
    "        y = mu[1] + observation[0] * np.sin(observation[1] + mu[2])\n",
    "        plt.plot(x, y, 'g*', label='Observation {}'.format(idx))\n",
    "        plt.text(x, y, int(observation[2]), verticalalignment='bottom', horizontalalignment='right')\n",
    "\n",
    "    # Plot initial state with covariance ellipse\n",
    "    plot_state_with_covariance(mu, sigma, color='blue', label='initial')\n",
    "\n",
    "    # Plot updated state with covariance ellipse\n",
    "    plot_state_with_covariance(mu_updated, sigma_updated, color='red', label='updated 1')\n",
    "\n",
    "    plt.legend()\n",
    "    plt.title('EKF Localization with Covariance Ellipses and Heading Arrows')\n",
    "    plt.xlabel('X')\n",
    "    plt.ylabel('Y')\n",
    "    plt.grid(True)\n",
    "    plt.axis('equal')  # Ensure equal aspect ratio\n",
    "    plt.show()\n",
    "\n",
    "# Convert observations to Cartesian coordinates\n",
    "def observation_to_cartesian(observation, robot_state):\n",
    "    range_, bearing, _ = observation\n",
    "    x_robot, y_robot, theta_robot = robot_state\n",
    "    x_observation = x_robot + range_ * np.cos(bearing + theta_robot)\n",
    "    y_observation = y_robot + range_ * np.sin(bearing + theta_robot)\n",
    "    return x_observation, y_observation\n",
    "\n",
    "# Call the plot function with covariance ellipses and arrows\n",
    "# mu_updated, sigma_updated = ekf_localization(mu_updated, sigma_updated, u, zs, m, R, Q)\n",
    "plot_ekf_with_covariance_arrows(mu, sigma, mu_updated, sigma_updated, m, zs)\n"
   ]
  },
  {
   "cell_type": "code",
   "execution_count": 14,
   "metadata": {},
   "outputs": [
    {
     "data": {
      "text/plain": [
       "array([[0.00659153, 0.00033836],\n",
       "       [0.00033836, 0.00532268]])"
      ]
     },
     "execution_count": 14,
     "metadata": {},
     "output_type": "execute_result"
    }
   ],
   "source": [
    "abs(sigma_updated[:2,:2])"
   ]
  },
  {
   "cell_type": "markdown",
   "metadata": {},
   "source": [
    "# From Polar to Cartesian coordinates"
   ]
  },
  {
   "cell_type": "code",
   "execution_count": 15,
   "metadata": {},
   "outputs": [
    {
     "name": "stdout",
     "output_type": "stream",
     "text": [
      "Observation: 1.0\n",
      "Cartesian coordinates: [2.2588190451025207, 2.9659258262890686]\n",
      "Observation: 2.0\n",
      "Cartesian coordinates: [1.6894171458769751, 3.159110991546882]\n"
     ]
    }
   ],
   "source": [
    "import numpy as np\n",
    "\n",
    "# Given state of the robot: [x, y, heading]\n",
    "state = np.array([2.0, 2.0, np.pi/4])\n",
    "\n",
    "# Given observations: [range, bearing, observation_number]\n",
    "observations = np.array([\n",
    "    [1.0, np.pi/6, 1],  # Observation 1\n",
    "    [1.2, np.pi/3, 2]   # Observation 2\n",
    "])\n",
    "\n",
    "\n",
    "\n",
    "# Calculate Cartesian coordinates for each observation\n",
    "for observation in observations:\n",
    "    x_obs, y_obs = observation_to_cartesian(observation, state)\n",
    "    print(\"Observation:\", observation[2])\n",
    "    print(\"Cartesian coordinates:\", [x_obs, y_obs])\n"
   ]
  },
  {
   "cell_type": "markdown",
   "metadata": {},
   "source": [
    "# Visualization using plotly"
   ]
  },
  {
   "cell_type": "code",
   "execution_count": 19,
   "metadata": {},
   "outputs": [
    {
     "data": {
      "application/vnd.plotly.v1+json": {
       "config": {
        "plotlyServerURL": "https://plot.ly"
       },
       "data": [
        {
         "mode": "markers",
         "type": "scatter",
         "x": [
          0.07868888337751145,
          0.5751101923597608,
          0.8078890708237708,
          0.8743399081926415,
          0.6668444873543325,
          0.9650968271304127,
          0.32965083593260325,
          0.8355109090224457,
          0.06729392388657607,
          0.37916200180789894,
          0.4126755451560976,
          0.5886404204631365,
          0.960316332942679,
          0.5279571571436069,
          0.34742761117991006,
          0.9942329733102074,
          0.13836945343362217,
          0.9020216855311228,
          0.21301848510359722,
          0.5011894788188643
         ],
         "y": [
          0.1285733704796307,
          0.9561905223296051,
          0.5230830044406433,
          0.6007684919428288,
          0.5577598437332778,
          0.3588742196743092,
          0.029551891744465153,
          0.09873543269201879,
          0.6228684764265576,
          0.8134647483192564,
          0.9272856643842955,
          0.15940816790231416,
          0.09647776442733436,
          0.7970901082748277,
          0.0014884583968600706,
          0.8895272217927546,
          0.8368845584786427,
          0.31672979043163596,
          0.443683655747649,
          0.21198293047692374
         ]
        }
       ],
       "frames": [
        {
         "data": [
          {
           "mode": "markers",
           "type": "scatter",
           "x": [
            0.07868888337751145,
            0.5751101923597608,
            0.8078890708237708,
            0.8743399081926415,
            0.6668444873543325,
            0.9650968271304127,
            0.32965083593260325,
            0.8355109090224457,
            0.06729392388657607,
            0.37916200180789894,
            0.4126755451560976,
            0.5886404204631365,
            0.960316332942679,
            0.5279571571436069,
            0.34742761117991006,
            0.9942329733102074,
            0.13836945343362217,
            0.9020216855311228,
            0.21301848510359722,
            0.5011894788188643
           ],
           "y": [
            0.1285733704796307,
            0.9561905223296051,
            0.5230830044406433,
            0.6007684919428288,
            0.5577598437332778,
            0.3588742196743092,
            0.029551891744465153,
            0.09873543269201879,
            0.6228684764265576,
            0.8134647483192564,
            0.9272856643842955,
            0.15940816790231416,
            0.09647776442733436,
            0.7970901082748277,
            0.0014884583968600706,
            0.8895272217927546,
            0.8368845584786427,
            0.31672979043163596,
            0.443683655747649,
            0.21198293047692374
           ]
          }
         ],
         "name": "frame0"
        },
        {
         "data": [
          {
           "mode": "markers",
           "type": "scatter",
           "x": [
            0.04610287636111965,
            0.33900140772970744,
            0.23680249973988143,
            0.9513642091050035,
            0.10964012169484283,
            0.0007314728703128326,
            0.971000984026849,
            0.48519432216221214,
            0.385488910143006,
            0.3812761313600661,
            0.8138204831772202,
            0.6987816307222044,
            0.699426025393546,
            0.8671513411405187,
            0.6614050931818634,
            0.6439296271100323,
            0.7723209650629224,
            0.730146158193613,
            0.9816500927394014,
            0.6440378811566032
           ],
           "y": [
            0.0841465282553322,
            0.09257545534689382,
            0.032095789491924265,
            0.1931546750117723,
            0.8053458351797304,
            0.4547946733534486,
            0.4821328060549358,
            0.2883475187147716,
            0.7341101223057953,
            0.7031190317017952,
            0.9592810881826761,
            0.7051239077722862,
            0.278395514569301,
            0.40014457913073354,
            0.7434582325561812,
            0.780253651260847,
            0.8937728099506883,
            0.34323062257508863,
            0.7655746119890415,
            0.856099321472822
           ]
          }
         ],
         "name": "frame1"
        },
        {
         "data": [
          {
           "mode": "markers",
           "type": "scatter",
           "x": [
            0.5587711943278805,
            0.39487709854336395,
            0.5947078304816321,
            0.017698442572001483,
            0.899388952586196,
            0.7671902721879644,
            0.8639597005116065,
            0.6874559995504738,
            0.5511072644306805,
            0.3247445517873092,
            0.9345865765575926,
            0.6099165872722425,
            0.9254784885531913,
            0.6111223945801736,
            0.8430773036739705,
            0.11678103193610945,
            0.3169547143491891,
            0.4704830683921858,
            0.2515398641316201,
            0.6268773876367528
           ],
           "y": [
            0.20881785708338763,
            0.37102001806129137,
            0.5604677369194693,
            0.18754366416556456,
            0.7843209612606888,
            0.3235821112461985,
            0.7244406801994306,
            0.7685696423568,
            0.3271253820030062,
            0.6679698935501477,
            0.10686795699922402,
            0.361397920677345,
            0.6737267095881694,
            0.705839477112255,
            0.4199979748360756,
            0.34741834444103636,
            0.35022626318063166,
            0.17620498475757473,
            0.745629950882644,
            0.4822789884560932
           ]
          }
         ],
         "name": "frame2"
        },
        {
         "data": [
          {
           "mode": "markers",
           "type": "scatter",
           "x": [
            0.36954176315596476,
            0.6716204798815667,
            0.6210898256923298,
            0.8473590177350525,
            0.8773961272918278,
            0.32583528631095926,
            0.8914726963087538,
            0.7250561040501073,
            0.5425074208606402,
            0.5100196771847549,
            0.9939117760505539,
            0.10802825776011904,
            0.07076732773992611,
            0.8129083707644763,
            0.041204936892571875,
            0.5774147746558403,
            0.45154254927774695,
            0.00025220382814072906,
            0.9123241153576088,
            0.4611616039047387
           ],
           "y": [
            0.37203761845919403,
            0.4019828235255629,
            0.6471980141029625,
            0.4306619740898604,
            0.9490477126549476,
            0.32841185019555874,
            0.10822562597485785,
            0.17129181854068964,
            0.7853576220049938,
            0.5169961043158144,
            0.5593835077264642,
            0.07724988106512931,
            0.09227105107496458,
            0.9935374873054432,
            0.6909335371679879,
            0.015907382521533675,
            0.6057699820388341,
            0.5109823190526371,
            0.7811310107945921,
            0.9447572635600668
           ]
          }
         ],
         "name": "frame3"
        },
        {
         "data": [
          {
           "mode": "markers",
           "type": "scatter",
           "x": [
            0.6031391811005269,
            0.04745233880213684,
            0.3262358717245474,
            0.44078002951276296,
            0.5875052173911072,
            0.03607428428507942,
            0.4039508417312686,
            0.02469480429955928,
            0.6726488798213336,
            0.5074547682172831,
            0.22511471427025298,
            0.7451545814997624,
            0.331964755113742,
            0.03920150023302893,
            0.47428769353130606,
            0.2714880434072734,
            0.6643305921000265,
            0.895281032044676,
            0.47858123417287346,
            0.6771782697194778
           ],
           "y": [
            0.9186554536321883,
            0.610582893975737,
            0.8300124175232835,
            0.6784157743547176,
            0.7783252011901614,
            0.4877752091324129,
            0.9068157610487855,
            0.9907501834634928,
            0.7037347582007542,
            0.5999069794251933,
            0.5851761245302344,
            0.2803566972829331,
            0.17471039297417446,
            0.09960339300004184,
            0.23891101560785633,
            0.3520051277086337,
            0.7623729663347809,
            0.7170422889474323,
            0.017677069071730167,
            0.7385121921907993
           ]
          }
         ],
         "name": "frame4"
        },
        {
         "data": [
          {
           "mode": "markers",
           "type": "scatter",
           "x": [
            0.548997312625872,
            0.6043593695690995,
            0.3938906550726401,
            0.6292916335793838,
            0.3731623893422853,
            0.9228384707674396,
            0.7001450585646559,
            0.25165833333559007,
            0.8730716138849173,
            0.4052995581333939,
            0.4429857146051621,
            0.13338300303340345,
            0.4575770800551232,
            0.6756245358416415,
            0.22802338529486188,
            0.6742773438188859,
            0.09604265842638371,
            0.4294855998476035,
            0.1381558464432563,
            0.9270659365546186
           ],
           "y": [
            0.7079570537736055,
            0.1584037111125991,
            0.18058051100049743,
            0.35650176266432143,
            0.3604059766360981,
            0.5835779178377591,
            0.887661944389777,
            0.3222922291786513,
            0.4278871090729056,
            0.878698670973965,
            0.6953020405944293,
            0.8961839594099887,
            0.01743583344113475,
            0.8893786614935432,
            0.12108253224428822,
            0.46490713582145626,
            0.07227739492141438,
            0.5084262451278535,
            0.40806988536192157,
            0.7244265293213857
           ]
          }
         ],
         "name": "frame5"
        },
        {
         "data": [
          {
           "mode": "markers",
           "type": "scatter",
           "x": [
            0.03855489594807893,
            0.7793412234346012,
            0.42699852017293494,
            0.9894304149716854,
            0.10472276423006044,
            0.5138285245998957,
            0.10168731366578487,
            0.7626954594798567,
            0.5358336045234945,
            0.5851311497099955,
            0.895893912777925,
            0.32657306271206143,
            0.9897514983238478,
            0.6876257261666249,
            0.7057061733632978,
            0.15152465893223344,
            0.6422709796584971,
            0.2552190763725618,
            0.6971547484093366,
            0.14377435365088986
           ],
           "y": [
            0.43033928217372663,
            0.13071896944807038,
            0.1898489956182987,
            0.11421767182127929,
            0.9146015076563555,
            0.8794258893667178,
            0.9673141286421354,
            0.870123883274798,
            0.9230685535430663,
            0.11571291917682613,
            0.5690770152549559,
            0.8565701502841065,
            0.6878073437229804,
            0.6850728434565513,
            0.21159036582275614,
            0.6715396777789646,
            0.07043987888586678,
            0.743686064780449,
            0.9583613462605669,
            0.21747197604376944
           ]
          }
         ],
         "name": "frame6"
        },
        {
         "data": [
          {
           "mode": "markers",
           "type": "scatter",
           "x": [
            0.3506507256644823,
            0.7519971520289972,
            0.29514345112449736,
            0.3266550144937963,
            0.00654446804491382,
            0.9845428342279788,
            0.37694134535421664,
            0.6348959818467045,
            0.5202094473617083,
            0.35020084948620267,
            0.040578184818222396,
            0.28158588804627604,
            0.13374541146659036,
            0.5455168532278633,
            0.4840152943085363,
            0.792044854339921,
            0.3361803920793729,
            0.3716006771873992,
            0.2088666605714038,
            0.5041247015551313
           ],
           "y": [
            0.10481689430927976,
            0.8259727288969902,
            0.38540309679528717,
            0.1864294624763212,
            0.31356239533665553,
            0.8911322493395503,
            0.5769849371046494,
            0.670613837346288,
            0.28184934328425226,
            0.9393221642105579,
            0.19855740140083367,
            0.6588652680829723,
            0.09763395206060854,
            0.7128955658844154,
            0.4822913094120579,
            0.7000645152814784,
            0.0869843321776752,
            0.866261272798218,
            0.08849769226615567,
            0.276491985986392
           ]
          }
         ],
         "name": "frame7"
        },
        {
         "data": [
          {
           "mode": "markers",
           "type": "scatter",
           "x": [
            0.031120503073814754,
            0.5111126027430123,
            0.830960068532912,
            0.019646831102677398,
            0.9198308840148531,
            0.6831868604543323,
            0.11791412318615124,
            0.6514827708940978,
            0.4912891052805185,
            0.5004638369973055,
            0.3011423804626663,
            0.7022638232426283,
            0.12912608976944384,
            0.7280090585048316,
            0.9226105380871006,
            0.10314373506891572,
            0.244243882801489,
            0.16091785279334436,
            0.8181945009023756,
            0.41316653100389167
           ],
           "y": [
            0.4822391210272051,
            0.47120486524208827,
            0.04295593293966238,
            0.8549761554978808,
            0.4816322346706342,
            0.06719184223096186,
            0.7330743637667885,
            0.9400253009565025,
            0.5301744555433694,
            0.5971796647818339,
            0.7415650886519729,
            0.9440390091408697,
            0.3044524796505823,
            0.418483036818293,
            0.16308463716817967,
            0.8182818264761734,
            0.10604448184248716,
            0.4321380663357892,
            0.2662324585524213,
            0.5809940684421476
           ]
          }
         ],
         "name": "frame8"
        },
        {
         "data": [
          {
           "mode": "markers",
           "type": "scatter",
           "x": [
            0.6698030843453943,
            0.6683709532336749,
            0.7396780984315648,
            0.491721851634606,
            0.38931264212625205,
            0.9954812332987739,
            0.32516019068548574,
            0.5385948226718396,
            0.4291459363867628,
            0.8126948550481082,
            0.16126072859913343,
            0.6990610030283971,
            0.46920538766141207,
            0.1415049061236573,
            0.6610233107323943,
            0.8665989291557424,
            0.08037334479105729,
            0.15815823374472526,
            0.35595919262508946,
            0.04151217734006363
           ],
           "y": [
            0.8758606032715149,
            0.6042945544259294,
            0.08140429131173788,
            0.4522128943396967,
            0.021464290970424127,
            0.3416244250926601,
            0.360145458227065,
            0.40018908426517585,
            0.6316807336667928,
            0.7712339004322619,
            0.32681845858268854,
            0.6739901169070573,
            0.31798850444209725,
            0.9615581972591745,
            0.9976944639358479,
            0.35911134678863643,
            0.4653324246754106,
            0.3638918951508612,
            0.3616514998399699,
            0.5025595695346368
           ]
          }
         ],
         "name": "frame9"
        },
        {
         "data": [
          {
           "mode": "markers",
           "type": "scatter",
           "x": [
            0.5573324553338607,
            0.051064711358725035,
            0.5395018610374862,
            0.1793868052954567,
            0.8475848633070562,
            0.35244811972896384,
            0.6126299150730415,
            0.031612298091242774,
            0.07944835365976888,
            0.07081215603615276,
            0.5670989919929086,
            0.0857871468232434,
            0.9424606017817243,
            0.1667876872821752,
            0.34791064042461395,
            0.27252727096537,
            0.651494820805394,
            0.08553774661811353,
            0.8342493956460717,
            0.7970035793384885
           ],
           "y": [
            0.819926541765061,
            0.8846939065130556,
            0.9163904295460431,
            0.9572964392042215,
            0.4195640148555658,
            0.2547700633226019,
            0.6862642690961468,
            0.04057269987879919,
            0.8792085240167978,
            0.59230172663555,
            0.8131338068012081,
            0.19157603816116586,
            0.18026065656414259,
            0.12359301187178962,
            0.7505646378727568,
            0.2564841025375798,
            0.2648911140612229,
            0.931963688999323,
            0.3489203157256868,
            0.9555967424594614
           ]
          }
         ],
         "name": "frame10"
        },
        {
         "data": [
          {
           "mode": "markers",
           "type": "scatter",
           "x": [
            0.5367647520850308,
            0.8759624773913537,
            0.8913556373277624,
            0.6786051187776807,
            0.9812622651394723,
            0.09163209397371963,
            0.26231929668657084,
            0.22868208594809858,
            0.9716201129408109,
            0.46381959789409866,
            0.8837717058213754,
            0.2013770959287795,
            0.02964987185976775,
            0.9093330251954715,
            0.3966233767523967,
            0.3216061432688001,
            0.45329962598370277,
            0.31780402996890145,
            0.014564969619027424,
            0.038151562018241214
           ],
           "y": [
            0.7933543718312775,
            0.8460043200004121,
            0.2836759175691066,
            0.2492839426539809,
            0.8332599584128125,
            0.1815947408610511,
            0.9753531099200057,
            0.11814062934275749,
            0.3527180269799066,
            0.9917728997081598,
            0.7593856405276987,
            0.934221354252627,
            0.8462976926018003,
            0.5622715123338616,
            0.24346751167670322,
            0.5212231943904354,
            0.509762005643805,
            0.5759654001419462,
            0.27815512944924004,
            0.2527148354143778
           ]
          }
         ],
         "name": "frame11"
        },
        {
         "data": [
          {
           "mode": "markers",
           "type": "scatter",
           "x": [
            0.5076894100006684,
            0.7083089135121226,
            0.7266398052825156,
            0.16288030692194577,
            0.845117222060622,
            0.5183282744914003,
            0.7231533407603075,
            0.3408841763107532,
            0.5426200988115363,
            0.31157815760757035,
            0.9298502849749016,
            0.8709362454929866,
            0.9000855514692139,
            0.6332871311952062,
            0.8088817292295496,
            0.8125816573096412,
            0.03381354503792067,
            0.7926131712584424,
            0.4772796217002323,
            0.20321761554134166
           ],
           "y": [
            0.15100447409284845,
            0.15924285722500509,
            0.4910974875862777,
            0.7776156600951676,
            0.9391051091381657,
            0.7448652172241362,
            0.7684150009100129,
            0.5581901493848176,
            0.19780533423139224,
            0.6795460484368671,
            0.30733704251363514,
            0.3286059316478044,
            0.6842831870137649,
            0.34897504234513055,
            0.6043658757508571,
            0.1853454095882373,
            0.7338360576575607,
            0.6106343257698601,
            0.43417387132412477,
            0.6967910495816307
           ]
          }
         ],
         "name": "frame12"
        },
        {
         "data": [
          {
           "mode": "markers",
           "type": "scatter",
           "x": [
            0.28867012520604096,
            0.9904246707684092,
            0.6128157313080732,
            0.40006340301144894,
            0.16176024410936551,
            0.4057220144661441,
            0.781839297019173,
            0.3856979864260843,
            0.787229450212457,
            0.601451033444357,
            0.46547739862400894,
            0.8990779125692924,
            0.25380337788354146,
            0.2655646144759356,
            0.8381385250146709,
            0.8190351727531948,
            0.3932690649532211,
            0.14724689449032236,
            0.33004432063356826,
            0.8522697224443458
           ],
           "y": [
            0.20741542787163847,
            0.11672216994433937,
            0.7841512888316085,
            0.7860721957959828,
            0.31522603072163113,
            0.1603359827170291,
            0.016731543739984756,
            0.7519800922988314,
            0.12387281977553599,
            0.9223473715664186,
            0.6941512769752586,
            0.1010598760127478,
            0.7073677369340448,
            0.18707407910563778,
            0.11718048948774473,
            0.05667559306466208,
            0.18967705333011853,
            0.42988689765762766,
            0.06499416957267568,
            0.44510787478567193
           ]
          }
         ],
         "name": "frame13"
        },
        {
         "data": [
          {
           "mode": "markers",
           "type": "scatter",
           "x": [
            0.29978713816919844,
            0.19507868579894028,
            0.9078740812069288,
            0.1723476027716282,
            0.4860637247759235,
            0.44303761091449034,
            0.3984042783592652,
            0.4863080406133936,
            0.10201200672307109,
            0.4510528650340345,
            0.7449996436977827,
            0.5469875924725124,
            0.46740061242787423,
            0.8771253139009362,
            0.41172466653672124,
            0.3475890596433475,
            0.8861631768077884,
            0.5297026266241819,
            0.9297210165931027,
            0.2968641943775221
           ],
           "y": [
            0.2889414467436937,
            0.7085910813635936,
            0.8715937051713458,
            0.11471712307614712,
            0.5461262717264055,
            0.896757914949206,
            0.7432854388894623,
            0.8929253503085448,
            0.9174830200246975,
            0.0582923010328501,
            0.2911512600401188,
            0.02683015221681806,
            0.49870139682315784,
            0.30665697066395314,
            0.3467478104958921,
            0.9248032205224251,
            0.7102272866221161,
            0.656570962312819,
            0.41315300414458456,
            0.8046687257451607
           ]
          }
         ],
         "name": "frame14"
        },
        {
         "data": [
          {
           "mode": "markers",
           "type": "scatter",
           "x": [
            0.9573600775535797,
            0.2582841295128797,
            0.43339635629221107,
            0.5452002703210396,
            0.2238885654173599,
            0.6572010858310446,
            0.6950970128021676,
            0.7790617749074807,
            0.7320796202446901,
            0.971492334520845,
            0.16412297605027037,
            0.09534417390546635,
            0.2953150872035839,
            0.14582455139458783,
            0.8275373100900686,
            0.8549843046027696,
            0.9155547628926972,
            0.35626179315120377,
            0.17118399683906138,
            0.8476526364526727
           ],
           "y": [
            0.533668158694595,
            0.33208384492562093,
            0.33039434839889814,
            0.9991517270537331,
            0.2562678569354939,
            0.551693135963309,
            0.3713868977868994,
            0.7682320345336433,
            0.5089864771377809,
            0.44370702089572733,
            0.7214128775815299,
            0.5167610903290871,
            0.5797010062410014,
            0.10850167760823248,
            0.6574743129555596,
            0.7381026464438509,
            0.7595604980412947,
            0.685127631488346,
            0.46346761601598274,
            0.10423186761201331
           ]
          }
         ],
         "name": "frame15"
        },
        {
         "data": [
          {
           "mode": "markers",
           "type": "scatter",
           "x": [
            0.15897330654422803,
            0.9910074114132212,
            0.21055459221996708,
            0.7463664159925695,
            0.5210783628723322,
            0.18330045754229307,
            0.2508611436308342,
            0.6311269195012339,
            0.036194223402225445,
            0.33499547877472435,
            0.16723629522848227,
            0.3779491560408472,
            0.9649812416415586,
            0.1145800233230988,
            0.21015435709209407,
            0.8544001014658716,
            0.40015985673665255,
            0.14979648451165717,
            0.1417943200281998,
            0.578988705359734
           ],
           "y": [
            0.43602743282166234,
            0.41722871466928735,
            0.9160112298755811,
            0.34766920288596814,
            0.1664782881626451,
            0.3715435770565767,
            0.9049854144723016,
            0.2198246937945353,
            0.4787491920189546,
            0.46795054384502155,
            0.6303811034581874,
            0.5317318251327154,
            0.0693576824806017,
            0.06507911769987962,
            0.7448484611778193,
            0.6289396601244354,
            0.8773674732927805,
            0.05488585222680131,
            0.08970490809254239,
            0.29191792634118463
           ]
          }
         ],
         "name": "frame16"
        },
        {
         "data": [
          {
           "mode": "markers",
           "type": "scatter",
           "x": [
            0.33202987215287105,
            0.4614202607536412,
            0.6332953384081055,
            0.6291510453754111,
            0.225192676866805,
            0.4160575302545346,
            0.45702600062984644,
            0.572006862654945,
            0.5398861536102612,
            0.8789147164256247,
            0.04614430955930371,
            0.34932974465352296,
            0.6263765699080036,
            0.1773135445757823,
            0.33770998486714976,
            0.6648603675283189,
            0.4026861650665612,
            0.9822834480565921,
            0.24801857553000006,
            0.9251109303959577
           ],
           "y": [
            0.47896624368038554,
            0.936870978069289,
            0.6505910154880719,
            0.10770389523403523,
            0.05406068560907251,
            0.6287791270066595,
            0.27156504484198474,
            0.15319942087024963,
            0.588725572933688,
            0.4027336409625909,
            0.6112427031931086,
            0.3421459930839551,
            0.8531322524725157,
            0.3697062553863989,
            0.2167921006130522,
            0.785403318160191,
            0.9043033840629071,
            0.18348218403117256,
            0.8132601985510722,
            0.467713873492843
           ]
          }
         ],
         "name": "frame17"
        },
        {
         "data": [
          {
           "mode": "markers",
           "type": "scatter",
           "x": [
            0.9956092661789864,
            0.9955413806834672,
            0.2520502080037339,
            0.5330522227466187,
            0.8574160383940803,
            0.3274968988360607,
            0.7151463380533977,
            0.8177851791139815,
            0.3631698378550807,
            0.08506457102344256,
            0.7155854789313503,
            0.4340015031751976,
            0.7150189946601276,
            0.23619113376084988,
            0.8450154540852853,
            0.38095651147691023,
            0.591719888127672,
            0.8419692941953417,
            0.09285035689218446,
            0.35899056553529163
           ],
           "y": [
            0.45341680894841185,
            0.5635176906939304,
            0.9053788539019566,
            0.037873183186405535,
            0.6985390962776861,
            0.07515762150758387,
            0.20238392742208677,
            0.5210194499888874,
            0.7030330382867622,
            0.7181420390716126,
            0.03239322828587443,
            0.030187185881452527,
            0.8008732021516346,
            0.3874387011977444,
            0.849685720590624,
            0.9487963717333201,
            0.558317080190048,
            0.5415498251847076,
            0.9905718703699145,
            0.4039444465390494
           ]
          }
         ],
         "name": "frame18"
        },
        {
         "data": [
          {
           "mode": "markers",
           "type": "scatter",
           "x": [
            0.7632854002287472,
            0.04531631759787247,
            0.5584664107363909,
            0.5357856552517086,
            0.9393384064488549,
            0.8218537844395096,
            0.28295754912659454,
            0.7367432227257756,
            0.5193618161580755,
            0.0012207349010842083,
            0.13462342773250635,
            0.3470026537151403,
            0.9257646699563662,
            0.08580057157652565,
            0.878607697829292,
            0.16990613732823123,
            0.9126584579530554,
            0.3137733516345663,
            0.9847124922203316,
            0.9790416406451034
           ],
           "y": [
            0.7982302530747143,
            0.7441944985065372,
            0.5861664795453374,
            0.8292268656829767,
            0.6650521647567144,
            0.20751007029082802,
            0.6564714963134821,
            0.7526334658036716,
            0.5608663363098648,
            0.9748371246136652,
            0.7335260962192858,
            0.9925792110922277,
            0.8076895207667678,
            0.6618835486259615,
            0.04823298353385552,
            0.25050190689688967,
            0.2821990605236723,
            0.4525303285897748,
            0.9298554851008042,
            0.03416599384881225
           ]
          }
         ],
         "name": "frame19"
        },
        {
         "data": [
          {
           "mode": "markers",
           "type": "scatter",
           "x": [
            0.8667823660773777,
            0.9288982864687552,
            0.25968205970786307,
            0.06729169292358994,
            0.9454665027136735,
            0.3380755489184212,
            0.13099119392423908,
            0.09200406920985293,
            0.13792042316969044,
            0.05624637348267025,
            0.21210770601488005,
            0.5657786228551722,
            0.07552948204551813,
            0.5309752848801375,
            0.34385756447440796,
            0.08601544443743603,
            0.18056774266280062,
            0.4829291652853607,
            0.28788823888706216,
            0.6668161187451213
           ],
           "y": [
            0.11549060386803556,
            0.8223983396682706,
            0.9277719911121067,
            0.8313204844511519,
            0.05139962299063783,
            0.747215325503761,
            0.24498627311262655,
            0.9243133087864427,
            0.0258432025444586,
            0.6128733173791224,
            0.9810045414462863,
            0.7203279365920102,
            0.11200477744953863,
            0.6462578712700514,
            0.4928229348934242,
            0.30924261492145,
            0.5922119353939794,
            0.6765287441169363,
            0.015899101734695886,
            0.821764519053725
           ]
          }
         ],
         "name": "frame20"
        },
        {
         "data": [
          {
           "mode": "markers",
           "type": "scatter",
           "x": [
            0.49829949508047444,
            0.8624823076751109,
            0.7723041887659757,
            0.25905965925254826,
            0.6385087025846767,
            0.6426866060865705,
            0.5823989589766848,
            0.4972534441124433,
            0.447445084611626,
            0.991895560604135,
            0.26299363396095443,
            0.2056958975657236,
            0.5166358326748912,
            0.16303017177201662,
            0.8913862471161138,
            0.05845511668011427,
            0.469859767658907,
            0.22772421194024361,
            0.6080383995791706,
            0.6709971066799999
           ],
           "y": [
            0.3414300465665945,
            0.2977125938868703,
            0.019791134524643983,
            0.3194940748539363,
            0.7820157170962371,
            0.9185897489825208,
            0.028029322790306233,
            0.29815919474822283,
            0.33860084742517327,
            0.7888535065054554,
            0.2783831792569885,
            0.7040652159462751,
            0.8670927550038651,
            0.4555519715888555,
            0.25640050537905523,
            0.9258725684279124,
            0.6591112328849017,
            0.4505310506659974,
            0.5724447467106468,
            0.4127759465322265
           ]
          }
         ],
         "name": "frame21"
        },
        {
         "data": [
          {
           "mode": "markers",
           "type": "scatter",
           "x": [
            0.8761511251154882,
            0.11774680340085919,
            0.31124209115054036,
            0.2725193493351442,
            0.09632039020684513,
            0.14601014797403566,
            0.49472866412932204,
            0.36825742061605715,
            0.18867301705805228,
            0.9999994953824217,
            0.7199075665245248,
            0.6864560284813706,
            0.7925700716199578,
            0.5166065805529821,
            0.42062381657682346,
            0.0014904703662749208,
            0.1344552734459824,
            0.30280919079106094,
            0.22507173740601327,
            0.886694742490011
           ],
           "y": [
            0.9226397807624684,
            0.45402919829381283,
            0.9806668098256633,
            0.21141806463030666,
            0.8054033368649895,
            0.47222072242720325,
            0.25223431713502664,
            0.6444542693134523,
            0.9149800625441539,
            0.2907035365973666,
            0.7685598651581343,
            0.1596621143636595,
            0.058869972123633874,
            0.6710001348479587,
            0.0874957536229718,
            0.8454882161783074,
            0.6666639051982673,
            0.04322714807623995,
            0.42504869265580647,
            0.9911954951251907
           ]
          }
         ],
         "name": "frame22"
        },
        {
         "data": [
          {
           "mode": "markers",
           "type": "scatter",
           "x": [
            0.6479845677622367,
            0.058094434390059235,
            0.5256787793045935,
            0.15231429563900833,
            0.7322324639460723,
            0.0458956460075457,
            0.6786585444570605,
            0.7256352402093857,
            0.5747485540106699,
            0.5166829566056409,
            0.450807701443789,
            0.02847667586557856,
            0.8450963656274819,
            0.4229035432207102,
            0.8848880991204356,
            0.8397007202017971,
            0.6635682967191158,
            0.06912797914605051,
            0.9909600041704644,
            0.6447752834257579
           ],
           "y": [
            0.3308900761891752,
            0.572487190643411,
            0.5647327749442433,
            0.7702316830188383,
            0.23669627857743403,
            0.29589729830049516,
            0.36899791859105757,
            0.9196248780058818,
            0.7454012833382143,
            0.9402644646969788,
            0.499475664613947,
            0.8144229268587616,
            0.7768972975590072,
            0.9224717996594856,
            0.17231922820339218,
            0.4342356359949243,
            0.4848190968959186,
            0.23890082133358082,
            0.9551772937367753,
            0.9547730670557824
           ]
          }
         ],
         "name": "frame23"
        },
        {
         "data": [
          {
           "mode": "markers",
           "type": "scatter",
           "x": [
            0.38534260336533,
            0.6847474778523704,
            0.7245380073688326,
            0.9929328317342272,
            0.9021613984799908,
            0.5164529555927128,
            0.10448312073128874,
            0.7073527916537724,
            0.5228523394047093,
            0.5025111168573463,
            0.07827906193951228,
            0.6266515112326517,
            0.34988938248564094,
            0.6768709882445074,
            0.8501084419269141,
            0.894154414278462,
            0.5913632699927244,
            0.5676544470490418,
            0.7013927076090981,
            0.4249476323361965
           ],
           "y": [
            0.6955610270882924,
            0.642225566399283,
            0.4210763107950639,
            0.22026084763221865,
            0.7971301046995317,
            0.9972336928514055,
            0.046618088288096216,
            0.663414046918479,
            0.06298008733788685,
            0.7876992202973281,
            0.3142711517827321,
            0.9631790727113524,
            0.4176736325623156,
            0.8092256429743536,
            0.2413411220075169,
            0.7688032948447315,
            0.17288239130152983,
            0.1585506444700171,
            0.5859475999907027,
            0.5635405327115377
           ]
          }
         ],
         "name": "frame24"
        },
        {
         "data": [
          {
           "mode": "markers",
           "type": "scatter",
           "x": [
            0.027251102704084595,
            0.6857613424444864,
            0.139494690621482,
            0.10521709200989915,
            0.1642311071163104,
            0.939908033693233,
            0.4620609542195899,
            0.27967355568540153,
            0.2540108378733066,
            0.7961730761704987,
            0.6253863843004678,
            0.4279122431273419,
            0.42310502649092285,
            0.9997463934826744,
            0.39732165307904477,
            0.844395011096155,
            0.22966860170175862,
            0.5086891677980191,
            0.9941647430671191,
            0.11268768134375662
           ],
           "y": [
            0.3948646906869039,
            0.2105461402552039,
            0.37733998719492434,
            0.9853729570496699,
            0.4030632676778907,
            0.8124696815875553,
            0.2258372480619425,
            0.10293051141677811,
            0.43225647996080296,
            0.3981931589577653,
            0.6131058597155962,
            0.5249352228105996,
            0.2312553694002244,
            0.004818084104200482,
            0.180496105467013,
            0.11337608793484955,
            0.522353548867716,
            0.6476733130516641,
            0.9005789996753897,
            0.8484220278555659
           ]
          }
         ],
         "name": "frame25"
        },
        {
         "data": [
          {
           "mode": "markers",
           "type": "scatter",
           "x": [
            0.14556658534763012,
            0.17211410790465886,
            0.19533490852350321,
            0.06595994718938147,
            0.019430406733596306,
            0.8044419139845124,
            0.08391017047532934,
            0.5281123638053768,
            0.3595155859378629,
            0.6331598031887792,
            0.030797363903372843,
            0.6368028299218215,
            0.9844313811217106,
            0.5060839335316362,
            0.34635660808709556,
            0.7900056853896683,
            0.14969398473001938,
            0.2551511881723014,
            0.8929900960935837,
            0.5387352255469435
           ],
           "y": [
            0.457120801581578,
            0.9120475885307439,
            0.7814769770079485,
            0.12054167584838404,
            0.2862630893316941,
            0.8848100726742544,
            0.7235576915791417,
            0.7408195630274536,
            0.7189133573200189,
            0.3942742592182745,
            0.17994580062789922,
            0.8965706105669832,
            0.05792532764161917,
            0.35520796229770824,
            0.49992011056249686,
            0.9245438216034694,
            0.7862704246855834,
            0.4546993170423551,
            0.5680999173528241,
            0.8955508597622476
           ]
          }
         ],
         "name": "frame26"
        },
        {
         "data": [
          {
           "mode": "markers",
           "type": "scatter",
           "x": [
            0.33186863066582994,
            0.5747165395854674,
            0.4971968775222647,
            0.9998918360352437,
            0.13223429610575965,
            0.45792378785019694,
            0.5353345733009696,
            0.35827976141745144,
            0.7376522600199242,
            0.3176492260738938,
            0.3786331725297052,
            0.7566371301806502,
            0.5982383397701408,
            0.19862180580381006,
            0.518980083943463,
            0.8996976224991059,
            0.16187540581626736,
            0.038297319861347434,
            0.7292970491442065,
            0.9930295522291147
           ],
           "y": [
            0.36746005466827303,
            0.12431389559313066,
            0.37149282613451884,
            0.6471812921279213,
            0.036765877385901646,
            0.8935729328458387,
            0.07632495195899147,
            0.3207850684291408,
            0.8457479348637175,
            0.5575719152247282,
            0.6191541004929765,
            0.7306773061171702,
            0.47552562204951465,
            0.9689648499180794,
            0.029325962410284623,
            0.017370028369352752,
            0.01951037431179148,
            0.2836789591271113,
            0.8763415532945407,
            0.8102813399115291
           ]
          }
         ],
         "name": "frame27"
        },
        {
         "data": [
          {
           "mode": "markers",
           "type": "scatter",
           "x": [
            0.7310530445171717,
            0.29306453227789653,
            0.5950209814234251,
            0.7976179619350022,
            0.059573156706401176,
            0.35773211632926394,
            0.58826546158291,
            0.07465780572219516,
            0.4686667113061096,
            0.34235139924314006,
            0.8021853924202544,
            0.9316281448699375,
            0.29063666024832946,
            0.3124415666581837,
            0.008317391526081686,
            0.6065383523550002,
            0.5263795081061117,
            0.34153942348316557,
            0.6042829576701274,
            0.6492027878251234
           ],
           "y": [
            0.2759963901284087,
            0.5965255557107283,
            0.6452498032781739,
            0.11970869045395871,
            0.8037236347677189,
            0.32333045664460913,
            0.1146138256622361,
            0.8433867228032251,
            0.9578986870481407,
            0.7749611996529125,
            0.45105604282721223,
            0.508738815553246,
            0.4691462131656846,
            0.2657366393192049,
            0.9714527991988906,
            0.918562263778246,
            0.4749502773715123,
            0.059735116706502334,
            0.276943065133215,
            0.6718779876773011
           ]
          }
         ],
         "name": "frame28"
        },
        {
         "data": [
          {
           "mode": "markers",
           "type": "scatter",
           "x": [
            0.8642086530131738,
            0.6262987576929104,
            0.3528447645005728,
            0.504892802457737,
            0.20802988638594133,
            0.46482043809853446,
            0.9824014541246179,
            0.42115029802651205,
            0.1724317589321449,
            0.5281468836820729,
            0.460113797948808,
            0.6211393482589067,
            0.5389386971151121,
            0.6227836635574013,
            0.33374407980891374,
            0.8948753997671569,
            0.7962810326946598,
            0.08242142328862845,
            0.3506466121242269,
            0.3073292265257034
           ],
           "y": [
            0.8047491072736376,
            0.03364029731996454,
            0.45928501193951843,
            0.707963357274969,
            0.5112499228313945,
            0.2292414344903898,
            0.3783072057525195,
            0.9834989784757555,
            0.758622698699554,
            0.42829610181321764,
            0.03779577276475776,
            0.9106604860688939,
            0.3056271402143588,
            0.10150891540829587,
            0.497046249625576,
            0.4415212832459495,
            0.6252414392688591,
            0.2169894011062924,
            0.990574755528515,
            0.4105248367644838
           ]
          }
         ],
         "name": "frame29"
        },
        {
         "data": [
          {
           "mode": "markers",
           "type": "scatter",
           "x": [
            0.5621011265335031,
            0.35912428770409655,
            0.029274776035714267,
            0.1414453551409377,
            0.32724048816686635,
            0.05741835061433864,
            0.06951526190740076,
            0.9797762819592005,
            0.22477061109100538,
            0.16510603876931285,
            0.7311557086272422,
            0.01568255730737178,
            0.6811495949632521,
            0.6127160013178453,
            0.13650501983133678,
            0.8888745313097901,
            0.03100032545085074,
            0.22980221413786472,
            0.5753447710766615,
            0.42462161057734626
           ],
           "y": [
            0.5723229241750509,
            0.526582948453954,
            0.8006726275168923,
            0.8666512283576266,
            0.8073959900855271,
            0.8097319449058741,
            0.5952382003040682,
            0.19348450460157862,
            0.9865097233696524,
            0.7330382858996839,
            0.746702547652079,
            0.5143482780021245,
            0.5203368289979998,
            0.6355665863273224,
            0.16202535677859264,
            0.4959772600756508,
            0.975136139117339,
            0.5664683489455014,
            0.6404491182302222,
            0.31433627629905714
           ]
          }
         ],
         "name": "frame30"
        },
        {
         "data": [
          {
           "mode": "markers",
           "type": "scatter",
           "x": [
            0.14478758842658968,
            0.1002417564055974,
            0.029062079029209098,
            0.9122430248986306,
            0.5120400587035473,
            0.03843474124015889,
            0.04262526905806774,
            0.3400131598690659,
            0.4764713359471717,
            0.33424259121259425,
            0.6211569660563394,
            0.2421296069413762,
            0.04466163275735924,
            0.09691211878540551,
            0.673723370031672,
            0.6562296833285886,
            0.23443502299099495,
            0.39605994121675636,
            0.5753104449007808,
            0.3523544874489296
           ],
           "y": [
            0.7635372231752867,
            0.616644893136292,
            0.22486607127215086,
            0.6733514340011906,
            0.26714996482136166,
            0.506289814188845,
            0.9406069516529773,
            0.04330181760946539,
            0.7825383215733791,
            0.2843612947074817,
            0.7127168890125865,
            0.44326550306854184,
            0.18611020693273939,
            0.1908317081966987,
            0.10323080760574921,
            0.1375209121004899,
            0.5493930276667016,
            0.2350578460415076,
            0.11958392359179082,
            0.3895578111007071
           ]
          }
         ],
         "name": "frame31"
        },
        {
         "data": [
          {
           "mode": "markers",
           "type": "scatter",
           "x": [
            0.38416915533780305,
            0.4252701663977494,
            0.20768260971229502,
            0.4831992992095251,
            0.7761725759716055,
            0.5872831321496284,
            0.552734438636332,
            0.4537826747619882,
            0.45260976069510106,
            0.5361270422861034,
            0.13931710236187456,
            0.6682822163637954,
            0.44274783207194357,
            0.515913290743636,
            0.8607427041069253,
            0.6297583477956398,
            0.9932360558507365,
            0.34181095956321295,
            0.3842561923093013,
            0.12092422239057443
           ],
           "y": [
            0.6636829561709263,
            0.4721170964754239,
            0.33748072084250846,
            0.21890857074329972,
            0.150457315972629,
            0.5963565504430512,
            0.7361233837092142,
            0.3369811324591867,
            0.4530431442049434,
            0.3981399764408995,
            0.16697323284659238,
            0.6532829422254853,
            0.25949833156070823,
            0.6508255491213921,
            0.5218282293162326,
            0.3947290144978306,
            0.19127349200823607,
            0.28974574606182213,
            0.6276996150562768,
            0.8903860350914106
           ]
          }
         ],
         "name": "frame32"
        },
        {
         "data": [
          {
           "mode": "markers",
           "type": "scatter",
           "x": [
            0.24581741228970344,
            0.38778388006468123,
            0.3138827251861642,
            0.8872015645699032,
            0.11800872152289021,
            0.9509409457822362,
            0.40923612800128983,
            0.18026118750544495,
            0.7941777522723218,
            0.6483306191331073,
            0.2916155512144708,
            0.9446767598876501,
            0.17275876457191985,
            0.1127434478926902,
            0.9137037462333621,
            0.7073620591381432,
            0.8394401652277652,
            0.6453472029139968,
            0.9683090607143675,
            0.0382018860746659
           ],
           "y": [
            0.4069540653236837,
            0.6441899421437923,
            0.7772820246796813,
            0.5042536081441952,
            0.1921696843515892,
            0.6790773010566179,
            0.9009579814230175,
            0.9855963757721833,
            0.5013349709846037,
            0.2879288696743151,
            0.5329349197347043,
            0.04402232884485657,
            0.6829156850718756,
            0.4741867062890204,
            0.9441197029110618,
            0.4505730754816729,
            0.4935377072785485,
            0.870249810444694,
            0.6969176336986923,
            0.4193960187017238
           ]
          }
         ],
         "name": "frame33"
        },
        {
         "data": [
          {
           "mode": "markers",
           "type": "scatter",
           "x": [
            0.007294476836594566,
            0.3329108237200532,
            0.9619040548787339,
            0.8660400436754375,
            0.4154803674809552,
            0.34103770938492994,
            0.33627894025395966,
            0.6861858124131243,
            0.0949931031434631,
            0.6077464627529949,
            0.3376402151999972,
            0.6393088050028635,
            0.7656784866664615,
            0.7979601942050789,
            0.15171676014767177,
            0.7322662226400288,
            0.5749463768819675,
            0.16391324701512133,
            0.4425311017958552,
            0.593669426093937
           ],
           "y": [
            0.5890702615271777,
            0.35468621545165213,
            0.74032257532182,
            0.6371887335575642,
            0.7437636142825644,
            0.009412049846752812,
            0.8763897145148749,
            0.9450557376284744,
            0.16186695151762576,
            0.5607824539510838,
            0.08241850646089777,
            0.9360322662227085,
            0.45772594739490235,
            0.08419965992693956,
            0.7155909154000681,
            0.7716791646762827,
            0.175122288710158,
            0.8753280779600174,
            0.039742579111031295,
            0.3868356700825035
           ]
          }
         ],
         "name": "frame34"
        },
        {
         "data": [
          {
           "mode": "markers",
           "type": "scatter",
           "x": [
            0.5809346823881117,
            0.7301110459750156,
            0.13233019778545985,
            0.6696892202950763,
            0.4136220274307242,
            0.2117712469053772,
            0.29154809452758035,
            0.6440516001987014,
            0.793965309333464,
            0.024706075677206174,
            0.9070986597943173,
            0.6982596720590623,
            0.9233919752902185,
            0.6040510951360453,
            0.5666161798641414,
            0.5436750941496762,
            0.6881575337076298,
            0.9045679547808861,
            0.40894079769971503,
            0.2964820455185443
           ],
           "y": [
            0.8678113519191191,
            0.40483943408930156,
            0.958681086944581,
            0.969920730127978,
            0.6729875321206983,
            0.16142493682524173,
            0.8381524977148985,
            0.03763078514140861,
            0.8555110160681948,
            0.4290449515159199,
            0.43237554818290813,
            0.10258309971156543,
            0.3027518635349685,
            0.9697316901735961,
            0.6672605227934515,
            0.7143744282700395,
            0.8391728960724132,
            0.5361287300240791,
            0.8082645702000865,
            0.732584264183837
           ]
          }
         ],
         "name": "frame35"
        },
        {
         "data": [
          {
           "mode": "markers",
           "type": "scatter",
           "x": [
            0.5365626148677917,
            0.03784710116512502,
            0.8542135363703522,
            0.9600908563738725,
            0.46078390177420403,
            0.4657516486457046,
            0.14328931403151035,
            0.8259995023835711,
            0.616192511568691,
            0.7754324362513686,
            0.4097160498912146,
            0.43324233674615087,
            0.88546610275134,
            0.40419532293768856,
            0.9680075817712908,
            0.646885838072755,
            0.04808274717722327,
            0.6461127460572955,
            0.20183557318735024,
            0.9852510622805932
           ],
           "y": [
            0.4709555296999608,
            0.8648026992153766,
            0.6620043811523544,
            0.27400576732074267,
            0.3997692405241653,
            0.5759893830507204,
            0.15011102153717426,
            0.964813706827931,
            0.5030012648129093,
            0.9039156275311165,
            0.37080248541060845,
            0.3496392086490665,
            0.3667211885727656,
            0.23794803704025402,
            0.3996910947358814,
            0.8000009975935288,
            0.09914362310560665,
            0.5200399244041687,
            0.8431227577885043,
            0.22198405394497456
           ]
          }
         ],
         "name": "frame36"
        },
        {
         "data": [
          {
           "mode": "markers",
           "type": "scatter",
           "x": [
            0.5541385370406622,
            0.708029695214286,
            0.21604452356297066,
            0.2949828948698524,
            0.3186413648060016,
            0.7860445286638725,
            0.11381248303669311,
            0.6596590101048956,
            0.1842787918717761,
            0.3597931430859237,
            0.6200176625279241,
            0.09668726503365888,
            0.13462125213180942,
            0.4424048344144226,
            0.5017406689432312,
            0.9683535199733079,
            0.8723794281110578,
            0.27667278785673866,
            0.8220983719028823,
            0.544308039728455
           ],
           "y": [
            0.3676913165644152,
            0.2858009287948645,
            0.8844421990359824,
            0.8877734556065215,
            0.9083003545270705,
            0.06529394020768853,
            0.23436868541170786,
            0.07419241378782859,
            0.20488045767270913,
            0.049094920634462635,
            0.6635234660011168,
            0.1519558232508117,
            0.5693386799322869,
            0.40707295217286144,
            0.31294507826687834,
            0.5390618138355069,
            0.3730821231995006,
            0.9927665168909103,
            0.12534446552681866,
            0.29870427876781824
           ]
          }
         ],
         "name": "frame37"
        },
        {
         "data": [
          {
           "mode": "markers",
           "type": "scatter",
           "x": [
            0.22005187702247908,
            0.23090629050282752,
            0.10558696611309548,
            0.2732778635340566,
            0.8634508159072718,
            0.18373361829708101,
            0.0396858107022422,
            0.42920891302459774,
            0.04250887912433321,
            0.8036335959210512,
            0.3105653139754766,
            0.2966196111217707,
            0.9505531400170607,
            0.6390329008132595,
            0.3743246601066942,
            0.5112268425620374,
            0.7336064536307031,
            0.9786257877201676,
            0.35166621699360734,
            0.16470301955759692
           ],
           "y": [
            0.6343845338107581,
            0.5494062333523201,
            0.16201179196889004,
            0.6177572229724384,
            0.6093733890097703,
            0.2916518203920436,
            0.4782532623164918,
            0.9629480530050704,
            0.7828780261344447,
            0.6741410876818958,
            0.5297465926890873,
            0.28962293881759293,
            0.8969445496462942,
            0.4723659067784026,
            0.4827951719129703,
            0.6754804151574462,
            0.40224734112907723,
            0.5704113788376027,
            0.12765548008449779,
            0.706691757719592
           ]
          }
         ],
         "name": "frame38"
        },
        {
         "data": [
          {
           "mode": "markers",
           "type": "scatter",
           "x": [
            0.9392586019427942,
            0.09460976391345044,
            0.5343722191678096,
            0.930495910216044,
            0.6980351277296146,
            0.43401577247641887,
            0.81259668130075,
            0.548120297588906,
            0.11707824489017493,
            0.48033228914108805,
            0.8687714055282757,
            0.0315770076187033,
            0.6093617618229448,
            0.18219060106964058,
            0.8874256474036301,
            0.14326573527341924,
            0.12064976806327343,
            0.26692569021052015,
            0.8124504537610385,
            0.3887538371527657
           ],
           "y": [
            0.7355626113582467,
            0.45036873587315773,
            0.9462299762920929,
            0.5206302064676774,
            0.4327789171135352,
            0.26264615920629897,
            0.46979164952817043,
            0.09574006680750002,
            0.12384427402160003,
            0.04505204368997373,
            0.4362858410852807,
            0.5262102814070339,
            0.7356082925507361,
            0.2532465468013402,
            0.4393040997705919,
            0.17440921603866033,
            0.2281114668937223,
            0.23137299385672694,
            0.5188423403451493,
            0.29765091206725447
           ]
          }
         ],
         "name": "frame39"
        },
        {
         "data": [
          {
           "mode": "markers",
           "type": "scatter",
           "x": [
            0.9384448448601218,
            0.8530109143952319,
            0.010385793577575075,
            0.6447953314575702,
            0.9181873145390301,
            0.3121650236893172,
            0.17764834199243096,
            0.5543352673693185,
            0.0640155366397287,
            0.7240678825820225,
            0.2351570314663013,
            0.04641850281113746,
            0.5243663995454535,
            0.4703265274538522,
            0.6696017100964509,
            0.12427275815958905,
            0.19928217451023633,
            0.3542441711254548,
            0.5774676618323034,
            0.7381966867956573
           ],
           "y": [
            0.8928770914861613,
            0.39954222591019306,
            0.37587830996276106,
            0.9307388157492409,
            0.15674978896644487,
            0.9625914196350028,
            0.33458893021002756,
            0.3087781701641237,
            0.698835544678858,
            0.08148814172621599,
            0.15483651408125465,
            0.8024736438999556,
            0.8712043953198392,
            0.317800595897591,
            0.11357261128280705,
            0.9240640791799081,
            0.248919961443951,
            0.6919244378784604,
            0.533251650483328,
            0.36185605981820823
           ]
          }
         ],
         "name": "frame40"
        },
        {
         "data": [
          {
           "mode": "markers",
           "type": "scatter",
           "x": [
            0.1757223172816118,
            0.8303625512934305,
            0.4907740061894019,
            0.21361385193252447,
            0.03369770817579487,
            0.8187938520000022,
            0.7226003800290377,
            0.6523407360242985,
            0.34621816905607317,
            0.4209981513230817,
            0.3177063012729223,
            0.8494418957471689,
            0.007515085677272659,
            0.06946241017794319,
            0.10337788274457005,
            0.024087492794313436,
            0.7323490342378809,
            0.23652819106340484,
            0.5651307110328416,
            0.2857494562051145
           ],
           "y": [
            0.5369769704441737,
            0.12055810722977411,
            0.4148773570476837,
            0.8156732564572906,
            0.6075919120828364,
            0.5342809908841187,
            0.9233936067401316,
            0.49171101934015105,
            0.49802303935997094,
            0.553240695827371,
            0.9701726091467375,
            0.7946497798072808,
            0.86345013725077,
            0.8554797113442878,
            0.54641358233987,
            0.13304017557138892,
            0.03588686343756187,
            0.8565698503792045,
            0.48721730129419516,
            0.746688165250044
           ]
          }
         ],
         "name": "frame41"
        },
        {
         "data": [
          {
           "mode": "markers",
           "type": "scatter",
           "x": [
            0.8287934219871169,
            0.8324561257145974,
            0.6677894876769789,
            0.5899810956241514,
            0.7800967317894155,
            0.7034854939898724,
            0.7020180724413659,
            0.3597926095901719,
            0.7562464173135305,
            0.7767699678393721,
            0.23677444700224637,
            0.8864076320736699,
            0.4088121565753561,
            0.020513324783096754,
            0.821150274030398,
            0.08899811522768775,
            0.7525951008654767,
            0.14941515657142657,
            0.6524299930160669,
            0.24835424512134574
           ],
           "y": [
            0.1590702623968645,
            0.09891904005653629,
            0.5192964568987357,
            0.7811776808622627,
            0.08447760519056569,
            0.3217390724569179,
            0.3322153458385301,
            0.26072579052622435,
            0.7099078269109463,
            0.4845180565139824,
            0.5271164805436329,
            0.2894454725450848,
            0.3446534720961115,
            0.5718895824466144,
            0.5987803414423748,
            0.07872609443498146,
            0.9947560719487957,
            0.05797637069174322,
            0.27712491721337973,
            0.9133030509248774
           ]
          }
         ],
         "name": "frame42"
        },
        {
         "data": [
          {
           "mode": "markers",
           "type": "scatter",
           "x": [
            0.10305176343005762,
            0.5196919208798415,
            0.3077214151941394,
            0.10748806112689846,
            0.7280409652545218,
            0.8644227617935587,
            0.7166579326778635,
            0.8157675166544915,
            0.1034014358510934,
            0.03764133224454247,
            0.18501206946261395,
            0.4007088753423015,
            0.6946200506574982,
            0.8150023739801073,
            0.1782141225352667,
            0.025965704084742525,
            0.3998896720416607,
            0.7065850887639533,
            0.7399993197125558,
            0.28418671753499636
           ],
           "y": [
            0.08292502650448974,
            0.6099581949946674,
            0.5012401479023659,
            0.14608214899015248,
            0.05265522004204748,
            0.7423327897939344,
            0.14499879725831666,
            0.8365084914682552,
            0.6784495322260811,
            0.5685568852109968,
            0.6096177223246642,
            0.6245688787397012,
            0.37893774422549276,
            0.441968860058251,
            0.162454582129277,
            0.19889681946985283,
            0.10201013282339966,
            0.793832552566962,
            0.2824751375121216,
            0.9318151783674301
           ]
          }
         ],
         "name": "frame43"
        },
        {
         "data": [
          {
           "mode": "markers",
           "type": "scatter",
           "x": [
            0.9627853089705588,
            0.9609073518942232,
            0.2469692940667374,
            0.37622491170208006,
            0.7451984621400561,
            0.9437321643431409,
            0.6129059881203152,
            0.17116868276306085,
            0.24778434153905582,
            0.3745982811911003,
            0.24638787330785816,
            0.10686327440425047,
            0.4758276020204235,
            0.1895371153247718,
            0.37450296283471773,
            0.5061796139197473,
            0.9397198133244037,
            0.7717467180154449,
            0.063898748553058,
            0.6889091886386036
           ],
           "y": [
            0.534891901665577,
            0.7962612123033361,
            0.8979414859986676,
            0.8547666200680649,
            0.254371423050626,
            0.7650145939789786,
            0.7353569942163238,
            0.5406026872983839,
            0.31340758534353286,
            0.2773083922185716,
            0.5843159268935372,
            0.549342600226841,
            0.27186258086778003,
            0.06289485022998464,
            0.08273609687016825,
            0.16682848069930256,
            0.010165785715875453,
            0.30627733983312844,
            0.8270287412520516,
            0.687055929332105
           ]
          }
         ],
         "name": "frame44"
        },
        {
         "data": [
          {
           "mode": "markers",
           "type": "scatter",
           "x": [
            0.1942807660749728,
            0.47677173809556994,
            0.8726872484168559,
            0.7051649443333061,
            0.5356306746588643,
            0.26263705496040035,
            0.8419931846485305,
            0.9625566649007199,
            0.9626387899916803,
            0.10967363560026622,
            0.9904777407649502,
            0.17568083088149422,
            0.8468597347673666,
            0.16635498417764294,
            0.6802574651921849,
            0.5921270412405509,
            0.11922424510059848,
            0.44857396746891276,
            0.16383223015445258,
            0.08287105039987641
           ],
           "y": [
            0.955146390413187,
            0.8338371269975927,
            0.714059635755295,
            0.348879089070564,
            0.5535190948345108,
            0.6703724464236602,
            0.19012572641433145,
            0.45627762499395785,
            0.2303250819295457,
            0.9669895477292229,
            0.6403448752829297,
            0.6165964610274434,
            0.7889851505326401,
            0.4917225366267761,
            0.6558145747036748,
            0.7310845990304938,
            0.41863819694327,
            0.20242168747104716,
            0.21268212986458845,
            0.39693845646663617
           ]
          }
         ],
         "name": "frame45"
        },
        {
         "data": [
          {
           "mode": "markers",
           "type": "scatter",
           "x": [
            0.8444042973094749,
            0.8528305308080557,
            0.4242153743909317,
            0.37585824964893466,
            0.5419255546375095,
            0.08960298307012826,
            0.3443796332029654,
            0.6780932056223983,
            0.10394482320485299,
            0.9583501162765488,
            0.25005787978230143,
            0.33567950556052073,
            0.8514394083419402,
            0.18308771517795952,
            0.4463650996247085,
            0.7242500465211793,
            0.3852619268243862,
            0.692403135673844,
            0.17170011635273275,
            0.13491276493441073
           ],
           "y": [
            0.1680383856616673,
            0.750063810347241,
            0.6329448694448662,
            0.6043495257206242,
            0.6258136118242053,
            0.35124533434245053,
            0.49175453315302176,
            0.7202233517258457,
            0.3093948225991785,
            0.1329602380990741,
            0.06777532278640197,
            0.1522132269086094,
            0.6066726049804114,
            0.49637980293451,
            0.4411769596002557,
            0.6912770360802265,
            0.7094907886094832,
            0.7207157760993408,
            0.36661377899102354,
            0.40169925257527384
           ]
          }
         ],
         "name": "frame46"
        },
        {
         "data": [
          {
           "mode": "markers",
           "type": "scatter",
           "x": [
            0.738497385975965,
            0.943171741307485,
            0.02726451440959654,
            0.5823570394790146,
            0.6209712177425044,
            0.01692930824954464,
            0.6401935867953505,
            0.4429606396013055,
            0.27423297158448445,
            0.2945179993327308,
            0.28132746342516046,
            0.6316232336433723,
            0.7861850513912385,
            0.14448417289688742,
            0.482231707945869,
            0.5601363096125569,
            0.6540166458338691,
            0.4474924987807455,
            0.011998264697710703,
            0.40474142491486076
           ],
           "y": [
            0.32134706178479144,
            0.4428309188759679,
            0.0623113708855112,
            0.25838033059225995,
            0.5337683635782507,
            0.5989464506490297,
            0.21661579187071722,
            0.5514967371636195,
            0.8449167816282593,
            0.14089085985532968,
            0.9923519083341047,
            0.6772367471209021,
            0.9582098072888507,
            0.20939811851202073,
            0.631609451538444,
            0.16695104672951389,
            0.3359940425497181,
            0.7454426946195816,
            0.6514031412188293,
            0.454344406893225
           ]
          }
         ],
         "name": "frame47"
        },
        {
         "data": [
          {
           "mode": "markers",
           "type": "scatter",
           "x": [
            0.26678945660975906,
            0.03971612063344787,
            0.5552088869042923,
            0.16869832005812568,
            0.22130777522247036,
            0.44900529997428973,
            0.004201034276222759,
            0.912681915155697,
            0.8417095051128662,
            0.5542857223223462,
            0.3852065031564367,
            0.14484082350946892,
            0.2709370566329484,
            0.5086464781978608,
            0.17073666790592956,
            0.5970161063492206,
            0.46768076903704614,
            0.42760526053622905,
            0.39135699254853296,
            0.7816454316292926
           ],
           "y": [
            0.6907917932015764,
            0.1385881256215593,
            0.6444637383932093,
            0.7996622961682541,
            0.744738808073623,
            0.16547547361936688,
            0.4892105864322761,
            0.49427351593682267,
            0.3771134759008602,
            0.7224975896971553,
            0.6719557868999877,
            0.9505461868756431,
            0.3045180026890385,
            0.9338712874451776,
            0.4137075673638828,
            0.03815835631469977,
            0.8198703700813835,
            0.6188512939520195,
            0.3671647435401575,
            0.04116161893404424
           ]
          }
         ],
         "name": "frame48"
        },
        {
         "data": [
          {
           "mode": "markers",
           "type": "scatter",
           "x": [
            0.622149618776001,
            0.6977961052210003,
            0.7285555566219437,
            0.7590910147690597,
            0.11364940501047671,
            0.37879913351709027,
            0.2380433912990545,
            0.2216107793224279,
            0.03546191761905504,
            0.4439392279268879,
            0.20018861431624835,
            0.22279445652632668,
            0.6236371799275381,
            0.1727813732391258,
            0.056934827688017164,
            0.6407688180101273,
            0.7503308375695898,
            0.06831505484865674,
            0.6284522168640041,
            0.17065282623313216
           ],
           "y": [
            0.3047031802835056,
            0.7877332931402625,
            0.9481493767097764,
            0.2835132953935322,
            0.4037691629912086,
            0.3578175246728055,
            0.8327463033339382,
            0.17345304799405525,
            0.811577429051299,
            0.7252334519329908,
            0.944185770936413,
            0.5018470707803114,
            0.7505388414569487,
            0.24270537755083665,
            0.8083966691936207,
            0.8879884564790369,
            0.2038751277375216,
            0.5877379450861753,
            0.3794172024122068,
            0.44555920791066694
           ]
          }
         ],
         "name": "frame49"
        },
        {
         "data": [
          {
           "mode": "markers",
           "type": "scatter",
           "x": [
            0.8037587669768405,
            0.005611391212082317,
            0.18382369600646387,
            0.1482037239097197,
            0.9539199552330833,
            0.341128312467024,
            0.20992241550577362,
            0.8006373755045858,
            0.6751971783756463,
            0.24375666007792618,
            0.2620482100721814,
            0.5252702547635275,
            0.3012028302714308,
            0.29641357376741506,
            0.6224823738380085,
            0.99435133683633,
            0.9028609755881913,
            0.2036852058621651,
            0.7122298520637199,
            0.12462455815183315
           ],
           "y": [
            0.27915937511270095,
            0.401208888402394,
            0.6228818885213507,
            0.8176340655104132,
            0.15360121753102696,
            0.7570032969891483,
            0.8480889106109653,
            0.9770261000359036,
            0.7792586062935688,
            0.8214768530282158,
            0.9582391518645881,
            0.4195315254173526,
            0.3027334283936408,
            0.01613692157850799,
            0.08058255121608493,
            0.766705951566365,
            0.7297658845262482,
            0.6581491509134446,
            0.5671744471029634,
            0.9940952193636506
           ]
          }
         ],
         "name": "frame50"
        },
        {
         "data": [
          {
           "mode": "markers",
           "type": "scatter",
           "x": [
            0.0038543584444810097,
            0.43463102128900755,
            0.4671678519040825,
            0.6569329035284857,
            0.9716316831658621,
            0.7981986012437317,
            0.5424791637675419,
            0.6160069464467293,
            0.16930508238775333,
            0.46376152702729234,
            0.09474738314817988,
            0.8760369705486443,
            0.8546399653500811,
            0.3386249988072555,
            0.7417653567090803,
            0.2250475225665981,
            0.010438424352434472,
            0.026592811698025853,
            0.5456185504253046,
            0.9029669689406011
           ],
           "y": [
            0.49448523224289287,
            0.5531811337901184,
            0.27719295002326505,
            0.6366170119334642,
            0.793306245727243,
            0.07874264323441771,
            0.47110448027930407,
            0.6862394958740075,
            0.8973572721704239,
            0.9057714468342692,
            0.23564344078551547,
            0.10716625559814763,
            0.09565904906001488,
            0.8437342392535357,
            0.5974259850490101,
            0.6880411282240305,
            0.5197259943781115,
            0.5281151050764227,
            0.9491593153104457,
            0.9240384793992191
           ]
          }
         ],
         "name": "frame51"
        },
        {
         "data": [
          {
           "mode": "markers",
           "type": "scatter",
           "x": [
            0.0772948586683001,
            0.1419100437199835,
            0.8178558298060038,
            0.7141140218527554,
            0.7995259977098012,
            0.06021077828304311,
            0.7624131731225612,
            0.865822328970599,
            0.8854897894836595,
            0.7507844295689012,
            0.5987707135328711,
            0.6840777648223296,
            0.08758783681482463,
            0.5684655397862223,
            0.9759413887754569,
            0.5342741504642433,
            0.822413080434838,
            0.658953586380896,
            0.46437858133427856,
            0.1841946621048185
           ],
           "y": [
            0.20720423083050132,
            0.6770496205317352,
            0.46270126138793877,
            0.8258733249022492,
            0.022212956565179853,
            0.10265039081943528,
            0.1478509064654665,
            0.9440580960720278,
            0.9367206284435255,
            0.13434339530453276,
            0.8001974757737699,
            0.43518043925024763,
            0.011162433678549522,
            0.12032966674692447,
            0.5881239314335737,
            0.797271236789679,
            0.2923356730245469,
            0.2060633178586988,
            0.5447862483061122,
            0.5904081943069298
           ]
          }
         ],
         "name": "frame52"
        },
        {
         "data": [
          {
           "mode": "markers",
           "type": "scatter",
           "x": [
            0.5037827543117936,
            0.28031454744721207,
            0.6957349671165749,
            0.6138982742929671,
            0.2892786956665794,
            0.5295344674092153,
            0.4045995382596652,
            0.3593170632809829,
            0.46545073633580647,
            0.20448686563299978,
            0.3176103433951998,
            0.06363279267093536,
            0.7302721869488904,
            0.5908520224801419,
            0.650230526127327,
            0.24182202737870262,
            0.39734294718564755,
            0.7166656465839815,
            0.9896468211240782,
            0.36799766517113053
           ],
           "y": [
            0.5491356306717118,
            0.8400909862026328,
            0.6583784211625153,
            0.8390280182701437,
            0.8248163489140222,
            0.1754869051825232,
            0.7337021104188169,
            0.06898841863883454,
            0.7079415096560427,
            0.25428368247225264,
            0.6697383835361164,
            0.3721319477076729,
            0.9535777093445635,
            0.9955667751259332,
            0.2563632896741932,
            0.32219641703472246,
            0.822276251224705,
            0.4017104682313102,
            0.3603324828746547,
            0.41406522141530855
           ]
          }
         ],
         "name": "frame53"
        },
        {
         "data": [
          {
           "mode": "markers",
           "type": "scatter",
           "x": [
            0.5703600289657225,
            0.7539327213843126,
            0.9613636501372302,
            0.5445072003943755,
            0.9533153271799855,
            0.4015456475053627,
            0.16359927483621917,
            0.2377726045157107,
            0.6146038476653476,
            0.26927133558495553,
            0.2774815964574464,
            0.580429411494101,
            0.34487789050809037,
            0.914350921376508,
            0.20443483994426304,
            0.7779724550674116,
            0.5554447643616467,
            0.7602098255021887,
            0.37548431909426094,
            0.11208364732512599
           ],
           "y": [
            0.5054499046998087,
            0.09855253297859956,
            0.8102831220337638,
            0.07305772585858572,
            0.20131195221412423,
            0.19708998446718162,
            0.7176484387248981,
            0.04291977662537161,
            0.17435717486678137,
            0.5469614587652528,
            0.24567139788044434,
            0.9215442869683718,
            0.8198738534026068,
            0.2734951168251003,
            0.25900402969478153,
            0.829427909463055,
            0.21368077184498546,
            0.423249478416311,
            0.5477405001436947,
            0.728526267798489
           ]
          }
         ],
         "name": "frame54"
        },
        {
         "data": [
          {
           "mode": "markers",
           "type": "scatter",
           "x": [
            0.5535112130335426,
            0.1541040621035591,
            0.5576894421356365,
            0.4257177340725081,
            0.004826931398133283,
            0.5805138355270697,
            0.4172598262224143,
            0.5005156388981352,
            0.5857473274740124,
            0.4794342439927576,
            0.83760066112157,
            0.050873178687276144,
            0.5357668988755614,
            0.7690159846299975,
            0.9289291522969447,
            0.5266788153910283,
            0.24558889735285472,
            0.52207622775751,
            0.8367435640312749,
            0.33770596384521634
           ],
           "y": [
            0.5527926773367644,
            0.4623234523472277,
            0.06386469317271759,
            0.24534677818569617,
            0.24866587212448454,
            0.5707560377316958,
            0.33315456966110557,
            0.881287478092446,
            0.5207856568538004,
            0.9548515480981921,
            0.963193752167671,
            0.5406770763424599,
            0.4273248445398985,
            0.1710241100201454,
            0.6372452051162196,
            0.7589409334620768,
            0.9758199890876634,
            0.759812273276138,
            0.2664649941472802,
            0.863559476714595
           ]
          }
         ],
         "name": "frame55"
        },
        {
         "data": [
          {
           "mode": "markers",
           "type": "scatter",
           "x": [
            0.6032949225261133,
            0.7241834361781997,
            0.08763558551121897,
            0.880250065175172,
            0.7651540876602402,
            0.018224396143207033,
            0.45349539163753805,
            0.10445331908554989,
            0.7322646745868556,
            0.8887570986114278,
            0.8505831482697923,
            0.603297141973683,
            0.664285932257588,
            0.015470649808801085,
            0.23443993050360523,
            0.8870521961481398,
            0.9661101125068713,
            0.6161926295241018,
            0.9358142151882554,
            0.9604521312999879
           ],
           "y": [
            0.4010979950593375,
            0.19781206956324837,
            0.08644246808855127,
            0.8665350996800536,
            0.8190740522337954,
            0.4754961610642613,
            0.7424466062893275,
            0.6602893063736233,
            0.5406236048675384,
            0.013476336267033373,
            0.26142518628637645,
            0.7728023603610765,
            0.8880914961297011,
            0.01046746154081668,
            0.5131863063966495,
            0.8982518909097418,
            0.38101842068265246,
            0.9026228264090267,
            0.021590728247480317,
            0.2322905197822781
           ]
          }
         ],
         "name": "frame56"
        },
        {
         "data": [
          {
           "mode": "markers",
           "type": "scatter",
           "x": [
            0.24408685433833432,
            0.12000770518803028,
            0.263020693981205,
            0.12437524439985082,
            0.5175809924499598,
            0.8191533865220596,
            0.7738891952752152,
            0.9117275426326107,
            0.32080857395950646,
            0.7391362422200821,
            0.5422249921588669,
            0.4837281467729556,
            0.07778669153828632,
            0.5306385110171367,
            0.9422222214850379,
            0.40171932762846396,
            0.3953127192836118,
            0.5830932427403586,
            0.11124269189659053,
            0.6370147476010984
           ],
           "y": [
            0.0097983957245249,
            0.6593609910564712,
            0.3402081350720878,
            0.32676903059831497,
            0.4867572493024219,
            0.4170070428783571,
            0.7152913495236984,
            0.02567598223531209,
            0.8019653893984483,
            0.32115211374059893,
            0.9687069570297213,
            0.5492851271703406,
            0.3262051629506455,
            0.8765258162513272,
            0.84549204136877,
            0.8434685811877692,
            0.5965232598713817,
            0.8810220831147689,
            0.9705262413906385,
            0.34116497058486195
           ]
          }
         ],
         "name": "frame57"
        },
        {
         "data": [
          {
           "mode": "markers",
           "type": "scatter",
           "x": [
            0.961998772037126,
            0.3909962403380973,
            0.7646221533021553,
            0.39669502551288904,
            0.7046809415449184,
            0.8148800653012568,
            0.26998170417480327,
            0.2656254040167111,
            0.22986407551178079,
            0.17594515824705237,
            0.566704491972977,
            0.8710987190776011,
            0.4751388540069229,
            0.8133531121845843,
            0.41640720176527357,
            0.8598879774600392,
            0.45082387696165305,
            0.24681462192584558,
            0.055039778353804136,
            0.328784512923022
           ],
           "y": [
            0.6976090219871007,
            0.11049019465548082,
            0.13050927568334325,
            0.48381804214099566,
            0.3422351639353425,
            0.2473166252779937,
            0.006567947730434565,
            0.5888971524899107,
            0.7499959343535552,
            0.1978715646110012,
            0.6633899531910511,
            0.4732297923476694,
            0.05835668589536591,
            0.16363651303155602,
            0.8243763730475726,
            0.579158371361186,
            0.2110501678535356,
            0.7616530108314362,
            0.1289420674129541,
            0.7865116775923392
           ]
          }
         ],
         "name": "frame58"
        },
        {
         "data": [
          {
           "mode": "markers",
           "type": "scatter",
           "x": [
            0.07847765728164768,
            0.8338232861529324,
            0.6304868939561005,
            0.28773118139184717,
            0.6063231653704176,
            0.838747354299694,
            0.5228455991333152,
            0.5443521452086727,
            0.6700047914357598,
            0.2768323143388304,
            0.565251129620483,
            0.10431374455422082,
            0.7309757334814708,
            0.4433038100317286,
            0.9110490671403797,
            0.6483772594114398,
            0.8564705056327532,
            0.02830471746410468,
            0.6936411370934211,
            0.48438388215753425
           ],
           "y": [
            0.24386642712372264,
            0.22737843763287502,
            0.8399823736846065,
            0.8150092393605147,
            0.39568738169762485,
            0.3291015262531658,
            0.4296488173297184,
            0.8314449839623863,
            0.4943004429502571,
            0.5411112121573363,
            0.5871035354173811,
            0.31087464781878615,
            0.04188784898465037,
            0.5695846169111555,
            0.2862758293341898,
            0.7407773029300702,
            0.06544468138755866,
            0.6874901774764453,
            0.44533393447750513,
            0.5571337185259241
           ]
          }
         ],
         "name": "frame59"
        },
        {
         "data": [
          {
           "mode": "markers",
           "type": "scatter",
           "x": [
            0.8172404282637306,
            0.29432677836624144,
            0.2734177290732902,
            0.592531876749842,
            0.05185420188030321,
            0.38869006835325404,
            0.5481225894215314,
            0.5405106587365105,
            0.141954717202602,
            0.22117352501639864,
            0.11018492017285364,
            0.8049173530599016,
            0.5572964806829594,
            0.1036935554800803,
            0.025058798787422232,
            0.30063556864154384,
            0.5521517306172922,
            0.0391159596284848,
            0.7312751364323128,
            0.8226231354172199
           ],
           "y": [
            0.25262310817668243,
            0.04255841599579857,
            0.05352305255479006,
            0.4034308549020341,
            0.5921002462952466,
            0.9428184155898053,
            0.41883535699866536,
            0.3575912625850284,
            0.3694097231878348,
            0.0965572016842271,
            0.6443762515646528,
            0.9392704083337188,
            0.08593507116174048,
            0.3345312824486546,
            0.6829623819366737,
            0.25046728187724077,
            0.7112682095643943,
            0.4360049099965091,
            0.6909468664247427,
            0.4593200999257253
           ]
          }
         ],
         "name": "frame60"
        },
        {
         "data": [
          {
           "mode": "markers",
           "type": "scatter",
           "x": [
            0.2958771743305435,
            0.07627039434982019,
            0.09348373961264644,
            0.5388083151431211,
            0.6071741446153689,
            0.5869872535041721,
            0.06237145603810901,
            0.17250627526114748,
            0.47451188766430386,
            0.5810280161511697,
            0.26466423885806467,
            0.3056612236286006,
            0.12046294508657318,
            0.364219494523056,
            0.4143313031664071,
            0.9748275224986378,
            0.2955207048037617,
            0.5335327503531477,
            0.011844340379854823,
            0.17324549346329832
           ],
           "y": [
            0.180069600789029,
            0.22867102059296018,
            0.6107545521973351,
            0.4233798117888242,
            0.06277132528236995,
            0.28981874216786085,
            0.5372807938962347,
            0.11682563054389039,
            0.4130946433705215,
            0.86373608250962,
            0.47294728047203194,
            0.35837309241111825,
            0.7926367049848356,
            0.09724118022915695,
            0.49211950617182953,
            0.4200536580238612,
            0.8654419259785585,
            0.06432858206910586,
            0.44163766181346364,
            0.5596384796671395
           ]
          }
         ],
         "name": "frame61"
        },
        {
         "data": [
          {
           "mode": "markers",
           "type": "scatter",
           "x": [
            0.6358789125657719,
            0.2506639765522367,
            0.4911063051923725,
            0.5164083141316008,
            0.10435819812281288,
            0.25821153821827825,
            0.87388459417312,
            0.63610049124349,
            0.5228673900867709,
            0.9589186024411571,
            0.2576556615031219,
            0.5439810298585328,
            0.29675632835200505,
            0.4921163328033711,
            0.9171218338911412,
            0.7564481292059817,
            0.20653990381183973,
            0.36905676423771727,
            0.6797426087623734,
            0.5040298375909696
           ],
           "y": [
            0.47449906497574035,
            0.004852864626280984,
            0.024428301212555237,
            0.5190452488392509,
            0.0864845706994154,
            0.29424368263540335,
            0.7354764341336903,
            0.9183584157185598,
            0.7795191123037344,
            0.2894587350690425,
            0.008667556719918146,
            0.051039510573407276,
            0.0143624280096597,
            0.348356500556276,
            0.6485344022749303,
            0.22111790076699867,
            0.7630793140198111,
            0.3445645330552738,
            0.42424201276395224,
            0.07978441523244761
           ]
          }
         ],
         "name": "frame62"
        },
        {
         "data": [
          {
           "mode": "markers",
           "type": "scatter",
           "x": [
            0.13543236607994846,
            0.7910412027792529,
            0.628947056732128,
            0.6171951989598626,
            0.41369821698056586,
            0.13581737810120897,
            0.5236843853775334,
            0.8685058065063712,
            0.32941810546704753,
            0.02681126252827759,
            0.5279217522538265,
            0.35823556656726163,
            0.3053247991692035,
            0.6167460561532127,
            0.8863850383869061,
            0.48202333705789613,
            0.31166048332534324,
            0.7326118416640303,
            0.6764125146897507,
            0.6928326535429566
           ],
           "y": [
            0.8450550186319604,
            0.9970536113629908,
            0.19509156450823573,
            0.9225285065016297,
            0.7463635212862261,
            0.7310450881513599,
            0.25886876667708447,
            0.21975336854890148,
            0.8882971511770705,
            0.6510514443419162,
            0.6518773065694099,
            0.286683003001022,
            0.7328837508555354,
            0.6126185187022506,
            0.8496665246901367,
            0.5085477787558443,
            0.7393341822328977,
            0.41092600805278634,
            0.2899140339478228,
            0.48473001110184566
           ]
          }
         ],
         "name": "frame63"
        },
        {
         "data": [
          {
           "mode": "markers",
           "type": "scatter",
           "x": [
            0.885446254762655,
            0.1374948428555054,
            0.379851551826785,
            0.6696701660330923,
            0.01362082028806888,
            0.6353836102993419,
            0.7141069562735786,
            0.9446678635822897,
            0.7045010873922166,
            0.2874407850446775,
            0.5536742997070206,
            0.12542646936853485,
            0.23978541601764003,
            0.13760760118722892,
            0.4878041385128562,
            0.944153823883425,
            0.4023429206451651,
            0.6552713980208626,
            0.49331309029559556,
            0.7879352698951072
           ],
           "y": [
            0.5958743853854974,
            0.27727290252810277,
            0.08136129185450558,
            0.30622867761976524,
            0.8615576513358542,
            0.03702304861459926,
            0.4052760835999476,
            0.6551355745365527,
            0.2512173797860926,
            0.7963131302324921,
            0.10995455257160569,
            0.049229648471282084,
            0.6846763062748276,
            0.43765286801679093,
            0.1786266327700089,
            0.32002959142257204,
            0.2707098534670186,
            0.43181206706731845,
            0.6613860147280755,
            0.29244351252367906
           ]
          }
         ],
         "name": "frame64"
        },
        {
         "data": [
          {
           "mode": "markers",
           "type": "scatter",
           "x": [
            0.15513201839580182,
            0.005564528450549666,
            0.9753240437926289,
            0.7097496619917489,
            0.3207663765612536,
            0.24467170343139777,
            0.7115725691633743,
            0.1550911953212769,
            0.6875369438720852,
            0.1110425799498107,
            0.8774827139907773,
            0.12946008411805876,
            0.9890495792483204,
            0.43615355547469026,
            0.5072247093978156,
            0.774936858118694,
            0.9892239083851576,
            0.19283570666983518,
            0.6248765417851947,
            0.26107184614769274
           ],
           "y": [
            0.15722470629951357,
            0.4361209731782256,
            0.48973222260542604,
            0.5241531236326807,
            0.7339009636174051,
            0.12373472603557512,
            0.09196496314961122,
            0.7837251079059573,
            0.8108849658617855,
            0.5060495920918827,
            0.2826761691424219,
            0.9829674048633185,
            0.9909555765226294,
            0.3289217921512402,
            0.07797527889538391,
            0.7710561736409127,
            0.04611207963557662,
            0.9284983514944394,
            0.06493935332014134,
            0.5209728184232164
           ]
          }
         ],
         "name": "frame65"
        },
        {
         "data": [
          {
           "mode": "markers",
           "type": "scatter",
           "x": [
            0.48735578615606245,
            0.196818455693188,
            0.668904837109771,
            0.751605063798878,
            0.10298633284584513,
            0.4400846751083862,
            0.16372628560459768,
            0.7950963670406996,
            0.6553016385433512,
            0.5052871718499935,
            0.5411766903149777,
            0.508650476154571,
            0.9656199404147394,
            0.8643036063851105,
            0.4515134115773154,
            0.02051113472871169,
            0.23723547210595186,
            0.03039847359776171,
            0.009659133941193554,
            0.5085085958910487
           ],
           "y": [
            0.6612096132945181,
            0.5226607601779462,
            0.08596293544354605,
            0.09179262929483756,
            0.27228523977675356,
            0.44477222780779935,
            0.13007255124539385,
            0.8755524986065873,
            0.15236722940468095,
            0.14778052891782367,
            0.8348713274693743,
            0.24952896086590037,
            0.06243997499569354,
            0.3861896309213251,
            0.14302929358403826,
            0.3473398112889189,
            0.5094624266779585,
            0.3833746523565217,
            0.8883756624135954,
            0.32465667980821356
           ]
          }
         ],
         "name": "frame66"
        },
        {
         "data": [
          {
           "mode": "markers",
           "type": "scatter",
           "x": [
            0.38090478971582886,
            0.8960742196300882,
            0.9393712882120856,
            0.00161223302423108,
            0.15187408254627788,
            0.8648591922269285,
            0.9385179121650419,
            0.30276255084164283,
            0.9580144294874325,
            0.5480440531283756,
            0.5247027639030813,
            0.26675733611952956,
            0.7200596712057362,
            0.8790851945302764,
            0.7930862297216098,
            0.8115617311797987,
            0.17336556440880413,
            0.6222238327946917,
            0.8753916860148225,
            0.8871066551739901
           ],
           "y": [
            0.7412440675059593,
            0.8786181721168833,
            0.8532372769194481,
            0.4128660990914179,
            0.893787164303694,
            0.7436472896451589,
            0.42512162219990934,
            0.02097399999329319,
            0.2089862377693107,
            0.9559751734242664,
            0.12833427429040967,
            0.578685394059089,
            0.0754794916382755,
            0.925263159203851,
            0.8391358950674914,
            0.4757944929301898,
            0.8650709752066874,
            0.7955471487677689,
            0.3254607191882568,
            0.8166640755203799
           ]
          }
         ],
         "name": "frame67"
        },
        {
         "data": [
          {
           "mode": "markers",
           "type": "scatter",
           "x": [
            0.17529099791525016,
            0.0984167965033863,
            0.5915079596447737,
            0.7767965264466481,
            0.9057019203092351,
            0.5219559624184849,
            0.8247277628377879,
            0.8249444396274033,
            0.38451457187657645,
            0.96756918966378,
            0.3275158637305928,
            0.5925879296921215,
            0.1326705557170884,
            0.5406359029879061,
            0.39885519057048324,
            0.18039615626173588,
            0.38815171595458586,
            0.5978824536009412,
            0.35013316969357966,
            0.5526524438006173
           ],
           "y": [
            0.07101656247161225,
            0.5491487874068809,
            0.7710249328120767,
            0.2754421415226246,
            0.571152345460779,
            0.042969406510495856,
            0.0362118368052613,
            0.13797591377303609,
            0.5519175737846373,
            0.1436928449223196,
            0.873895509024337,
            0.7009838125619727,
            0.9206089117841566,
            0.37616816900603756,
            0.34614639768087263,
            0.8313181810613139,
            0.7991872731600185,
            0.5810237518756286,
            0.5046252703413184,
            0.5241294800880582
           ]
          }
         ],
         "name": "frame68"
        },
        {
         "data": [
          {
           "mode": "markers",
           "type": "scatter",
           "x": [
            0.39674443132761106,
            0.7461622734846934,
            0.16753970416895836,
            0.9710443360564053,
            0.5868758910770571,
            0.1982552226246782,
            0.79498371155222,
            0.34706398742032063,
            0.02265644192526428,
            0.5489826886240347,
            0.3072883715616803,
            0.22934224880222098,
            0.9191488090635389,
            0.0853776115423327,
            0.2836511166435257,
            0.4441416800514416,
            0.6023323203852302,
            0.5862115450477912,
            0.46661501534941774,
            0.7052262365440082
           ],
           "y": [
            0.047403442411300234,
            0.21618972267483727,
            0.18816556678734497,
            0.8191335506430192,
            0.8650603583903554,
            0.37739821824698094,
            0.2852486803876644,
            0.5212624042188765,
            0.10845036689588339,
            0.3142348190961769,
            0.585841499697926,
            0.49432542498217114,
            0.44183420260290984,
            0.37700540528794446,
            0.705570987422346,
            0.6196310270750333,
            0.3254968815439827,
            0.8696477489192438,
            0.5762891111328189,
            0.7834116117991984
           ]
          }
         ],
         "name": "frame69"
        },
        {
         "data": [
          {
           "mode": "markers",
           "type": "scatter",
           "x": [
            0.2138982521361582,
            0.6275475880116702,
            0.8331751402942165,
            0.9841232389016297,
            0.981517873311349,
            0.6255351782672807,
            0.9113754482804955,
            0.1329398969063481,
            0.01826726088684416,
            0.9203157717194317,
            0.1769778782302276,
            0.44831764047416156,
            0.5385203918973992,
            0.8344431857003217,
            0.0560383938478527,
            0.6542690866888473,
            0.5403103338687572,
            0.887857201477644,
            0.6729919109551389,
            0.010618330197691317
           ],
           "y": [
            0.571109416572589,
            0.09073253474509613,
            0.7680252000122463,
            0.6152720105308804,
            0.9871594692199381,
            0.11929811453481043,
            0.27018199760330575,
            0.3947744865428262,
            0.020074481839583047,
            0.22377971897402404,
            0.8960907084393158,
            0.03451625151185023,
            0.774881511515723,
            0.3701507511541685,
            0.8212611631342,
            0.9590101761805558,
            0.5436802897103248,
            0.900851461552891,
            0.8142792202178506,
            0.7668743283932298
           ]
          }
         ],
         "name": "frame70"
        },
        {
         "data": [
          {
           "mode": "markers",
           "type": "scatter",
           "x": [
            0.48781771948294217,
            0.3538150435827262,
            0.4567366876769785,
            0.7023828087218748,
            0.6391408565695555,
            0.9331874031950492,
            0.3114791464094723,
            0.19052546767726863,
            0.4058187343309886,
            0.9910404909199487,
            0.14394260119339397,
            0.14136962605137204,
            0.4863787978626789,
            0.040531094120642486,
            0.4634151030264696,
            0.8158057988683104,
            0.21763419247344662,
            0.001305458443407792,
            0.4889281078256603,
            0.06264640999039361
           ],
           "y": [
            0.15488671010664823,
            0.20244575162737077,
            0.16528028339832324,
            0.7393864424293347,
            0.1551473278883594,
            0.6050141431228636,
            0.8335099734529718,
            0.4403702634711655,
            0.5942267800335801,
            0.769129201097735,
            0.6794862386603824,
            0.6624193902488495,
            0.7679681341600061,
            0.45289388063481506,
            0.2355379853263596,
            0.44014633561617644,
            0.5919702324768154,
            0.5800075147609738,
            0.4745594384138556,
            0.21358138035834628
           ]
          }
         ],
         "name": "frame71"
        },
        {
         "data": [
          {
           "mode": "markers",
           "type": "scatter",
           "x": [
            0.05241567765780364,
            0.8660282974787262,
            0.2758398967174013,
            0.1366293701567074,
            0.8149228703122029,
            0.6540885663407706,
            0.41883871588856936,
            0.3734327049445937,
            0.14604490893133382,
            0.31377150414976984,
            0.3883413662645452,
            0.22531547491985027,
            0.5179397013465745,
            0.12350577488217884,
            0.16661632762204082,
            0.6909992987334661,
            0.2038990819908102,
            0.09846807453783679,
            0.33645173797746974,
            0.7045719486119667
           ],
           "y": [
            0.18326434455094887,
            0.15154135563627946,
            0.44719615824445424,
            0.28771358076960485,
            0.08496357252724651,
            0.17057098224261258,
            0.03472833180371093,
            0.722644232555542,
            0.3383102524995646,
            0.9682352950709452,
            0.21493522889472583,
            0.47311885668453835,
            0.8805656340884811,
            0.8205525398912942,
            0.630160684114651,
            0.6197647039383444,
            0.43244936977380655,
            0.5712940297138103,
            0.7848513318199478,
            0.13179762526711114
           ]
          }
         ],
         "name": "frame72"
        },
        {
         "data": [
          {
           "mode": "markers",
           "type": "scatter",
           "x": [
            0.007616063809031903,
            0.6230383937196683,
            0.6434507160831787,
            0.2507567374526841,
            0.37495120319560205,
            0.005728980998441768,
            0.9542911849108361,
            0.2018329202745336,
            0.16851390043340686,
            0.2653844495563147,
            0.22921367544522342,
            0.17360246498510024,
            0.9495822929923402,
            0.1718919785692432,
            0.8676079076258911,
            0.38920822439018654,
            0.3222162488851905,
            0.20103127497590934,
            0.9278638802481187,
            0.7623526679790116
           ],
           "y": [
            0.22970974656163845,
            0.6395705929285757,
            0.35578677918386803,
            0.9212444729539243,
            0.2978998069041422,
            0.8597561249553936,
            0.31974072534053455,
            0.6610564651300365,
            0.7960658503077915,
            0.7947862732254045,
            0.9683093652309812,
            0.747182367748622,
            0.7660895555459662,
            0.08433713643975105,
            0.9916168812697842,
            0.6872918341456047,
            0.24505499036636957,
            0.21812306714939378,
            0.4438582258228897,
            0.6246253625522267
           ]
          }
         ],
         "name": "frame73"
        },
        {
         "data": [
          {
           "mode": "markers",
           "type": "scatter",
           "x": [
            0.2542551691486855,
            0.36075443307256116,
            0.784757378787785,
            0.020365275697159402,
            0.5114038403459038,
            0.9824893643192114,
            0.9802409114282253,
            0.040540635080190235,
            0.3673077467935494,
            0.2609977675300844,
            0.7016044204547158,
            0.5297732342320866,
            0.6571193586945503,
            0.3542593102299525,
            0.6757898963810216,
            0.6058498640883103,
            0.48055580882820803,
            0.023855202653739305,
            0.10003620047096928,
            0.4149026419462386
           ],
           "y": [
            0.40696063737291643,
            0.15907419656019706,
            0.7030075910131711,
            0.43887157696778833,
            0.43916534914901983,
            0.5109503328522136,
            0.6582607591131514,
            0.7056681075468062,
            0.12925684396010084,
            0.8957030951392482,
            0.2345269116401052,
            0.3963125995675134,
            0.47372895994381414,
            0.39558810456003235,
            0.24030179319706702,
            0.3683857654782773,
            0.37026979897374424,
            0.21707849065111873,
            0.9139903693083282,
            0.677987688715603
           ]
          }
         ],
         "name": "frame74"
        },
        {
         "data": [
          {
           "mode": "markers",
           "type": "scatter",
           "x": [
            0.642259924167749,
            0.8998650860699847,
            0.924847094369763,
            0.16971573021777586,
            0.8046605330872253,
            0.9265718292748671,
            0.9203488349586819,
            0.8173337523046907,
            0.6997509998593998,
            0.7065201102082257,
            0.6411306592106792,
            0.7391201746539677,
            0.77113240390084,
            0.8344331556959181,
            0.43656846873054767,
            0.27989928872932,
            0.43235807674096294,
            0.9523672372609905,
            0.6856458766952299,
            0.9275876574393888
           ],
           "y": [
            0.30703897979194306,
            0.6282418110491539,
            0.7740003201343146,
            0.4795576306599223,
            0.9750358253720799,
            0.3491632141277826,
            0.034464577134625474,
            0.16462457910775052,
            0.8736038478811355,
            0.32533419939318886,
            0.5991403339991656,
            0.2375205113267348,
            0.008022053289389208,
            0.25998778981557213,
            0.5076652509171696,
            0.3433720419321399,
            0.9905357458291998,
            0.27369590531335897,
            0.2873082223115426,
            0.9666465909905143
           ]
          }
         ],
         "name": "frame75"
        },
        {
         "data": [
          {
           "mode": "markers",
           "type": "scatter",
           "x": [
            0.9972949599579383,
            0.5342006820206028,
            0.8371409271478351,
            0.5251291458661144,
            0.8742788212655762,
            0.1153957349205118,
            0.4737801804150411,
            0.8817379452149489,
            0.15805053290691407,
            0.7969075084097803,
            0.9104940683802015,
            0.0927772112635119,
            0.8908893750897184,
            0.9662351777574923,
            0.6570683118454119,
            0.8596473964408734,
            0.32967135887496035,
            0.9113411092910771,
            0.30933683235867393,
            0.12037646325756923
           ],
           "y": [
            0.2609025625702679,
            0.9773375202644875,
            0.8205627783418664,
            0.45294131462262277,
            0.1399784268536356,
            0.889063865612796,
            0.19297165822651707,
            0.015280537058712573,
            0.5206161900306321,
            0.9821455921499707,
            0.1395672698606325,
            0.33068685136728104,
            0.8026705782758008,
            0.517083510176771,
            0.7267326366769212,
            0.9621283732379763,
            0.5930341946132016,
            0.6783462534079456,
            0.0985930180869733,
            0.806480197174854
           ]
          }
         ],
         "name": "frame76"
        },
        {
         "data": [
          {
           "mode": "markers",
           "type": "scatter",
           "x": [
            0.19203170625191035,
            0.17651606044496948,
            0.16350906193765669,
            0.19110960434257285,
            0.8754737293460857,
            0.5549194356984689,
            0.5739318924857598,
            0.1797100112926342,
            0.13825130182980105,
            0.34150927898151673,
            0.15161833775417977,
            0.5802369285009601,
            0.02224967272470857,
            0.02822299314879939,
            0.3133128666182312,
            0.6994158693994582,
            0.9716559014551422,
            0.12036574075146333,
            0.7967587333550237,
            0.18158086607394863
           ],
           "y": [
            0.48086355663581626,
            0.46486149544698374,
            0.06201848033793067,
            0.025026924425742503,
            0.9177895405687465,
            0.038003925877382105,
            0.48062769293033525,
            0.13729791189670615,
            0.40381909671470617,
            0.05763708500469844,
            0.6954034652251925,
            0.8106848847074202,
            0.2858953535192136,
            0.68762123728069,
            0.44519057025617825,
            0.3770172105327111,
            0.4979668252170537,
            0.3253727283471013,
            0.02449849250228764,
            0.5125149753232389
           ]
          }
         ],
         "name": "frame77"
        },
        {
         "data": [
          {
           "mode": "markers",
           "type": "scatter",
           "x": [
            0.5795983145982296,
            0.3474506550941068,
            0.9462308780522145,
            0.844348919387223,
            0.3821651650810881,
            0.8609773067675055,
            0.8390810362908504,
            0.8088403996014255,
            0.9615748330478473,
            0.15239697362483873,
            0.980959482765421,
            0.44009225370709204,
            0.0008691689368313105,
            0.12957085324743722,
            0.2798658742757706,
            0.5434188138755421,
            0.6464993200810046,
            0.6737637785342266,
            0.8081017262258372,
            0.508090002808165
           ],
           "y": [
            0.2016629250878782,
            0.3111206579332215,
            0.9852492184537901,
            0.16258919957928997,
            0.20288491770673278,
            0.6557682428101004,
            0.5310258594297554,
            0.5052167177951328,
            0.39600847211213774,
            0.4876935109601338,
            0.9503724479108413,
            0.9409635936857375,
            0.10849084481059135,
            0.8919843758722911,
            0.13043715305800896,
            0.47078779132658577,
            0.43637342103568166,
            0.6224545965020793,
            0.8482495289828975,
            0.7581369067585899
           ]
          }
         ],
         "name": "frame78"
        },
        {
         "data": [
          {
           "mode": "markers",
           "type": "scatter",
           "x": [
            0.9297337486687416,
            0.184575267701647,
            0.02734668408402119,
            0.10750813955804284,
            0.7634883027042654,
            0.20347661042015563,
            0.5584078116892729,
            0.26168770281639075,
            0.9997320311756948,
            0.2874209875171898,
            0.23192579099335864,
            0.002371390367382875,
            0.9536064159262804,
            0.6608297047723013,
            0.9388855720427591,
            0.8160009113353452,
            0.4302838684524405,
            0.7554664281383505,
            0.5445901630215192,
            0.6796566716043649
           ],
           "y": [
            0.43322345038835264,
            0.4320099566858595,
            0.05448256912974081,
            0.4409153085109735,
            0.8839929817366781,
            0.5655400603441845,
            0.731519143935827,
            0.44810375187787044,
            0.42686107771094484,
            0.6080644775839691,
            0.8989055919612541,
            0.05852622402590191,
            0.8093423221190265,
            0.8985419130392832,
            0.8562451339629322,
            0.7665299281944278,
            0.4786619018063213,
            0.22087611769443594,
            0.17093948371873102,
            0.21887494853832612
           ]
          }
         ],
         "name": "frame79"
        },
        {
         "data": [
          {
           "mode": "markers",
           "type": "scatter",
           "x": [
            0.6131774665218628,
            0.45167889024491037,
            0.046002211605182475,
            0.6516805521720053,
            0.7529485535469459,
            0.24053827310053333,
            0.4232507891678593,
            0.6385290726289119,
            0.2555386176023784,
            0.4973552299556061,
            0.9752237524016499,
            0.44655405789679126,
            0.8574674191371754,
            0.10877305124807624,
            0.27175758198047917,
            0.0985166596498066,
            0.9390373048580036,
            0.8769283070154933,
            0.19031774960734338,
            0.3973171141455676
           ],
           "y": [
            0.3136448632845307,
            0.8170444516692922,
            0.5465767820311094,
            0.2182647760920141,
            0.10369055932899063,
            0.6051930406951315,
            0.6300363206269456,
            0.6155369795685777,
            0.5863414919701417,
            0.217325763074372,
            0.8385618136537503,
            0.7390781433826633,
            0.8298321467354323,
            0.8165454965633694,
            0.2810259183560656,
            0.4322758009290789,
            0.8912919067361514,
            0.11542153759935392,
            0.8564358267456913,
            0.8960638947228101
           ]
          }
         ],
         "name": "frame80"
        },
        {
         "data": [
          {
           "mode": "markers",
           "type": "scatter",
           "x": [
            0.01887908066605304,
            0.6892799467246956,
            0.014745836902656295,
            0.3774997842824165,
            0.45012241349916726,
            0.22113428923292222,
            0.2567704176999194,
            0.5371999686529126,
            0.7986215707565733,
            0.24186509689463964,
            0.17257362073890448,
            0.36353324076129245,
            0.6862067428062929,
            0.6631281044396807,
            0.8848558491970138,
            0.6382556951995138,
            0.307445739135918,
            0.4622421236365354,
            0.9986401878968932,
            0.4840414596802989
           ],
           "y": [
            0.2357079173222314,
            0.9252983361953412,
            0.6397623000698085,
            0.5815015784265671,
            0.34807512922863426,
            0.016712462799055583,
            0.6513234820413636,
            0.7440476417295493,
            0.05176577835357732,
            0.6361328581876584,
            0.5564032878758375,
            0.01469554855626487,
            0.6346241437440885,
            0.9151515376197656,
            0.8178566187463696,
            0.24107623891178032,
            0.19463747106282714,
            0.5317065089907218,
            0.6023309827172655,
            0.9119423972234133
           ]
          }
         ],
         "name": "frame81"
        },
        {
         "data": [
          {
           "mode": "markers",
           "type": "scatter",
           "x": [
            0.06660584021018345,
            0.2548101653137119,
            0.8192965250987854,
            0.6859283055854382,
            0.6846866699706003,
            0.8489718389528751,
            0.047771666548326874,
            0.19646267712331633,
            0.3852834811590601,
            0.3316884656864375,
            0.24292564092089708,
            0.25794029915952843,
            0.8232705943174552,
            0.9330202284254419,
            0.49708086939197627,
            0.7308803619766269,
            0.6687745180899145,
            0.8922132198712089,
            0.23275675250015815,
            0.8846510509329178
           ],
           "y": [
            0.24452185786730019,
            0.543200318416698,
            0.359616573339094,
            0.676590211183111,
            0.3222063420637683,
            0.5022713666487316,
            0.692012134601739,
            0.8771602894634742,
            0.11345522730208513,
            0.22876161270429785,
            0.7519978914182418,
            0.043880160910408805,
            0.5940173009867301,
            0.30420721467474876,
            0.36331663637368083,
            0.1338707580530667,
            0.7430240798748815,
            0.2841052109269838,
            0.553421887539567,
            0.45926067535201676
           ]
          }
         ],
         "name": "frame82"
        },
        {
         "data": [
          {
           "mode": "markers",
           "type": "scatter",
           "x": [
            0.6894214691201619,
            0.7200636592822204,
            0.8620989556607224,
            0.879876687326681,
            0.7254429229845608,
            0.9196497771432358,
            0.9403909466637632,
            0.442748518300319,
            0.31986360931158986,
            0.8073691157434522,
            0.14202218960469326,
            0.8755010525090654,
            0.6356812100406642,
            0.36553365838419094,
            0.37471718887907257,
            0.931993430155272,
            0.22660724932210452,
            0.30241474658525147,
            0.3143018616647937,
            0.8570988727700789
           ],
           "y": [
            0.8421339291143446,
            0.35290904802281964,
            0.3162887628207941,
            0.17971646611965508,
            0.5308853444459868,
            0.9477116039515613,
            0.17607132169951756,
            0.48882719737528135,
            0.48813194390385584,
            0.08854322215748489,
            0.13871684045733024,
            0.8522827601260939,
            0.2255447482416867,
            0.7346096523781162,
            0.09866586300218261,
            0.8472801435594971,
            0.08864328147060874,
            0.7483194348603264,
            0.16974083084982872,
            0.5103080600831753
           ]
          }
         ],
         "name": "frame83"
        },
        {
         "data": [
          {
           "mode": "markers",
           "type": "scatter",
           "x": [
            0.18606614011600442,
            0.24501798010817066,
            0.49337765035039505,
            0.14089974265149285,
            0.493134100578125,
            0.15310816385106085,
            0.11885742254008946,
            0.3177441580275041,
            0.865705224188057,
            0.1082755488438023,
            0.010082462750519827,
            0.9494716397198888,
            0.5507174281024099,
            0.44693230182174093,
            0.4318853273940194,
            0.28303108649189757,
            0.17194747376947728,
            0.5510859909206167,
            0.806641853180513,
            0.032140929978958566
           ],
           "y": [
            0.16806997090483,
            0.4269686734775344,
            0.6670765704650037,
            0.6039465928783037,
            0.49800712075656817,
            0.99439654378346,
            0.35647605500173307,
            0.48986828796426574,
            0.5924382761107712,
            0.7561316064670532,
            0.2604948720448027,
            0.5068848248841606,
            0.6039734877044103,
            0.6844216566992984,
            0.943075225720425,
            0.37483492048129174,
            0.6287513851876978,
            0.537560041112072,
            0.12531580410265442,
            0.6094569394422119
           ]
          }
         ],
         "name": "frame84"
        },
        {
         "data": [
          {
           "mode": "markers",
           "type": "scatter",
           "x": [
            0.7153463420237174,
            0.7496126636405397,
            0.08306072108546358,
            0.6882763028200938,
            0.5537195712679884,
            0.6161119919157606,
            0.3504687542977428,
            0.1539856749356473,
            0.4533785038022857,
            0.3300836710000843,
            0.7051194597655077,
            0.2007839294949989,
            0.13699680951787252,
            0.3582686592108414,
            0.8062621153246685,
            0.6395181589031025,
            0.6707520660413517,
            0.35634631019569674,
            0.8386670425732757,
            0.2992970517285013
           ],
           "y": [
            0.5040996850583784,
            0.8151608784101843,
            0.12868400193980178,
            0.3278149670870979,
            0.8437079878618302,
            0.5856385049077657,
            0.5046820459779372,
            0.35102544166412053,
            0.8007949282205865,
            0.9633891132531669,
            0.33249298962104534,
            0.672564711149624,
            0.0510275705210943,
            0.3664699635083941,
            0.22562205005613212,
            0.9810581072250072,
            0.312257568406351,
            0.5204087223206488,
            0.8822077381813229,
            0.3126408163165244
           ]
          }
         ],
         "name": "frame85"
        },
        {
         "data": [
          {
           "mode": "markers",
           "type": "scatter",
           "x": [
            0.5624974827581612,
            0.3734515902834311,
            0.4678556462831306,
            0.3551263368280665,
            0.537535723007369,
            0.29242389814098557,
            0.8152101217265533,
            0.029342815373139763,
            0.08096709525987533,
            0.6864927448302386,
            0.7165103585485334,
            0.8641779412570789,
            0.44124040795347663,
            0.8322649224809981,
            0.8453220372526781,
            0.2793861362159554,
            0.8692629131507001,
            0.009034495451357927,
            0.5181915572039066,
            0.24465395130322065
           ],
           "y": [
            0.5954041220379751,
            0.3152937103049289,
            0.30758195220919404,
            0.04934947094771036,
            0.19745702772103668,
            0.8719112679878324,
            0.10549494515254731,
            0.035670106722073824,
            0.6428554959480338,
            0.9950264365319211,
            0.5456837652902938,
            0.9610360561225547,
            0.8209098962362054,
            0.17443586420986656,
            0.34965445382293237,
            0.5890394916819754,
            0.925966312903547,
            0.3433236497652057,
            0.02136621911891856,
            0.15740461493644808
           ]
          }
         ],
         "name": "frame86"
        },
        {
         "data": [
          {
           "mode": "markers",
           "type": "scatter",
           "x": [
            0.6129914015753168,
            0.552863206258113,
            0.8017158266355684,
            0.08147412829363432,
            0.8251002706212271,
            0.0450608830450675,
            0.9180208234562822,
            0.21043033770234376,
            0.2299932096298163,
            0.13896138636251287,
            0.8984733376019487,
            0.042197474194690665,
            0.41437781744239566,
            0.34818802648321856,
            0.5454316089068518,
            0.966258125165007,
            0.08199515811555413,
            0.5087005511310843,
            0.1866191217616585,
            0.7273363485042079
           ],
           "y": [
            0.6150164958631478,
            0.692655341077077,
            0.44158929222861143,
            0.6937194752614969,
            0.3795052177731153,
            0.9471315222605704,
            0.7811881363456815,
            0.8228701449978657,
            0.2950056061696982,
            0.34502257135630654,
            0.7982811915147574,
            0.15682044517317284,
            0.960810071053045,
            0.4477804287006917,
            0.9005820991300056,
            0.9002677249933051,
            0.9792037857300327,
            0.3555824332149492,
            0.8161950705665114,
            0.4973099498940633
           ]
          }
         ],
         "name": "frame87"
        },
        {
         "data": [
          {
           "mode": "markers",
           "type": "scatter",
           "x": [
            0.08591440377904014,
            0.028704172569513298,
            0.8802922975518614,
            0.45454937135503637,
            0.26888853748633657,
            0.18643140047442064,
            0.6455781966278936,
            0.4590408107053995,
            0.7441102084206387,
            0.30114169841181804,
            0.16613349200173655,
            0.2558115005364654,
            0.9523657124682213,
            0.39895791027215977,
            0.7071447714853825,
            0.22253486069835104,
            0.5875001796671144,
            0.1479759125673612,
            0.07399854763532987,
            0.11180351157047164
           ],
           "y": [
            0.3509208876332408,
            0.9572963454837745,
            0.020952421927325493,
            0.5527999593812006,
            0.42758321642556163,
            0.3022400798395374,
            0.9197385137923116,
            0.11883584285926141,
            0.11150036475086755,
            0.9620364553507881,
            0.09247299779164952,
            0.653464607899879,
            0.16382789920850405,
            0.5976152124103599,
            0.6130939747101884,
            0.05985102324032465,
            0.6554154142187543,
            0.2346233711860124,
            0.1100009147476203,
            0.33079980322560076
           ]
          }
         ],
         "name": "frame88"
        },
        {
         "data": [
          {
           "mode": "markers",
           "type": "scatter",
           "x": [
            0.500454292189478,
            0.8683648182186777,
            0.6947919028053198,
            0.44031358508279517,
            0.9559270109254013,
            0.18695122483417337,
            0.3609230365818846,
            0.705328554612087,
            0.3499104264532056,
            0.5634122855538729,
            0.9550107246072292,
            0.03707528806089133,
            0.31836702289045604,
            0.4758835991498369,
            0.5556554705454385,
            0.8483032011256155,
            0.40771125360059046,
            0.0933021939432408,
            0.7225444863359511,
            0.3563650190407771
           ],
           "y": [
            0.4422491641406924,
            0.14072944376509644,
            0.07385327458367408,
            0.3207997304260811,
            0.43341816191830784,
            0.47531518797947303,
            0.7169949517541813,
            0.5492846685128377,
            0.9479278999110894,
            0.31983145680903,
            0.0783243376179098,
            0.5904737745730294,
            0.49478051384766397,
            0.29539995936234986,
            0.9310455417608652,
            0.32772882137472537,
            0.5066764588456233,
            0.16940622466625233,
            0.8434962161305997,
            0.06809762759302085
           ]
          }
         ],
         "name": "frame89"
        },
        {
         "data": [
          {
           "mode": "markers",
           "type": "scatter",
           "x": [
            0.8270032871099913,
            0.4949226519540977,
            0.2210929423303688,
            0.7556101927245971,
            0.3405302956598357,
            0.9519598436391489,
            0.5548718978425867,
            0.8949964990208827,
            0.7857922104663844,
            0.4192920489307853,
            0.3398069027879207,
            0.4808856324001154,
            0.5042829722563003,
            0.02444822363607968,
            0.6411099906463228,
            0.0015034676432178484,
            0.36242203418693986,
            0.8792563627303113,
            0.9080131651693395,
            0.3909988643361343
           ],
           "y": [
            0.8851574986091599,
            0.6478534742470436,
            0.5697296617757903,
            0.16132946567922501,
            0.08149375414239868,
            0.050518348225497944,
            0.36535229231016464,
            0.8258878145846699,
            0.9120129361688752,
            0.5912420110238502,
            0.36719002406900625,
            0.25389755428162675,
            0.0913101311918243,
            0.13516586140526465,
            0.123556917330784,
            0.10206251846814707,
            0.8978133527298336,
            0.2136921064990175,
            0.7605934964286726,
            0.47997704649267436
           ]
          }
         ],
         "name": "frame90"
        },
        {
         "data": [
          {
           "mode": "markers",
           "type": "scatter",
           "x": [
            0.9904193371308352,
            0.12904709180136464,
            0.7427342838211181,
            0.8845460478600543,
            0.47404355589641245,
            0.8723059393056842,
            0.19738195453469065,
            0.28612937339177136,
            0.8890622363339332,
            0.8275275756501702,
            0.700075463970169,
            0.8521830875230075,
            0.4176921635572417,
            0.09850559655158875,
            0.3274745549707876,
            0.06043660174424703,
            0.9959899045576059,
            0.8816422900929197,
            0.5474574566795708,
            0.6450162005655864
           ],
           "y": [
            0.7685478253796982,
            0.4686444019921,
            0.10987780385439327,
            0.9387760034261429,
            0.9132143777088767,
            0.8482690828266999,
            0.13890713614486794,
            0.5929531730336002,
            0.34215202671182565,
            0.8533753911084085,
            0.6437773389635332,
            0.7326113717582796,
            0.20587108429496281,
            0.9579226033084103,
            0.8663271680871913,
            0.10955703194027899,
            0.19488609065902007,
            0.507134498398774,
            0.4690092417175913,
            0.03763784932865899
           ]
          }
         ],
         "name": "frame91"
        },
        {
         "data": [
          {
           "mode": "markers",
           "type": "scatter",
           "x": [
            0.16012404423407256,
            0.6489399290592243,
            0.9512380666548319,
            0.9856761725869166,
            0.9437717163082301,
            0.6607998481339483,
            0.9407881182683877,
            0.9165511287858702,
            0.9269343951800461,
            0.1354383651910207,
            0.8081849948287406,
            0.663406116073936,
            0.6730982421559986,
            0.7964074964428446,
            0.5583163733476183,
            0.6840673158905056,
            0.4686675818658148,
            0.1909359716793111,
            0.3358507379625042,
            0.9680890453013206
           ],
           "y": [
            0.20152337833558176,
            0.6868630264953618,
            0.22499722806131905,
            0.1497274973384961,
            0.9832370893842257,
            0.6998049827180469,
            0.14527031568493665,
            0.8185937660008509,
            0.11594785072411651,
            0.7177768183765258,
            0.7123385634524497,
            0.5799668258998988,
            0.02416550504970527,
            0.9110029319534039,
            0.6230338505338757,
            0.2552528526007033,
            0.173443466095222,
            0.7512518823052975,
            0.1489066317809653,
            0.9946484894839099
           ]
          }
         ],
         "name": "frame92"
        },
        {
         "data": [
          {
           "mode": "markers",
           "type": "scatter",
           "x": [
            0.7182387478378617,
            0.3748099234680967,
            0.32457644619936665,
            0.9922409769194175,
            0.7073858760126792,
            0.8080120410878292,
            0.9543626246655734,
            0.9138486832925579,
            0.2989461641850747,
            0.3121632488438195,
            0.3920137015865147,
            0.8754545796568354,
            0.13944154095438177,
            0.24504686353307148,
            0.22994149128013575,
            0.03656289158146542,
            0.3753598582100396,
            0.750445000802632,
            0.3183609791090475,
            0.046985718362608786
           ],
           "y": [
            0.026169166837472946,
            0.0772588613769607,
            0.6624042105082443,
            0.7463547642855838,
            0.7860669223380513,
            0.7134927630264367,
            0.3825139018370104,
            0.9675122162602235,
            0.45210153878522286,
            0.8868962846438202,
            0.20359160708682422,
            0.9618892216169312,
            0.6799086065377723,
            0.9363856967092786,
            0.04774572846109959,
            0.5306490454337194,
            0.8500901159894313,
            0.32555411519860544,
            0.8787631578192867,
            0.06604697730033737
           ]
          }
         ],
         "name": "frame93"
        },
        {
         "data": [
          {
           "mode": "markers",
           "type": "scatter",
           "x": [
            0.4305567584916137,
            0.9300221109518068,
            0.5811225590236513,
            0.6888871449603884,
            0.8311754754043783,
            0.958289483517413,
            0.7417909947002619,
            0.3244109596150405,
            0.22853243582046823,
            0.3884192543413647,
            0.7781574296747226,
            0.9575400344367656,
            0.5358227721017194,
            0.033746886313002045,
            0.7185747132334215,
            0.6853731085791271,
            0.8870346700128999,
            0.8842990176939415,
            0.6563677263302033,
            0.43560963588017654
           ],
           "y": [
            0.7709179587837671,
            0.7646694342939789,
            0.6920830860791731,
            0.644675240842079,
            0.39586227589477796,
            0.22980136049154698,
            0.5588724618460525,
            0.2121323869304632,
            0.15310027969396012,
            0.044107428585063335,
            0.4804315307127194,
            0.06960113591822081,
            0.3549320274493234,
            0.7442280106295609,
            0.41650429713893866,
            0.020857921617321362,
            0.3960414530693871,
            0.6554434947138547,
            0.4516074758329941,
            0.1321043447963025
           ]
          }
         ],
         "name": "frame94"
        },
        {
         "data": [
          {
           "mode": "markers",
           "type": "scatter",
           "x": [
            0.9981748966950874,
            0.4460289630536154,
            0.6501705840778353,
            0.10281843320944506,
            0.1590533053920281,
            0.3882886238654848,
            0.9406461184367707,
            0.9108241991877032,
            0.14630298352473103,
            0.31080699047382143,
            0.9780012310470947,
            0.5052942290338478,
            0.9667667187752473,
            0.2717402255669128,
            0.22242914568868555,
            0.34730626909209905,
            0.7768417431208212,
            0.44307275971331994,
            0.06659273311426295,
            0.5987774638902682
           ],
           "y": [
            0.8769824973771057,
            0.0842366005211932,
            0.33165252261205225,
            0.9355924436108441,
            0.8994224347917471,
            0.7361313211383542,
            0.41005622653899143,
            0.45995676165500354,
            0.3613406666664343,
            0.03446514139706902,
            0.5276224124551201,
            0.8262134332748826,
            0.1948303490792419,
            0.1792508537160311,
            0.7791279595627785,
            0.7757491876777365,
            0.9532107768148796,
            0.9496495295656296,
            0.08112829056946058,
            0.8155951298251269
           ]
          }
         ],
         "name": "frame95"
        },
        {
         "data": [
          {
           "mode": "markers",
           "type": "scatter",
           "x": [
            0.9047194811399082,
            0.582473830621568,
            0.5924990380720281,
            0.7096806321192368,
            0.4999729457804062,
            0.5659557125706302,
            0.34208244617302674,
            0.059531701814993454,
            0.4684605956641591,
            0.09578848476137458,
            0.9290959249111989,
            0.403922019710233,
            0.03359040451131212,
            0.916683680772063,
            0.09258454236835545,
            0.4896640686915068,
            0.910832422612878,
            0.7594741920268056,
            0.23757943514660906,
            0.5640067878143764
           ],
           "y": [
            0.8886006907625006,
            0.1253263928672642,
            0.40659080136909875,
            0.5454063357210482,
            0.6777949117740839,
            0.8176091824308225,
            0.06426330926836654,
            0.1375954740470975,
            0.8962081713104262,
            0.6966150969562549,
            0.9784900221565527,
            0.8202847863065403,
            0.16550177993153037,
            0.21135214168794558,
            0.29502436792726394,
            0.05902152080306666,
            0.8016803469311918,
            0.611986857686314,
            0.5892580167460572,
            0.6269722481737513
           ]
          }
         ],
         "name": "frame96"
        },
        {
         "data": [
          {
           "mode": "markers",
           "type": "scatter",
           "x": [
            0.2989894014039953,
            0.03619998609995534,
            0.6376877212262896,
            0.8037526417369043,
            0.2568115823652729,
            0.22937568530603036,
            0.09463401286400175,
            0.9290783155291829,
            0.9431250631490978,
            0.1263668096556665,
            0.8575047973257237,
            0.9777109911306798,
            0.32878861855350905,
            0.12918265718459365,
            0.20384832436554934,
            0.7229045364708898,
            0.7716246660713498,
            0.8334502674875613,
            0.2191495221805554,
            0.9576343543532758
           ],
           "y": [
            0.2896444630094036,
            0.26501732414977874,
            0.4756729390612333,
            0.4771819094141764,
            0.15980127226961582,
            0.6183737250866151,
            0.7661208134866647,
            0.08295511887222562,
            0.13235082973561818,
            0.018984793317760595,
            0.11991314620762639,
            0.43073509778505303,
            0.3162359350193915,
            0.5061659556161471,
            0.824910345264312,
            0.32420125438647873,
            0.3453210750358964,
            0.3730956834937337,
            0.912586042583369,
            0.5279146042891687
           ]
          }
         ],
         "name": "frame97"
        },
        {
         "data": [
          {
           "mode": "markers",
           "type": "scatter",
           "x": [
            0.21601739222987248,
            0.5577246782213012,
            0.09186905404465018,
            0.3719445043954124,
            0.31897760504786365,
            0.7142615902324054,
            0.686586880520319,
            0.4348701185165872,
            0.5926953821981492,
            0.4352450825673081,
            0.5033896849584715,
            0.26416724782821543,
            0.16910438602907674,
            0.9550745562853156,
            0.21526515263426538,
            0.47305183924824046,
            0.6891390130736822,
            0.0055887427677766555,
            0.6631308513217998,
            0.06163924275373178
           ],
           "y": [
            0.3854404016538783,
            0.06545344520578933,
            0.34133942058920264,
            0.32390303084219607,
            0.49616362750221,
            0.8471911225751287,
            0.7143856661154164,
            0.4490212516808161,
            0.032181870784394606,
            0.36837477692620824,
            0.20925600743693284,
            0.4057438011329736,
            0.7535417858638503,
            0.34456182498887034,
            0.42121973872166374,
            0.25095527777782156,
            0.9563806048228558,
            0.08058821150930873,
            0.28797915485021564,
            0.5392214192271892
           ]
          }
         ],
         "name": "frame98"
        },
        {
         "data": [
          {
           "mode": "markers",
           "type": "scatter",
           "x": [
            0.9637980684198438,
            0.9193129264144599,
            0.9024270077242793,
            0.45230642659806,
            0.06665301515546307,
            0.07165189191971488,
            0.9848461846156487,
            0.40483714685785077,
            0.6759706054804656,
            0.11722025008776593,
            0.7882668664679466,
            0.5472478735979225,
            0.36384729323014475,
            0.8456357064298883,
            0.9478220506801887,
            0.4195913055284991,
            0.6029380760670959,
            0.9429186603587065,
            0.35041535266253643,
            0.8406337270027572
           ],
           "y": [
            0.032105067812033594,
            0.7411044600649376,
            0.14922307700483517,
            0.09030448219666076,
            0.22124762104325457,
            0.06777841791730199,
            0.02863961226046896,
            0.9114242509489637,
            0.5426368778180187,
            0.2842433855077351,
            0.5176102102036023,
            0.5522336635226452,
            0.29366423167376887,
            0.39621959936168316,
            0.19743310342031306,
            0.302028938296084,
            0.6084971872820512,
            0.9838396964369791,
            0.9538572001737406,
            0.5665813840341675
           ]
          }
         ],
         "name": "frame99"
        }
       ],
       "layout": {
        "template": {
         "data": {
          "bar": [
           {
            "error_x": {
             "color": "#2a3f5f"
            },
            "error_y": {
             "color": "#2a3f5f"
            },
            "marker": {
             "line": {
              "color": "#E5ECF6",
              "width": 0.5
             },
             "pattern": {
              "fillmode": "overlay",
              "size": 10,
              "solidity": 0.2
             }
            },
            "type": "bar"
           }
          ],
          "barpolar": [
           {
            "marker": {
             "line": {
              "color": "#E5ECF6",
              "width": 0.5
             },
             "pattern": {
              "fillmode": "overlay",
              "size": 10,
              "solidity": 0.2
             }
            },
            "type": "barpolar"
           }
          ],
          "carpet": [
           {
            "aaxis": {
             "endlinecolor": "#2a3f5f",
             "gridcolor": "white",
             "linecolor": "white",
             "minorgridcolor": "white",
             "startlinecolor": "#2a3f5f"
            },
            "baxis": {
             "endlinecolor": "#2a3f5f",
             "gridcolor": "white",
             "linecolor": "white",
             "minorgridcolor": "white",
             "startlinecolor": "#2a3f5f"
            },
            "type": "carpet"
           }
          ],
          "choropleth": [
           {
            "colorbar": {
             "outlinewidth": 0,
             "ticks": ""
            },
            "type": "choropleth"
           }
          ],
          "contour": [
           {
            "colorbar": {
             "outlinewidth": 0,
             "ticks": ""
            },
            "colorscale": [
             [
              0,
              "#0d0887"
             ],
             [
              0.1111111111111111,
              "#46039f"
             ],
             [
              0.2222222222222222,
              "#7201a8"
             ],
             [
              0.3333333333333333,
              "#9c179e"
             ],
             [
              0.4444444444444444,
              "#bd3786"
             ],
             [
              0.5555555555555556,
              "#d8576b"
             ],
             [
              0.6666666666666666,
              "#ed7953"
             ],
             [
              0.7777777777777778,
              "#fb9f3a"
             ],
             [
              0.8888888888888888,
              "#fdca26"
             ],
             [
              1,
              "#f0f921"
             ]
            ],
            "type": "contour"
           }
          ],
          "contourcarpet": [
           {
            "colorbar": {
             "outlinewidth": 0,
             "ticks": ""
            },
            "type": "contourcarpet"
           }
          ],
          "heatmap": [
           {
            "colorbar": {
             "outlinewidth": 0,
             "ticks": ""
            },
            "colorscale": [
             [
              0,
              "#0d0887"
             ],
             [
              0.1111111111111111,
              "#46039f"
             ],
             [
              0.2222222222222222,
              "#7201a8"
             ],
             [
              0.3333333333333333,
              "#9c179e"
             ],
             [
              0.4444444444444444,
              "#bd3786"
             ],
             [
              0.5555555555555556,
              "#d8576b"
             ],
             [
              0.6666666666666666,
              "#ed7953"
             ],
             [
              0.7777777777777778,
              "#fb9f3a"
             ],
             [
              0.8888888888888888,
              "#fdca26"
             ],
             [
              1,
              "#f0f921"
             ]
            ],
            "type": "heatmap"
           }
          ],
          "heatmapgl": [
           {
            "colorbar": {
             "outlinewidth": 0,
             "ticks": ""
            },
            "colorscale": [
             [
              0,
              "#0d0887"
             ],
             [
              0.1111111111111111,
              "#46039f"
             ],
             [
              0.2222222222222222,
              "#7201a8"
             ],
             [
              0.3333333333333333,
              "#9c179e"
             ],
             [
              0.4444444444444444,
              "#bd3786"
             ],
             [
              0.5555555555555556,
              "#d8576b"
             ],
             [
              0.6666666666666666,
              "#ed7953"
             ],
             [
              0.7777777777777778,
              "#fb9f3a"
             ],
             [
              0.8888888888888888,
              "#fdca26"
             ],
             [
              1,
              "#f0f921"
             ]
            ],
            "type": "heatmapgl"
           }
          ],
          "histogram": [
           {
            "marker": {
             "pattern": {
              "fillmode": "overlay",
              "size": 10,
              "solidity": 0.2
             }
            },
            "type": "histogram"
           }
          ],
          "histogram2d": [
           {
            "colorbar": {
             "outlinewidth": 0,
             "ticks": ""
            },
            "colorscale": [
             [
              0,
              "#0d0887"
             ],
             [
              0.1111111111111111,
              "#46039f"
             ],
             [
              0.2222222222222222,
              "#7201a8"
             ],
             [
              0.3333333333333333,
              "#9c179e"
             ],
             [
              0.4444444444444444,
              "#bd3786"
             ],
             [
              0.5555555555555556,
              "#d8576b"
             ],
             [
              0.6666666666666666,
              "#ed7953"
             ],
             [
              0.7777777777777778,
              "#fb9f3a"
             ],
             [
              0.8888888888888888,
              "#fdca26"
             ],
             [
              1,
              "#f0f921"
             ]
            ],
            "type": "histogram2d"
           }
          ],
          "histogram2dcontour": [
           {
            "colorbar": {
             "outlinewidth": 0,
             "ticks": ""
            },
            "colorscale": [
             [
              0,
              "#0d0887"
             ],
             [
              0.1111111111111111,
              "#46039f"
             ],
             [
              0.2222222222222222,
              "#7201a8"
             ],
             [
              0.3333333333333333,
              "#9c179e"
             ],
             [
              0.4444444444444444,
              "#bd3786"
             ],
             [
              0.5555555555555556,
              "#d8576b"
             ],
             [
              0.6666666666666666,
              "#ed7953"
             ],
             [
              0.7777777777777778,
              "#fb9f3a"
             ],
             [
              0.8888888888888888,
              "#fdca26"
             ],
             [
              1,
              "#f0f921"
             ]
            ],
            "type": "histogram2dcontour"
           }
          ],
          "mesh3d": [
           {
            "colorbar": {
             "outlinewidth": 0,
             "ticks": ""
            },
            "type": "mesh3d"
           }
          ],
          "parcoords": [
           {
            "line": {
             "colorbar": {
              "outlinewidth": 0,
              "ticks": ""
             }
            },
            "type": "parcoords"
           }
          ],
          "pie": [
           {
            "automargin": true,
            "type": "pie"
           }
          ],
          "scatter": [
           {
            "fillpattern": {
             "fillmode": "overlay",
             "size": 10,
             "solidity": 0.2
            },
            "type": "scatter"
           }
          ],
          "scatter3d": [
           {
            "line": {
             "colorbar": {
              "outlinewidth": 0,
              "ticks": ""
             }
            },
            "marker": {
             "colorbar": {
              "outlinewidth": 0,
              "ticks": ""
             }
            },
            "type": "scatter3d"
           }
          ],
          "scattercarpet": [
           {
            "marker": {
             "colorbar": {
              "outlinewidth": 0,
              "ticks": ""
             }
            },
            "type": "scattercarpet"
           }
          ],
          "scattergeo": [
           {
            "marker": {
             "colorbar": {
              "outlinewidth": 0,
              "ticks": ""
             }
            },
            "type": "scattergeo"
           }
          ],
          "scattergl": [
           {
            "marker": {
             "colorbar": {
              "outlinewidth": 0,
              "ticks": ""
             }
            },
            "type": "scattergl"
           }
          ],
          "scattermapbox": [
           {
            "marker": {
             "colorbar": {
              "outlinewidth": 0,
              "ticks": ""
             }
            },
            "type": "scattermapbox"
           }
          ],
          "scatterpolar": [
           {
            "marker": {
             "colorbar": {
              "outlinewidth": 0,
              "ticks": ""
             }
            },
            "type": "scatterpolar"
           }
          ],
          "scatterpolargl": [
           {
            "marker": {
             "colorbar": {
              "outlinewidth": 0,
              "ticks": ""
             }
            },
            "type": "scatterpolargl"
           }
          ],
          "scatterternary": [
           {
            "marker": {
             "colorbar": {
              "outlinewidth": 0,
              "ticks": ""
             }
            },
            "type": "scatterternary"
           }
          ],
          "surface": [
           {
            "colorbar": {
             "outlinewidth": 0,
             "ticks": ""
            },
            "colorscale": [
             [
              0,
              "#0d0887"
             ],
             [
              0.1111111111111111,
              "#46039f"
             ],
             [
              0.2222222222222222,
              "#7201a8"
             ],
             [
              0.3333333333333333,
              "#9c179e"
             ],
             [
              0.4444444444444444,
              "#bd3786"
             ],
             [
              0.5555555555555556,
              "#d8576b"
             ],
             [
              0.6666666666666666,
              "#ed7953"
             ],
             [
              0.7777777777777778,
              "#fb9f3a"
             ],
             [
              0.8888888888888888,
              "#fdca26"
             ],
             [
              1,
              "#f0f921"
             ]
            ],
            "type": "surface"
           }
          ],
          "table": [
           {
            "cells": {
             "fill": {
              "color": "#EBF0F8"
             },
             "line": {
              "color": "white"
             }
            },
            "header": {
             "fill": {
              "color": "#C8D4E3"
             },
             "line": {
              "color": "white"
             }
            },
            "type": "table"
           }
          ]
         },
         "layout": {
          "annotationdefaults": {
           "arrowcolor": "#2a3f5f",
           "arrowhead": 0,
           "arrowwidth": 1
          },
          "autotypenumbers": "strict",
          "coloraxis": {
           "colorbar": {
            "outlinewidth": 0,
            "ticks": ""
           }
          },
          "colorscale": {
           "diverging": [
            [
             0,
             "#8e0152"
            ],
            [
             0.1,
             "#c51b7d"
            ],
            [
             0.2,
             "#de77ae"
            ],
            [
             0.3,
             "#f1b6da"
            ],
            [
             0.4,
             "#fde0ef"
            ],
            [
             0.5,
             "#f7f7f7"
            ],
            [
             0.6,
             "#e6f5d0"
            ],
            [
             0.7,
             "#b8e186"
            ],
            [
             0.8,
             "#7fbc41"
            ],
            [
             0.9,
             "#4d9221"
            ],
            [
             1,
             "#276419"
            ]
           ],
           "sequential": [
            [
             0,
             "#0d0887"
            ],
            [
             0.1111111111111111,
             "#46039f"
            ],
            [
             0.2222222222222222,
             "#7201a8"
            ],
            [
             0.3333333333333333,
             "#9c179e"
            ],
            [
             0.4444444444444444,
             "#bd3786"
            ],
            [
             0.5555555555555556,
             "#d8576b"
            ],
            [
             0.6666666666666666,
             "#ed7953"
            ],
            [
             0.7777777777777778,
             "#fb9f3a"
            ],
            [
             0.8888888888888888,
             "#fdca26"
            ],
            [
             1,
             "#f0f921"
            ]
           ],
           "sequentialminus": [
            [
             0,
             "#0d0887"
            ],
            [
             0.1111111111111111,
             "#46039f"
            ],
            [
             0.2222222222222222,
             "#7201a8"
            ],
            [
             0.3333333333333333,
             "#9c179e"
            ],
            [
             0.4444444444444444,
             "#bd3786"
            ],
            [
             0.5555555555555556,
             "#d8576b"
            ],
            [
             0.6666666666666666,
             "#ed7953"
            ],
            [
             0.7777777777777778,
             "#fb9f3a"
            ],
            [
             0.8888888888888888,
             "#fdca26"
            ],
            [
             1,
             "#f0f921"
            ]
           ]
          },
          "colorway": [
           "#636efa",
           "#EF553B",
           "#00cc96",
           "#ab63fa",
           "#FFA15A",
           "#19d3f3",
           "#FF6692",
           "#B6E880",
           "#FF97FF",
           "#FECB52"
          ],
          "font": {
           "color": "#2a3f5f"
          },
          "geo": {
           "bgcolor": "white",
           "lakecolor": "white",
           "landcolor": "#E5ECF6",
           "showlakes": true,
           "showland": true,
           "subunitcolor": "white"
          },
          "hoverlabel": {
           "align": "left"
          },
          "hovermode": "closest",
          "mapbox": {
           "style": "light"
          },
          "paper_bgcolor": "white",
          "plot_bgcolor": "#E5ECF6",
          "polar": {
           "angularaxis": {
            "gridcolor": "white",
            "linecolor": "white",
            "ticks": ""
           },
           "bgcolor": "#E5ECF6",
           "radialaxis": {
            "gridcolor": "white",
            "linecolor": "white",
            "ticks": ""
           }
          },
          "scene": {
           "xaxis": {
            "backgroundcolor": "#E5ECF6",
            "gridcolor": "white",
            "gridwidth": 2,
            "linecolor": "white",
            "showbackground": true,
            "ticks": "",
            "zerolinecolor": "white"
           },
           "yaxis": {
            "backgroundcolor": "#E5ECF6",
            "gridcolor": "white",
            "gridwidth": 2,
            "linecolor": "white",
            "showbackground": true,
            "ticks": "",
            "zerolinecolor": "white"
           },
           "zaxis": {
            "backgroundcolor": "#E5ECF6",
            "gridcolor": "white",
            "gridwidth": 2,
            "linecolor": "white",
            "showbackground": true,
            "ticks": "",
            "zerolinecolor": "white"
           }
          },
          "shapedefaults": {
           "line": {
            "color": "#2a3f5f"
           }
          },
          "ternary": {
           "aaxis": {
            "gridcolor": "white",
            "linecolor": "white",
            "ticks": ""
           },
           "baxis": {
            "gridcolor": "white",
            "linecolor": "white",
            "ticks": ""
           },
           "bgcolor": "#E5ECF6",
           "caxis": {
            "gridcolor": "white",
            "linecolor": "white",
            "ticks": ""
           }
          },
          "title": {
           "x": 0.05
          },
          "xaxis": {
           "automargin": true,
           "gridcolor": "white",
           "linecolor": "white",
           "ticks": "",
           "title": {
            "standoff": 15
           },
           "zerolinecolor": "white",
           "zerolinewidth": 2
          },
          "yaxis": {
           "automargin": true,
           "gridcolor": "white",
           "linecolor": "white",
           "ticks": "",
           "title": {
            "standoff": 15
           },
           "zerolinecolor": "white",
           "zerolinewidth": 2
          }
         }
        },
        "updatemenus": [
         {
          "buttons": [
           {
            "args": [
             null,
             {
              "frame": {
               "duration": 100,
               "redraw": true
              },
              "fromcurrent": true
             }
            ],
            "label": "Play",
            "method": "animate"
           }
          ],
          "type": "buttons"
         }
        ]
       }
      }
     },
     "metadata": {},
     "output_type": "display_data"
    }
   ],
   "source": [
    "import plotly.graph_objects as go\n",
    "import numpy as np\n",
    "\n",
    "# Generate sample data for multiple frames\n",
    "num_frames = 10\n",
    "points_per_frame = 5\n",
    "\n",
    "# Generate random data for each frame\n",
    "x_data = [np.random.rand(points_per_frame) for _ in range(num_frames)]\n",
    "y_data = [np.random.rand(points_per_frame) for _ in range(num_frames)]\n",
    "\n",
    "# Create the initial figure\n",
    "fig = go.Figure()\n",
    "\n",
    "# Add the initial trace with all points from the first frame\n",
    "fig.add_trace(go.Scatter(x=x_data[0], y=y_data[0], mode='markers'))\n",
    "\n",
    "# Create frames for the animation\n",
    "frames = []\n",
    "x_accumulated = []\n",
    "y_accumulated = []\n",
    "\n",
    "for k in range(num_frames):\n",
    "    x_accumulated.extend(x_data[k])\n",
    "    y_accumulated.extend(y_data[k])\n",
    "    frames.append(go.Frame(data=[go.Scatter(x=x_accumulated, y=y_accumulated, mode='markers')],\n",
    "                           name=f'frame{k}'))\n",
    "\n",
    "# Update the layout to add animation controls\n",
    "fig.update_layout(\n",
    "    updatemenus=[{\n",
    "        'type': 'buttons',\n",
    "        'buttons': [{\n",
    "            'label': 'Play',\n",
    "            'method': 'animate',\n",
    "            'args': [None, {'frame': {'duration': 100, 'redraw': True}, 'fromcurrent': True}]\n",
    "        }]\n",
    "    }]\n",
    ")\n",
    "\n",
    "# Set the frames for the animation\n",
    "fig.frames = frames\n",
    "\n",
    "# Show the figure\n",
    "fig.show()\n"
   ]
  },
  {
   "cell_type": "code",
   "execution_count": 17,
   "metadata": {},
   "outputs": [],
   "source": [
    "#| hide\n",
    "import nbdev; nbdev.nbdev_export()"
   ]
  }
 ],
 "metadata": {
  "kernelspec": {
   "display_name": "python3",
   "language": "python",
   "name": "python3"
  },
  "language_info": {
   "codemirror_mode": {
    "name": "ipython",
    "version": 3
   },
   "file_extension": ".py",
   "mimetype": "text/x-python",
   "name": "python",
   "nbconvert_exporter": "python",
   "pygments_lexer": "ipython3",
   "version": "3.8.10"
  }
 },
 "nbformat": 4,
 "nbformat_minor": 2
}
